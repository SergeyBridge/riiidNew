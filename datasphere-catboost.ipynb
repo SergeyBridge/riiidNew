{
 "nbformat": 4,
 "nbformat_minor": 4,
 "metadata": {
  "kernelspec": {
   "name": "python3",
   "display_name": "Yandex DataSphere Kernel",
   "language": "python"
  },
  "language_info": {
   "nbconvert_exporter": "python",
   "pygments_lexer": "ipython3",
   "file_extension": ".py",
   "version": "3.7.7",
   "mimetype": "text/x-python",
   "codemirror_mode": {
    "name": "ipython",
    "version": 3
   },
   "name": "python"
  },
  "papermill": {
   "duration": 392.708184,
   "end_time": "2020-11-23T16:52:33.291774",
   "environment_variables": {},
   "exception": null,
   "input_path": "__notebook__.ipynb",
   "output_path": "__notebook__.ipynb",
   "parameters": {},
   "start_time": "2020-11-23T16:46:00.583590",
   "version": "2.1.0"
  },
  "notebookId": "49f1538a-c226-4642-b21c-95b4d1717f3e"
 },
 "cells": [
  {
   "cell_type": "code",
   "source": [
    "#!M\n",
    "# !pip install ../input/python-datatable/datatable-0.11.0-cp37-cp37m-manylinux2010_x86_64.whl > /dev/null 2>&1\n",
    "# %pip install --upgrade pip\n",
    "# %pip install -r /home/jupyter/work/resources/riiidNew/requirements.txt --upgrade\n",
    "# print(\"ok\")"
   ],
   "metadata": {
    "_cell_guid": "b1076dfc-b9ad-4769-8c92-a6c4dae69d19",
    "_uuid": "8f2839f25d086af736a60e9eeb907d3b93b6e0e5",
    "papermill": {
     "duration": 30.191831,
     "end_time": "2020-11-23T16:46:34.873724",
     "exception": false,
     "start_time": "2020-11-23T16:46:04.681893",
     "status": "completed"
    },
    "tags": [],
    "cellId": "r4gbiatk8h938d934p4aip",
    "trusted": true
   },
   "outputs": [],
   "execution_count": 1
  },
  {
   "cell_type": "code",
   "source": [
    "#!M\n",
    "import numpy as np\n",
    "import pandas as pd\n",
    "import pyarrow\n",
    "from collections import defaultdict\n",
    "import datatable as dt\n",
    "import lightgbm as lgb\n",
    "\n",
    "from catboost.utils import get_gpu_device_count\n",
    "from catboost import CatBoostClassifier, Pool\n",
    "\n",
    "from matplotlib import pyplot as plt\n",
    "from tqdm import tqdm\n",
    "# import riiideducation\n",
    "import torch\n",
    "import pickle\n",
    "import gc\n",
    "from pathlib import Path\n",
    "\n",
    "from preprocess import preprocess_train_data\n",
    "from catboost_bayesian_search import bayesian_catboost_search, bayesian_catboost_searchCV\n",
    "\n",
    "# Error handling, ignore all\n",
    "np.seterr(divide = 'ignore', invalid = 'ignore')\n",
    "\n",
    "print(f\"pyarrow {pyarrow.__version__}\")\n",
    "print(f\"curdir {Path.cwd()}\")"
   ],
   "metadata": {
    "_cell_guid": "79c7e3d0-c299-4dcb-8224-4455121ee9b0",
    "_uuid": "d629ff2d2480ee46fbb7e2d37f6b5fab8052498a",
    "papermill": {
     "duration": 2.195965,
     "end_time": "2020-11-23T16:46:37.127434",
     "exception": false,
     "start_time": "2020-11-23T16:46:34.931469",
     "status": "completed"
    },
    "tags": [],
    "cellId": "t3n208wi88qtuu9cu40m",
    "trusted": true
   },
   "outputs": [
    {
     "data": {
      "text/plain": "<IPython.core.display.HTML object>",
      "text/html": "<style type='text/css'>\n.datatable table.frame { margin-bottom: 0; }\n.datatable table.frame thead { border-bottom: none; }\n.datatable table.frame tr.coltypes td {  color: #FFFFFF;  line-height: 6px;  padding: 0 0.5em;}\n.datatable .bool    { background: #DDDD99; }\n.datatable .object  { background: #565656; }\n.datatable .int     { background: #5D9E5D; }\n.datatable .float   { background: #4040CC; }\n.datatable .str     { background: #CC4040; }\n.datatable .row_index {  background: var(--jp-border-color3);  border-right: 1px solid var(--jp-border-color0);  color: var(--jp-ui-font-color3);  font-size: 9px;}\n.datatable .frame tr.coltypes .row_index {  background: var(--jp-border-color0);}\n.datatable th:nth-child(2) { padding-left: 12px; }\n.datatable .hellipsis {  color: var(--jp-cell-editor-border-color);}\n.datatable .vellipsis {  background: var(--jp-layout-color0);  color: var(--jp-cell-editor-border-color);}\n.datatable .na {  color: var(--jp-cell-editor-border-color);  font-size: 80%;}\n.datatable .footer { font-size: 9px; }\n.datatable .frame_dimensions {  background: var(--jp-border-color3);  border-top: 1px solid var(--jp-border-color0);  color: var(--jp-ui-font-color3);  display: inline-block;  opacity: 0.6;  padding: 1px 10px 1px 5px;}\n.datatable .frame thead tr.colnames {  background-image: url('data:image/png;base64,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');  background-repeat: repeat-x;  background-size: 14px;  height: 28px;}\n</style>\n"
     },
     "metadata": {},
     "output_type": "display_data"
    },
    {
     "name": "stdout",
     "output_type": "stream",
     "text": [
      "pyarrow 2.0.0\n",
      "curdir /home/sergey/mnt/st1500/Usr/Sergey/TheJob/Challenges/riiidNew\n"
     ]
    }
   ],
   "execution_count": 2
  },
  {
   "cell_type": "code",
   "source": [
    "#!M\n",
    "\n",
    "# Data config\n",
    "\n",
    "# row data dtypes\n",
    "dtypes = {\n",
    "    'row_id': 'int64',\n",
    "    'timestamp': 'int64',\n",
    "    'user_id': 'int32', \n",
    "    'content_id': 'int16', \n",
    "    'content_type_id': 'int8',\n",
    "    'task_container_id': 'int16',\n",
    "    'answered_correctly': 'int8', \n",
    "    'prior_question_elapsed_time': 'float32', \n",
    "    'prior_question_had_explanation': 'bool',\n",
    "    'user_answer': 'int8',\n",
    "}\n",
    "\n",
    "target = 'answered_correctly'\n",
    "\n",
    "homedir = Path.home()\n",
    "print(str(homedir))\n",
    "\n",
    "if str(homedir) == \"/home/sergey\":   # Home computer\n",
    "    kaggle_path = Path.cwd()/\"kaggle_tmp/\"\n",
    "    questions_df = pd.read_csv('/mnt/data30G/2020riiid/questions.csv', usecols = [0, 3], dtype = {'question_id': 'int16', 'part': 'int8'})\n",
    "    # train_df = dt.fread('../input/riiid-test-answer-prediction/train.csv', columns = set(dtypes.keys())).to_pandas()\n",
    "    # train_df = dt.fread('/mnt/data30G/2020riid/train.csv', columns = set(dtypes.keys())).to_pandas()\n",
    "    test_df = pd.read_feather(\"/home/sergey/mnt/4.5Tb/Downloads/riiidCVdata/cv1_valid_1e4.feather\", columns=dtypes.keys())\n",
    "    train_df = pd.read_feather(\"/home/sergey/mnt/4.5Tb/Downloads/riiidCVdata/cv1_train_1e5.feather\", columns=dtypes.keys())\n",
    "    # test_df = pd.read_feather(\"/home/sergey/mnt/4.5Tb/Downloads/riiidCVdata/cv1_valid_1e4.feather\", columns=dtypes.keys())\n",
    "    # train_df = pd.read_feather(\"/home/sergey/mnt/4.5Tb/Downloads/riiidCVdata/cv1_train.feather\", columns=dtypes.keys())\n",
    "    # test_df = pd.read_feather(\"/home/sergey/mnt/4.5Tb/Downloads/riiidCVdata/cv1_valid.feather\", columns=dtypes.keys())\n",
    "\n",
    "elif str(homedir) == \"/root\":   # Datasphere\n",
    "    \n",
    "    path = Path.cwd()/\"riiidNew\"/\"data\"\n",
    "    kaggle_path = Path.cwd()/\"riiidNew\"/\"kaggle/\"\n",
    "    questions_df = pd.read_csv(path/'questions.csv', usecols = [0, 3], dtype = {'question_id': 'int16', 'part': 'int8'})\n",
    "#     train_df = pd.read_feather(path/\"cv1_train_1e5.feather\", columns=dtypes.keys())\n",
    "#     test_df = pd.read_feather(path/\"cv1_valid_1e4.feather\", columns=dtypes.keys())\n",
    "    # test_df = pd.read_feather(path/\"data/cv1_valid_1e4.feather\", columns=dtypes.keys())\n",
    "    # train_df = pd.read_feather(path/\"cv1_train.feather\", columns=dtypes.keys())\n",
    "    # test_df = pd.read_feather(path/\"cv1_valid.feather\", columns=dtypes.keys())\n",
    "    # train_df = dt.fread(path/'train.csv', columns=dtypes.keys()).to_pandas().astype(dtypes, errors=\"ignore\")\n",
    "    # train_df = pd.read_pickle(path/\"cv1_train.pickle.zip\").astype(dtypes, errors=\"ignore\")\n",
    "    # train_df = train_df.iloc[:int(1e6)]\n",
    "    test_df = pd.read_pickle(path/\"cv1_valid.pickle.zip\").astype(dtypes, errors=\"ignore\")\n",
    "    # test_df = test_df.iloc[:int(1e4)]\n",
    "\n",
    "print(f\"train_df shape = {train_df.shape}\")"
   ],
   "metadata": {
    "papermill": {
     "duration": 0.019374,
     "end_time": "2020-11-23T16:46:37.206927",
     "exception": false,
     "start_time": "2020-11-23T16:46:37.187553",
     "status": "completed"
    },
    "tags": [],
    "pycharm": {
     "name": "#%%\n"
    },
    "cellId": "2w1su8za30ahv2yfmd5kho",
    "trusted": true
   },
   "outputs": [
    {
     "name": "stdout",
     "output_type": "stream",
     "text": [
      "/home/sergey\n",
      "train_df shape = (100000, 10)\n"
     ]
    }
   ],
   "execution_count": 3
  },
  {
   "cell_type": "code",
   "source": [
    "#!M\n",
    "train_user_agg, train_content_agg, train_df = preprocess_train_data(train_df, questions_df, target, dtypes)\n",
    "# test_user_agg, test_content_agg, test_df = preprocess_train_data(test_df, questions_df, target, dtypes)"
   ],
   "metadata": {
    "papermill": {
     "duration": 3.111291,
     "end_time": "2020-11-23T16:48:58.928890",
     "exception": false,
     "start_time": "2020-11-23T16:48:55.817599",
     "status": "completed"
    },
    "tags": [],
    "cellId": "s0e18onkl9mn8yt7bhussl",
    "trusted": true
   },
   "outputs": [],
   "execution_count": 4
  },
  {
   "cell_type": "code",
   "source": [
    "#!L\n",
    "features = [\n",
    "    'content_id', 'prior_question_elapsed_time',\n",
    "    'prior_question_had_explanation', 'user_correctness',\n",
    "    'part', 'content_count'\n",
    "]\n",
    "\n",
    "cat_features = [\n",
    "    'prior_question_had_explanation',\n",
    "    'part',\n",
    "]\n",
    "\n",
    "# Catboost initial parameters, to overload next by pds for bayesian search\n",
    "prior_params = {\n",
    "    'loss_function': 'Logloss',\n",
    "    'eval_metric': 'AUC',\n",
    "    'custom_metric': 'AUC:hints=skip_train~false',\n",
    "\n",
    "    'task_type': 'GPU' if str(homedir) == \"/root\" else 'CPU',\n",
    "    # 'task_type': 'GPU' if torch.cuda.is_available() else 'CPU',\n",
    "    'grow_policy': 'Lossguide',\n",
    "    'iterations': 2,\n",
    "    'learning_rate': 4e-3,\n",
    "    'random_seed': 0,\n",
    "    'l2_leaf_reg': 5e-1,\n",
    "    'depth': 10,\n",
    "    'max_leaves': 10,\n",
    "    'border_count': 128,\n",
    "    'verbose': 150,\n",
    "    'od_type': 'Iter',\n",
    "    'od_wait': 50,\n",
    "}\n",
    "\n",
    "# catboost params intervals for bayesian search\n",
    "pds = {\n",
    "    'iterations': [5, 5],\n",
    "    'l2_leaf_reg': [2e-1, 5e2],\n",
    "    'depth': [8, 25],\n",
    "    'max_leaves': [10, 150],\n",
    "    'border_count': [50, 300],\n",
    "\n",
    "}\n",
    "\n",
    "# Parameters dtypes to adjust with catboost\n",
    "pds_dtypes = {\n",
    "    'iterations': int,\n",
    "    'l2_leaf_reg': float,\n",
    "    'depth': int,\n",
    "    'max_leaves': int,\n",
    "    'border_count': int,\n",
    "\n",
    "}\n",
    "\n",
    "# Training and validating data\n",
    "train_set = Pool(train_df[features], label = train_df[target], cat_features=cat_features)\n",
    "# val_set = Pool(test_df[features], label = test_df[target])\n",
    "\n",
    "\n",
    "print(\"optimizer_maxCV\")\n",
    "optimizer_maxCV = bayesian_catboost_searchCV(\n",
    "    train_set,\n",
    "    prior_params=prior_params,\n",
    "    pds=pds, pds_dtypes=pds_dtypes,\n",
    "    init_points=5, n_iter=7, verbose=False,\n",
    ")\n",
    "optimizer_maxCV"
   ],
   "metadata": {
    "papermill": {
     "duration": 207.603145,
     "end_time": "2020-11-23T16:52:31.347675",
     "exception": false,
     "start_time": "2020-11-23T16:49:03.744530",
     "status": "completed"
    },
    "tags": [],
    "cellId": "o8jdczcyj1h3jkjzlxzy9w",
    "trusted": true
   },
   "outputs": [
    {
     "name": "stdout",
     "output_type": "stream",
     "text": [
      "optimizer_maxCV\n",
      "0:\tlearn: 0.7621390\ttest: 0.7731304\tbest: 0.7731304 (0)\ttotal: 259ms\tremaining: 1.03s\n",
      "4:\tlearn: 0.7714667\ttest: 0.7812731\tbest: 0.7812731 (4)\ttotal: 1.02s\tremaining: 0us\n",
      "0:\tlearn: 0.7601587\ttest: 0.7696963\tbest: 0.7696963 (0)\ttotal: 205ms\tremaining: 820ms\n",
      "4:\tlearn: 0.7718994\ttest: 0.7800280\tbest: 0.7802803 (3)\ttotal: 924ms\tremaining: 0us\n",
      "0:\tlearn: 0.7510965\ttest: 0.7610383\tbest: 0.7610383 (0)\ttotal: 188ms\tremaining: 752ms\n",
      "4:\tlearn: 0.7677083\ttest: 0.7781958\tbest: 0.7781958 (4)\ttotal: 821ms\tremaining: 0us\n",
      "0:\tlearn: 0.7660736\ttest: 0.7700233\tbest: 0.7700233 (0)\ttotal: 230ms\tremaining: 919ms\n",
      "4:\tlearn: 0.7761029\ttest: 0.7818350\tbest: 0.7818350 (4)\ttotal: 1.07s\tremaining: 0us\n",
      "0:\tlearn: 0.7592534\ttest: 0.7696615\tbest: 0.7696615 (0)\ttotal: 189ms\tremaining: 756ms\n",
      "4:\tlearn: 0.7707433\ttest: 0.7800399\tbest: 0.7800399 (4)\ttotal: 857ms\tremaining: 0us\n",
      "0:\tlearn: 0.7627999\ttest: 0.7700102\tbest: 0.7700102 (0)\ttotal: 247ms\tremaining: 990ms\n",
      "4:\tlearn: 0.7756123\ttest: 0.7826225\tbest: 0.7826225 (4)\ttotal: 1.05s\tremaining: 0us\n",
      "0:\tlearn: 0.7609288\ttest: 0.7687438\tbest: 0.7687438 (0)\ttotal: 230ms\tremaining: 919ms\n",
      "4:\tlearn: 0.7713740\ttest: 0.7807328\tbest: 0.7807328 (4)\ttotal: 1s\tremaining: 0us\n",
      "0:\tlearn: 0.7622513\ttest: 0.7707239\tbest: 0.7707239 (0)\ttotal: 243ms\tremaining: 971ms\n",
      "4:\tlearn: 0.7724744\ttest: 0.7814454\tbest: 0.7814454 (4)\ttotal: 1.04s\tremaining: 0us\n",
      "0:\tlearn: 0.7599189\ttest: 0.7703036\tbest: 0.7703036 (0)\ttotal: 256ms\tremaining: 1.02s\n",
      "4:\tlearn: 0.7734698\ttest: 0.7818008\tbest: 0.7818008 (4)\ttotal: 1.07s\tremaining: 0us\n",
      "0:\tlearn: 0.7671388\ttest: 0.7731596\tbest: 0.7731596 (0)\ttotal: 289ms\tremaining: 1.16s\n",
      "4:\tlearn: 0.7765531\ttest: 0.7824483\tbest: 0.7824483 (4)\ttotal: 1.17s\tremaining: 0us\n",
      "0:\tlearn: 0.7596190\ttest: 0.7691609\tbest: 0.7691609 (0)\ttotal: 237ms\tremaining: 948ms\n",
      "4:\tlearn: 0.7732382\ttest: 0.7824157\tbest: 0.7824157 (4)\ttotal: 1.01s\tremaining: 0us\n",
      "0:\tlearn: 0.7609313\ttest: 0.7684166\tbest: 0.7684166 (0)\ttotal: 254ms\tremaining: 1.01s\n",
      "4:\tlearn: 0.7729415\ttest: 0.7809470\tbest: 0.7809470 (4)\ttotal: 1.07s\tremaining: 0us\n"
     ]
    },
    {
     "data": {
      "text/plain": "{'target': 0.7826224717081707,\n 'params': {'border_count': 59.24590839640105,\n  'depth': 8.133500024364942,\n  'iterations': 5.0,\n  'l2_leaf_reg': 390.4505023285588,\n  'max_leaves': 103.55240947973235}}"
     },
     "execution_count": 5,
     "metadata": {},
     "output_type": "execute_result"
    }
   ],
   "execution_count": 5
  },
  {
   "cell_type": "code",
   "execution_count": 6,
   "outputs": [
    {
     "data": {
      "text/plain": "{'loss_function': 'Logloss',\n 'eval_metric': 'AUC',\n 'custom_metric': 'AUC:hints=skip_train~false',\n 'task_type': 'CPU',\n 'grow_policy': 'Lossguide',\n 'iterations': 5,\n 'learning_rate': 0.004,\n 'random_seed': 0,\n 'l2_leaf_reg': 390.4505023285588,\n 'depth': 8,\n 'max_leaves': 103,\n 'border_count': 59,\n 'verbose': 150,\n 'od_type': 'Iter',\n 'od_wait': 50}"
     },
     "execution_count": 6,
     "metadata": {},
     "output_type": "execute_result"
    }
   ],
   "source": [
    "pds_fitted = {key: pds_dtypes[key](val) for key, val in optimizer_maxCV[\"params\"].items()}\n",
    "params = prior_params.copy()\n",
    "params.update(pds_fitted)\n",
    "params"
   ],
   "metadata": {
    "collapsed": false,
    "pycharm": {
     "name": "#%%\n"
    }
   }
  },
  {
   "cell_type": "code",
   "execution_count": 7,
   "outputs": [
    {
     "name": "stdout",
     "output_type": "stream",
     "text": [
      "0:\tlearn: 0.7652921\ttotal: 79.5ms\tremaining: 318ms\n",
      "4:\tlearn: 0.7800193\ttotal: 402ms\tremaining: 0us\n",
      "kaggle_path /home/sergey/mnt/st1500/Usr/Sergey/TheJob/Challenges/riiidNew/kaggle_tmp\n"
     ]
    }
   ],
   "source": [
    "# Ratio is 6/24 = 25%\n",
    "# valid_df = train_df.groupby('user_id').tail(6)\n",
    "# train_df.drop(valid_df.index, inplace = True)\n",
    "\n",
    "# val_set = Pool(valid_df[features], label = valid_df[target])\n",
    "\n",
    "# Model definition\n",
    "model = CatBoostClassifier(**params)\n",
    "\n",
    "# Fitting\n",
    "model.fit(train_set)\n",
    "print(f\"kaggle_path {kaggle_path}\")\n",
    "\n",
    "model.save_model(f\"{kaggle_path/'catboost.model'}\")"
   ],
   "metadata": {
    "collapsed": false,
    "pycharm": {
     "name": "#%%\n"
    }
   }
  },
  {
   "cell_type": "code",
   "execution_count": 8,
   "outputs": [],
   "source": [
    "exit(1)"
   ],
   "metadata": {
    "collapsed": false,
    "pycharm": {
     "name": "#%%\n"
    }
   }
  },
  {
   "cell_type": "markdown",
   "source": [
    "\n",
    "{'loss_function': 'Logloss', 'eval_metric': 'AUC', 'task_type': 'GPU', 'grow_policy': 'Lossguide', 'iterations': 15000, 'learning_rate': 0.01, 'random_seed': 0, 'l2_leaf_reg': 0.1, 'depth': 8, 'border_count': 128, 'verbose': 150, 'od_type': 'Iter', 'od_wait': 50}\n",
    "bestTest = 0.7371392846\n",
    "\n",
    "bestTest = 0.7370638549\n",
    "bestTest = 0.7364509702\n"
   ],
   "metadata": {
    "cellId": "nl7v0tm6byjfdfngg11ydh"
   }
  },
  {
   "cell_type": "code",
   "source": [
    "model.get_best_score()"
   ],
   "metadata": {
    "cellId": "c1pc7wh24o8ipu8gk23jbh",
    "trusted": true
   },
   "outputs": [
    {
     "data": {
      "text/plain": "{'learn': {'Logloss': 0.6907528451690224, 'AUC': 0.7800192517423378}}"
     },
     "execution_count": 9,
     "metadata": {},
     "output_type": "execute_result"
    }
   ],
   "execution_count": 9
  },
  {
   "cell_type": "markdown",
   "source": [
    "# Inference"
   ],
   "metadata": {
    "papermill": {
     "duration": 0.051177,
     "end_time": "2020-11-23T16:52:31.451640",
     "exception": false,
     "start_time": "2020-11-23T16:52:31.400463",
     "status": "completed"
    },
    "tags": [],
    "pycharm": {
     "name": "#%% md\n"
    },
    "cellId": "ba4wdwyypnjxlgzfd769b9"
   }
  },
  {
   "cell_type": "code",
   "source": [
    "#!M\n",
    "user_sum_dict = train_user_agg['sum'].astype('int32').to_dict(defaultdict(int))\n",
    "user_count_dict = train_user_agg['count'].astype('int32').to_dict(defaultdict(int))\n",
    "content_sum_dict = train_content_agg['sum'].astype('int32').to_dict(defaultdict(int))\n",
    "content_count_dict = train_content_agg['count'].astype('int32').to_dict(defaultdict(int))\n",
    "\n",
    "for filename, dic in zip([\"user_sum_dict\", \"user_count_dict\", \"content_sum_dict\", \"content_count_dict\"],\n",
    "                         [user_sum_dict, user_count_dict, content_sum_dict, content_count_dict]):\n",
    "    with open(f'{kaggle_path}/{filename}.pickle', 'wb') as handle:\n",
    "        pickle.dump(dic, handle)\n"
   ],
   "metadata": {
    "papermill": {
     "duration": 0.618845,
     "end_time": "2020-11-23T16:52:32.122494",
     "exception": false,
     "start_time": "2020-11-23T16:52:31.503649",
     "status": "completed"
    },
    "tags": [],
    "cellId": "7ui7ur3vc7044m7d88w7h2",
    "trusted": true
   },
   "outputs": [],
   "execution_count": 10
  },
  {
   "cell_type": "code",
   "source": [
    "train_df.head()\n",
    "del train_df\n",
    "gc.collect()\n"
   ],
   "metadata": {
    "cellId": "t8443l740slicr5x1cuvl"
   },
   "outputs": [
    {
     "data": {
      "text/plain": "645"
     },
     "execution_count": 11,
     "metadata": {},
     "output_type": "execute_result"
    }
   ],
   "execution_count": 11
  },
  {
   "cell_type": "code",
   "source": [
    "%%time\n",
    "validaten_flg = True\n",
    "if validaten_flg:\n",
    "    from emulator import Iter_Valid\n",
    "    iter_test = Iter_Valid(test_df,max_user=1000)\n",
    "    predicted = []\n",
    "    def set_predict(df):\n",
    "        predicted.append(df)\n",
    "else:\n",
    "    import riiideducation\n",
    "    env = riiideducation.make_env()\n",
    "    iter_test = env.iter_test()\n",
    "    set_predict = env.predict"
   ],
   "metadata": {
    "cellId": "6qrpfrl3bhn281e5c5twea"
   },
   "outputs": [
    {
     "name": "stdout",
     "output_type": "stream",
     "text": [
      "CPU times: user 27.3 ms, sys: 7.74 ms, total: 35 ms\n",
      "Wall time: 35.2 ms\n"
     ]
    }
   ],
   "execution_count": 12
  },
  {
   "cell_type": "code",
   "source": [
    "# cumcount = sum([len(df) for df in predicted])\n",
    "# count = 0\n",
    "# pbar = tqdm(total=cumcount)\n",
    "# previous_test_df = None\n",
    "# for (current_test, current_prediction_df) in iter_test:\n",
    "#     count+=1\n",
    "#     if previous_test_df is not None:\n",
    "#         answers = eval(current_test[\"prior_group_answers_correct\"].iloc[0])\n",
    "#         responses = eval(current_test[\"prior_group_responses\"].iloc[0])\n",
    "#         previous_test_df['answered_correctly'] = answers\n",
    "#         previous_test_df['user_answer'] = responses\n",
    "#         # your feature extraction and model training code here\n",
    "#     previous_test_df = current_test.copy()\n",
    "#     current_test = current_test[current_test.content_type_id == 0]\n",
    "#     # your prediction code here\n",
    "#     current_test['answered_correctly'] = model.predict(current_test[features])  # 0.5\n",
    "#     set_predict(current_test.loc[:,['row_id', 'answered_correctly']])\n",
    "#     pbar.update(len(current_test))\n",
    "# print(f\"count {count} {len(predicted)}\")"
   ],
   "metadata": {
    "papermill": {
     "duration": 466.435487,
     "end_time": "2020-11-13T14:06:20.068150",
     "exception": false,
     "start_time": "2020-11-13T13:58:33.632663",
     "status": "completed"
    },
    "tags": [],
    "cellId": "hkq3ce6f9zot3ymxi9x1s"
   },
   "outputs": [],
   "execution_count": 13
  },
  {
   "cell_type": "code",
   "source": [
    "%%time\n",
    "\n",
    "prior_test_df = None\n",
    "for (test_df, sample_prediction_df) in iter_test:\n",
    "    if prior_test_df is not None:\n",
    "        prior_test_df[target] = eval(test_df['prior_group_answers_correct'].iloc[0])\n",
    "        prior_test_df = prior_test_df[prior_test_df[target] != -1].reset_index(drop = True)\n",
    "        \n",
    "        user_ids = prior_test_df['user_id'].values\n",
    "        content_ids = prior_test_df['content_id'].values\n",
    "        targets = prior_test_df[target].values\n",
    "\n",
    "        # for user_id, content_id, answered_correctly in prior_test_df[[\"user_id\", \"content_id\", target]].values:\n",
    "        for user_id, content_id, answered_correctly in zip(user_ids, content_ids, targets):\n",
    "            user_sum_dict[user_id] += answered_correctly\n",
    "            user_count_dict[user_id] += 1\n",
    "            content_sum_dict[content_id] += answered_correctly\n",
    "            content_count_dict[content_id] += 1\n",
    "\n",
    "    prior_test_df = test_df.copy()\n",
    "    \n",
    "    test_df = test_df[test_df['content_type_id'] == 0].reset_index(drop = True)\n",
    "    test_df.drop(labels=\"part\", axis=1, inplace=True)\n",
    "    test_df.content_id = test_df.content_id.astype(int)\n",
    "    \n",
    "    test_df = pd.merge(test_df, questions_df, left_on = 'content_id', right_on = 'question_id', how = 'left')\n",
    "    test_df['prior_question_had_explanation'] = test_df['prior_question_had_explanation'].fillna(False).astype('bool')    \n",
    "    user_sum = np.zeros(len(test_df), dtype = np.int32)\n",
    "    user_count = np.zeros(len(test_df), dtype = np.int32)\n",
    "    content_sum = np.zeros(len(test_df), dtype = np.int32)\n",
    "    content_count = np.zeros(len(test_df), dtype = np.int32)\n",
    "    \n",
    "    for i, (user_id, content_id) in enumerate(zip(test_df['user_id'].values, test_df['content_id'].values)):\n",
    "        user_sum[i] = user_sum_dict[user_id]\n",
    "        user_count[i] = user_count_dict[user_id]\n",
    "        content_sum[i] = content_sum_dict[content_id]\n",
    "        content_count[i] = content_count_dict[content_id]\n",
    "\n",
    "    test_df['user_correctness'] = user_sum / user_count\n",
    "    test_df['content_count'] = content_count\n",
    "    test_df['content_id'] = content_sum / content_count\n",
    "    test_df[target] = model.predict_proba(test_df[features])[:,1]\n",
    "    set_predict(test_df[['row_id', target]])"
   ],
   "metadata": {
    "collapsed": false,
    "pycharm": {
     "name": "#%%\n"
    },
    "jupyter": {
     "outputs_hidden": false
    },
    "cellId": "yzork8xo17phg263eq5lvj"
   },
   "outputs": [
    {
     "ename": "KeyError",
     "evalue": "\"['part'] not found in axis\"",
     "output_type": "error",
     "traceback": [
      "\u001B[0;31m---------------------------------------------------------------------------\u001B[0m",
      "\u001B[0;31mKeyError\u001B[0m                                  Traceback (most recent call last)",
      "\u001B[0;32m<timed exec>\u001B[0m in \u001B[0;36m<module>\u001B[0;34m\u001B[0m\n",
      "\u001B[0;32m~/anaconda3/envs/riiidNew/lib/python3.8/site-packages/pandas/core/frame.py\u001B[0m in \u001B[0;36mdrop\u001B[0;34m(self, labels, axis, index, columns, level, inplace, errors)\u001B[0m\n\u001B[1;32m   4161\u001B[0m                 \u001B[0mweight\u001B[0m  \u001B[0;36m1.0\u001B[0m     \u001B[0;36m0.8\u001B[0m\u001B[0;34m\u001B[0m\u001B[0;34m\u001B[0m\u001B[0m\n\u001B[1;32m   4162\u001B[0m         \"\"\"\n\u001B[0;32m-> 4163\u001B[0;31m         return super().drop(\n\u001B[0m\u001B[1;32m   4164\u001B[0m             \u001B[0mlabels\u001B[0m\u001B[0;34m=\u001B[0m\u001B[0mlabels\u001B[0m\u001B[0;34m,\u001B[0m\u001B[0;34m\u001B[0m\u001B[0;34m\u001B[0m\u001B[0m\n\u001B[1;32m   4165\u001B[0m             \u001B[0maxis\u001B[0m\u001B[0;34m=\u001B[0m\u001B[0maxis\u001B[0m\u001B[0;34m,\u001B[0m\u001B[0;34m\u001B[0m\u001B[0;34m\u001B[0m\u001B[0m\n",
      "\u001B[0;32m~/anaconda3/envs/riiidNew/lib/python3.8/site-packages/pandas/core/generic.py\u001B[0m in \u001B[0;36mdrop\u001B[0;34m(self, labels, axis, index, columns, level, inplace, errors)\u001B[0m\n\u001B[1;32m   3885\u001B[0m         \u001B[0;32mfor\u001B[0m \u001B[0maxis\u001B[0m\u001B[0;34m,\u001B[0m \u001B[0mlabels\u001B[0m \u001B[0;32min\u001B[0m \u001B[0maxes\u001B[0m\u001B[0;34m.\u001B[0m\u001B[0mitems\u001B[0m\u001B[0;34m(\u001B[0m\u001B[0;34m)\u001B[0m\u001B[0;34m:\u001B[0m\u001B[0;34m\u001B[0m\u001B[0;34m\u001B[0m\u001B[0m\n\u001B[1;32m   3886\u001B[0m             \u001B[0;32mif\u001B[0m \u001B[0mlabels\u001B[0m \u001B[0;32mis\u001B[0m \u001B[0;32mnot\u001B[0m \u001B[0;32mNone\u001B[0m\u001B[0;34m:\u001B[0m\u001B[0;34m\u001B[0m\u001B[0;34m\u001B[0m\u001B[0m\n\u001B[0;32m-> 3887\u001B[0;31m                 \u001B[0mobj\u001B[0m \u001B[0;34m=\u001B[0m \u001B[0mobj\u001B[0m\u001B[0;34m.\u001B[0m\u001B[0m_drop_axis\u001B[0m\u001B[0;34m(\u001B[0m\u001B[0mlabels\u001B[0m\u001B[0;34m,\u001B[0m \u001B[0maxis\u001B[0m\u001B[0;34m,\u001B[0m \u001B[0mlevel\u001B[0m\u001B[0;34m=\u001B[0m\u001B[0mlevel\u001B[0m\u001B[0;34m,\u001B[0m \u001B[0merrors\u001B[0m\u001B[0;34m=\u001B[0m\u001B[0merrors\u001B[0m\u001B[0;34m)\u001B[0m\u001B[0;34m\u001B[0m\u001B[0;34m\u001B[0m\u001B[0m\n\u001B[0m\u001B[1;32m   3888\u001B[0m \u001B[0;34m\u001B[0m\u001B[0m\n\u001B[1;32m   3889\u001B[0m         \u001B[0;32mif\u001B[0m \u001B[0minplace\u001B[0m\u001B[0;34m:\u001B[0m\u001B[0;34m\u001B[0m\u001B[0;34m\u001B[0m\u001B[0m\n",
      "\u001B[0;32m~/anaconda3/envs/riiidNew/lib/python3.8/site-packages/pandas/core/generic.py\u001B[0m in \u001B[0;36m_drop_axis\u001B[0;34m(self, labels, axis, level, errors)\u001B[0m\n\u001B[1;32m   3919\u001B[0m                 \u001B[0mnew_axis\u001B[0m \u001B[0;34m=\u001B[0m \u001B[0maxis\u001B[0m\u001B[0;34m.\u001B[0m\u001B[0mdrop\u001B[0m\u001B[0;34m(\u001B[0m\u001B[0mlabels\u001B[0m\u001B[0;34m,\u001B[0m \u001B[0mlevel\u001B[0m\u001B[0;34m=\u001B[0m\u001B[0mlevel\u001B[0m\u001B[0;34m,\u001B[0m \u001B[0merrors\u001B[0m\u001B[0;34m=\u001B[0m\u001B[0merrors\u001B[0m\u001B[0;34m)\u001B[0m\u001B[0;34m\u001B[0m\u001B[0;34m\u001B[0m\u001B[0m\n\u001B[1;32m   3920\u001B[0m             \u001B[0;32melse\u001B[0m\u001B[0;34m:\u001B[0m\u001B[0;34m\u001B[0m\u001B[0;34m\u001B[0m\u001B[0m\n\u001B[0;32m-> 3921\u001B[0;31m                 \u001B[0mnew_axis\u001B[0m \u001B[0;34m=\u001B[0m \u001B[0maxis\u001B[0m\u001B[0;34m.\u001B[0m\u001B[0mdrop\u001B[0m\u001B[0;34m(\u001B[0m\u001B[0mlabels\u001B[0m\u001B[0;34m,\u001B[0m \u001B[0merrors\u001B[0m\u001B[0;34m=\u001B[0m\u001B[0merrors\u001B[0m\u001B[0;34m)\u001B[0m\u001B[0;34m\u001B[0m\u001B[0;34m\u001B[0m\u001B[0m\n\u001B[0m\u001B[1;32m   3922\u001B[0m             \u001B[0mresult\u001B[0m \u001B[0;34m=\u001B[0m \u001B[0mself\u001B[0m\u001B[0;34m.\u001B[0m\u001B[0mreindex\u001B[0m\u001B[0;34m(\u001B[0m\u001B[0;34m**\u001B[0m\u001B[0;34m{\u001B[0m\u001B[0maxis_name\u001B[0m\u001B[0;34m:\u001B[0m \u001B[0mnew_axis\u001B[0m\u001B[0;34m}\u001B[0m\u001B[0;34m)\u001B[0m\u001B[0;34m\u001B[0m\u001B[0;34m\u001B[0m\u001B[0m\n\u001B[1;32m   3923\u001B[0m \u001B[0;34m\u001B[0m\u001B[0m\n",
      "\u001B[0;32m~/anaconda3/envs/riiidNew/lib/python3.8/site-packages/pandas/core/indexes/base.py\u001B[0m in \u001B[0;36mdrop\u001B[0;34m(self, labels, errors)\u001B[0m\n\u001B[1;32m   5280\u001B[0m         \u001B[0;32mif\u001B[0m \u001B[0mmask\u001B[0m\u001B[0;34m.\u001B[0m\u001B[0many\u001B[0m\u001B[0;34m(\u001B[0m\u001B[0;34m)\u001B[0m\u001B[0;34m:\u001B[0m\u001B[0;34m\u001B[0m\u001B[0;34m\u001B[0m\u001B[0m\n\u001B[1;32m   5281\u001B[0m             \u001B[0;32mif\u001B[0m \u001B[0merrors\u001B[0m \u001B[0;34m!=\u001B[0m \u001B[0;34m\"ignore\"\u001B[0m\u001B[0;34m:\u001B[0m\u001B[0;34m\u001B[0m\u001B[0;34m\u001B[0m\u001B[0m\n\u001B[0;32m-> 5282\u001B[0;31m                 \u001B[0;32mraise\u001B[0m \u001B[0mKeyError\u001B[0m\u001B[0;34m(\u001B[0m\u001B[0;34mf\"{labels[mask]} not found in axis\"\u001B[0m\u001B[0;34m)\u001B[0m\u001B[0;34m\u001B[0m\u001B[0;34m\u001B[0m\u001B[0m\n\u001B[0m\u001B[1;32m   5283\u001B[0m             \u001B[0mindexer\u001B[0m \u001B[0;34m=\u001B[0m \u001B[0mindexer\u001B[0m\u001B[0;34m[\u001B[0m\u001B[0;34m~\u001B[0m\u001B[0mmask\u001B[0m\u001B[0;34m]\u001B[0m\u001B[0;34m\u001B[0m\u001B[0;34m\u001B[0m\u001B[0m\n\u001B[1;32m   5284\u001B[0m         \u001B[0;32mreturn\u001B[0m \u001B[0mself\u001B[0m\u001B[0;34m.\u001B[0m\u001B[0mdelete\u001B[0m\u001B[0;34m(\u001B[0m\u001B[0mindexer\u001B[0m\u001B[0;34m)\u001B[0m\u001B[0;34m\u001B[0m\u001B[0;34m\u001B[0m\u001B[0m\n",
      "\u001B[0;31mKeyError\u001B[0m: \"['part'] not found in axis\""
     ]
    }
   ],
   "execution_count": 14
  },
  {
   "cell_type": "code",
   "execution_count": 14,
   "outputs": [],
   "source": [],
   "metadata": {
    "collapsed": false,
    "pycharm": {
     "name": "#%%\n"
    }
   }
  }
 ]
}