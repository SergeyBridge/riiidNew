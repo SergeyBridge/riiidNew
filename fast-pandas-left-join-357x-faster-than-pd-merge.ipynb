{
 "cells": [
  {
   "cell_type": "markdown",
   "metadata": {
    "papermill": {
     "duration": 0.01149,
     "end_time": "2020-11-14T06:53:23.248449",
     "exception": false,
     "start_time": "2020-11-14T06:53:23.236959",
     "status": "completed"
    },
    "tags": []
   },
   "source": [
    "# FAST PANDAS LEFT JOIN (357x faster)\n",
    "\n",
    "Hi, I think many people are irritated overhead to join each test dataframe with user dataframes (or content dataframes). For the left join and the case when the right table index is unique, we can join them much faster than pd.merge.\n",
    "\n",
    "* UPDATE: added the method @alijs1 mentioned (`right_index=True`), 10x faster.\n",
    "* UPDATE: added the method @doctorkael mentioned (`right_index=True`and present users), 45x faster.\n",
    "\n",
    "Discussion: https://www.kaggle.com/c/riiid-test-answer-prediction/discussion/197023"
   ]
  },
  {
   "cell_type": "code",
   "execution_count": 14,
   "metadata": {
    "_cell_guid": "b1076dfc-b9ad-4769-8c92-a6c4dae69d19",
    "_uuid": "8f2839f25d086af736a60e9eeb907d3b93b6e0e5",
    "execution": {
     "iopub.execute_input": "2020-11-14T06:53:23.271048Z",
     "iopub.status.busy": "2020-11-14T06:53:23.270116Z",
     "iopub.status.idle": "2020-11-14T06:53:23.279878Z",
     "shell.execute_reply": "2020-11-14T06:53:23.279369Z"
    },
    "papermill": {
     "duration": 0.022689,
     "end_time": "2020-11-14T06:53:23.279986",
     "exception": false,
     "start_time": "2020-11-14T06:53:23.257297",
     "status": "completed"
    },
    "tags": []
   },
   "outputs": [
    {
     "ename": "ImportError",
     "evalue": "dynamic module does not define module export function (PyInit_riiideducation)",
     "output_type": "error",
     "traceback": [
      "\u001b[0;31m---------------------------------------------------------------------------\u001b[0m",
      "\u001b[0;31mImportError\u001b[0m                               Traceback (most recent call last)",
      "\u001b[0;32m<ipython-input-14-cfbe382eac27>\u001b[0m in \u001b[0;36m<module>\u001b[0;34m\u001b[0m\n\u001b[1;32m      5\u001b[0m \u001b[0msys\u001b[0m\u001b[0;34m.\u001b[0m\u001b[0mpath\u001b[0m\u001b[0;34m.\u001b[0m\u001b[0mappend\u001b[0m\u001b[0;34m(\u001b[0m\u001b[0;34m\"./input/riiideducation\"\u001b[0m\u001b[0;34m)\u001b[0m\u001b[0;34m\u001b[0m\u001b[0;34m\u001b[0m\u001b[0m\n\u001b[1;32m      6\u001b[0m \u001b[0;31m# import cpython_37m_x86_64_linux_gnu\u001b[0m\u001b[0;34m\u001b[0m\u001b[0;34m\u001b[0m\u001b[0;34m\u001b[0m\u001b[0m\n\u001b[0;32m----> 7\u001b[0;31m \u001b[0;32mimport\u001b[0m \u001b[0mriiideducation\u001b[0m\u001b[0;34m\u001b[0m\u001b[0;34m\u001b[0m\u001b[0m\n\u001b[0m\u001b[1;32m      8\u001b[0m \u001b[0;34m\u001b[0m\u001b[0m\n",
      "\u001b[0;31mImportError\u001b[0m: dynamic module does not define module export function (PyInit_riiideducation)"
     ]
    }
   ],
   "source": [
    "import numpy as np # linear algebra\n",
    "import pandas as pd # data processing, CSV file I/O (e.g. pd.read_csv)\n",
    "import pyximport; pyximport.install()\n",
    "import sys\n",
    "sys.path.append(\"./input/riiideducation\")\n",
    "# import cpython_37m_x86_64_linux_gnu\n",
    "# import riiideducation"
   ]
  },
  {
   "cell_type": "code",
   "execution_count": null,
   "metadata": {
    "_cell_guid": "79c7e3d0-c299-4dcb-8224-4455121ee9b0",
    "_uuid": "d629ff2d2480ee46fbb7e2d37f6b5fab8052498a",
    "execution": {
     "iopub.execute_input": "2020-11-14T06:53:23.303413Z",
     "iopub.status.busy": "2020-11-14T06:53:23.302644Z",
     "iopub.status.idle": "2020-11-14T06:54:11.974091Z",
     "shell.execute_reply": "2020-11-14T06:54:11.973492Z"
    },
    "papermill": {
     "duration": 48.685261,
     "end_time": "2020-11-14T06:54:11.974236",
     "exception": false,
     "start_time": "2020-11-14T06:53:23.288975",
     "status": "completed"
    },
    "tags": []
   },
   "outputs": [],
   "source": [
    "users = pd.read_csv('./input/train.csv', usecols=['user_id'])['user_id'].unique()\n"
   ]
  },
  {
   "cell_type": "markdown",
   "metadata": {
    "papermill": {
     "duration": 0.013172,
     "end_time": "2020-11-14T06:54:12.001788",
     "exception": false,
     "start_time": "2020-11-14T06:54:11.988616",
     "status": "completed"
    },
    "tags": []
   },
   "source": [
    "### Maybe, you have a user dataframe like this."
   ]
  },
  {
   "cell_type": "code",
   "execution_count": null,
   "metadata": {
    "execution": {
     "iopub.execute_input": "2020-11-14T06:54:12.030785Z",
     "iopub.status.busy": "2020-11-14T06:54:12.029720Z",
     "iopub.status.idle": "2020-11-14T06:54:12.585656Z",
     "shell.execute_reply": "2020-11-14T06:54:12.586149Z"
    },
    "papermill": {
     "duration": 0.57377,
     "end_time": "2020-11-14T06:54:12.586294",
     "exception": false,
     "start_time": "2020-11-14T06:54:12.012524",
     "status": "completed"
    },
    "tags": []
   },
   "outputs": [],
   "source": [
    "n_cols = 100\n",
    "df_user = pd.DataFrame(np.random.random((users.shape[0], n_cols)), index=users, columns=[f'feat{i}' for i in range(n_cols)])\n",
    "df_user.index.name = 'user_id'\n",
    "print(df_user.shape)\n",
    "df_user"
   ]
  },
  {
   "cell_type": "markdown",
   "metadata": {
    "papermill": {
     "duration": 0.010372,
     "end_time": "2020-11-14T06:54:12.607512",
     "exception": false,
     "start_time": "2020-11-14T06:54:12.597140",
     "status": "completed"
    },
    "tags": []
   },
   "source": [
    "# Comparison"
   ]
  },
  {
   "cell_type": "code",
   "execution_count": null,
   "metadata": {
    "execution": {
     "iopub.execute_input": "2020-11-14T06:54:12.636530Z",
     "iopub.status.busy": "2020-11-14T06:54:12.635889Z",
     "iopub.status.idle": "2020-11-14T06:54:12.985694Z",
     "shell.execute_reply": "2020-11-14T06:54:12.985022Z"
    },
    "papermill": {
     "duration": 0.367807,
     "end_time": "2020-11-14T06:54:12.985814",
     "exception": false,
     "start_time": "2020-11-14T06:54:12.618007",
     "status": "completed"
    },
    "tags": []
   },
   "outputs": [],
   "source": [
    "# prepare data\n",
    "env = riiideducation.make_env()\n",
    "iter_test = env.iter_test()\n",
    "\n",
    "list_df = []\n",
    "for itr, (df_test, sample_prediction_df) in enumerate(iter_test):\n",
    "    df_test.loc[:, 'answered_correctly'] = 0.5\n",
    "    list_df.append(df_test)\n",
    "    env.predict(df_test.loc[df_test['content_type_id'] == 0, ['row_id', 'answered_correctly']])"
   ]
  },
  {
   "cell_type": "markdown",
   "metadata": {
    "papermill": {
     "duration": 0.010175,
     "end_time": "2020-11-14T06:54:13.006488",
     "exception": false,
     "start_time": "2020-11-14T06:54:12.996313",
     "status": "completed"
    },
    "tags": []
   },
   "source": [
    "# pd.merge()\n",
    "\n",
    "It should takes around 1.75 sec."
   ]
  },
  {
   "cell_type": "code",
   "execution_count": null,
   "metadata": {
    "execution": {
     "iopub.execute_input": "2020-11-14T06:54:13.033636Z",
     "iopub.status.busy": "2020-11-14T06:54:13.032929Z",
     "iopub.status.idle": "2020-11-14T06:54:26.424636Z",
     "shell.execute_reply": "2020-11-14T06:54:26.424041Z"
    },
    "papermill": {
     "duration": 13.40758,
     "end_time": "2020-11-14T06:54:26.424753",
     "exception": false,
     "start_time": "2020-11-14T06:54:13.017173",
     "status": "completed"
    },
    "tags": []
   },
   "outputs": [],
   "source": [
    "%%timeit\n",
    "for df_test in list_df:\n",
    "    df_test.merge(df_user, how='left', on='user_id')"
   ]
  },
  {
   "cell_type": "markdown",
   "metadata": {
    "papermill": {
     "duration": 0.010678,
     "end_time": "2020-11-14T06:54:26.446371",
     "exception": false,
     "start_time": "2020-11-14T06:54:26.435693",
     "status": "completed"
    },
    "tags": []
   },
   "source": [
    "# pd.merge() with right_index=True\n",
    "\n",
    "Mentioned by @alijs1 in https://www.kaggle.com/c/riiid-test-answer-prediction/discussion/197023.\n",
    "\n",
    "It should takes around 139 ms. This is 13 times faster!"
   ]
  },
  {
   "cell_type": "code",
   "execution_count": null,
   "metadata": {
    "execution": {
     "iopub.execute_input": "2020-11-14T06:54:26.475071Z",
     "iopub.status.busy": "2020-11-14T06:54:26.474429Z",
     "iopub.status.idle": "2020-11-14T06:54:36.816355Z",
     "shell.execute_reply": "2020-11-14T06:54:36.815703Z"
    },
    "papermill": {
     "duration": 10.358899,
     "end_time": "2020-11-14T06:54:36.816474",
     "exception": false,
     "start_time": "2020-11-14T06:54:26.457575",
     "status": "completed"
    },
    "tags": []
   },
   "outputs": [],
   "source": [
    "%%timeit\n",
    "for df_test in list_df:\n",
    "    df_test.merge(df_user, how='left', left_on='user_id', right_index=True)"
   ]
  },
  {
   "cell_type": "markdown",
   "metadata": {
    "papermill": {
     "duration": 0.011348,
     "end_time": "2020-11-14T06:54:36.839579",
     "exception": false,
     "start_time": "2020-11-14T06:54:36.828231",
     "status": "completed"
    },
    "tags": []
   },
   "source": [
    "# pd.merge() with right_index=True and the present users filtering\n",
    "\n",
    "Mentioned by @doctorkael in https://www.kaggle.com/c/riiid-test-answer-prediction/discussion/197023.\n",
    "\n",
    "It should takes around 38.3 ms. This is 45 times faster!"
   ]
  },
  {
   "cell_type": "code",
   "execution_count": null,
   "metadata": {
    "execution": {
     "iopub.execute_input": "2020-11-14T06:54:36.868903Z",
     "iopub.status.busy": "2020-11-14T06:54:36.868187Z",
     "iopub.status.idle": "2020-11-14T06:54:39.732160Z",
     "shell.execute_reply": "2020-11-14T06:54:39.731618Z"
    },
    "papermill": {
     "duration": 2.881353,
     "end_time": "2020-11-14T06:54:39.732271",
     "exception": false,
     "start_time": "2020-11-14T06:54:36.850918",
     "status": "completed"
    },
    "tags": []
   },
   "outputs": [],
   "source": [
    "%%timeit\n",
    "for df_test in list_df:\n",
    "    df_test.merge(df_user.loc[df_user.index.isin(df_test['user_id'])],\n",
    "                  how='left', left_on='user_id', right_index=True)"
   ]
  },
  {
   "cell_type": "markdown",
   "metadata": {
    "papermill": {
     "duration": 0.011458,
     "end_time": "2020-11-14T06:54:39.755420",
     "exception": false,
     "start_time": "2020-11-14T06:54:39.743962",
     "status": "completed"
    },
    "tags": []
   },
   "source": [
    "### Fast left join\n",
    "It should takes around 4.89 ms sec, <span style=\"color: red; \">**357 TIMES FASTER!!!!!!**</span>"
   ]
  },
  {
   "cell_type": "code",
   "execution_count": null,
   "metadata": {
    "execution": {
     "iopub.execute_input": "2020-11-14T06:54:39.785643Z",
     "iopub.status.busy": "2020-11-14T06:54:39.785030Z",
     "iopub.status.idle": "2020-11-14T06:54:43.868543Z",
     "shell.execute_reply": "2020-11-14T06:54:43.869004Z"
    },
    "papermill": {
     "duration": 4.101518,
     "end_time": "2020-11-14T06:54:43.869157",
     "exception": false,
     "start_time": "2020-11-14T06:54:39.767639",
     "status": "completed"
    },
    "tags": []
   },
   "outputs": [],
   "source": [
    "%%timeit\n",
    "for df_test in list_df:\n",
    "    pd.concat([df_test.reset_index(drop=True), df_user.reindex(df_test['user_id'].values).reset_index(drop=True)], axis=1)"
   ]
  },
  {
   "cell_type": "markdown",
   "metadata": {
    "papermill": {
     "duration": 0.012232,
     "end_time": "2020-11-14T06:54:43.894496",
     "exception": false,
     "start_time": "2020-11-14T06:54:43.882264",
     "status": "completed"
    },
    "tags": []
   },
   "source": [
    "# Of course, they are equivalent.\n",
    "\n",
    "But, `right_index=True` preserves the original left index. `reset_index(drop=True)` is required to be equal."
   ]
  },
  {
   "cell_type": "code",
   "execution_count": null,
   "metadata": {
    "execution": {
     "iopub.execute_input": "2020-11-14T06:54:43.928078Z",
     "iopub.status.busy": "2020-11-14T06:54:43.927278Z",
     "iopub.status.idle": "2020-11-14T06:54:45.933314Z",
     "shell.execute_reply": "2020-11-14T06:54:45.932445Z"
    },
    "papermill": {
     "duration": 2.026572,
     "end_time": "2020-11-14T06:54:45.933535",
     "exception": false,
     "start_time": "2020-11-14T06:54:43.906963",
     "status": "completed"
    },
    "tags": []
   },
   "outputs": [],
   "source": [
    "for df_test in list_df:\n",
    "    df_merge = df_test.merge(df_user, how='left', on='user_id')\n",
    "    df_merge_right_index = df_test.merge(df_user, how='left',\n",
    "                                         left_on='user_id', right_index=True).reset_index(drop=True)\n",
    "    df_merge_right_index_user = df_test.merge(df_user.loc[df_user.index.isin(df_test['user_id'])],\n",
    "                                              how='left', left_on='user_id', right_index=True).reset_index(drop=True)\n",
    "    df_fast_merge = pd.concat([df_test.reset_index(drop=True),\n",
    "                               df_user.reindex(df_test['user_id'].values).reset_index(drop=True)], axis=1)\n",
    "    print(df_merge.equals(df_merge_right_index), \n",
    "          df_merge.equals(df_merge_right_index_user), \n",
    "          df_merge.equals(df_fast_merge), \n",
    "          )"
   ]
  },
  {
   "cell_type": "markdown",
   "metadata": {
    "papermill": {
     "duration": 0.018292,
     "end_time": "2020-11-14T06:54:45.975651",
     "exception": false,
     "start_time": "2020-11-14T06:54:45.957359",
     "status": "completed"
    },
    "tags": []
   },
   "source": [
    "Enjoy your kaggle life!!!"
   ]
  }
 ],
 "metadata": {
  "kernelspec": {
   "display_name": "Python 3",
   "language": "python",
   "name": "python3"
  },
  "language_info": {
   "codemirror_mode": {
    "name": "ipython",
    "version": 3
   },
   "file_extension": ".py",
   "mimetype": "text/x-python",
   "name": "python",
   "nbconvert_exporter": "python",
   "pygments_lexer": "ipython3",
   "version": "3.8.5"
  },
  "papermill": {
   "duration": 87.860353,
   "end_time": "2020-11-14T06:54:47.027725",
   "environment_variables": {},
   "exception": null,
   "input_path": "__notebook__.ipynb",
   "output_path": "__notebook__.ipynb",
   "parameters": {},
   "start_time": "2020-11-14T06:53:19.167372",
   "version": "2.1.0"
  }
 },
 "nbformat": 4,
 "nbformat_minor": 4
}
