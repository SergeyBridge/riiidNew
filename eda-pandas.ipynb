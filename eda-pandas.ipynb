{
 "nbformat": 4,
 "nbformat_minor": 4,
 "metadata": {
  "kernelspec": {
   "name": "python3",
   "display_name": "Yandex DataSphere Kernel",
   "language": "python"
  },
  "language_info": {
   "pygments_lexer": "ipython3",
   "file_extension": ".py",
   "version": "3.7.7",
   "mimetype": "text/x-python",
   "codemirror_mode": {
    "name": "ipython",
    "version": 3
   },
   "name": "python",
   "nbconvert_exporter": "python"
  },
  "notebookId": "abbef5dc-30f0-4e04-9a8c-80036ff04ffd"
 },
 "cells": [
  {
   "cell_type": "code",
   "source": [
    "\n",
    "import gc\n",
    "\n",
    "from tqdm import tqdm\n",
    "import numpy as np\n",
    "import pandas as pd\n",
    "\n",
    "from copy import copy\n",
    "from pathlib import Path\n",
    "from time import time, sleep\n",
    "# from contextlib import contextmanager\n",
    "import matplotlib.pyplot as plt\n",
    "import plotly.express as plx\n",
    "import seaborn as sns\n",
    "\n",
    "import os, sys\n",
    "import gc\n",
    "\n",
    "import config\n",
    "from preprocess import preprocess_train_data\n",
    "import preprocess\n",
    "\n",
    "# from emulator import Iter_Valid\n",
    "pd.set_option('display.max_rows', 120)\n",
    "plt.style.use(\"dark_background\")\n",
    "plt.rcParams['figure.figsize'] = (20, 15)\n",
    "\n",
    "# print(plt.style.available)\n",
    "plt.style.use(\"dark_background\")\n",
    "# plt.style.use(\"seaborn-dark\")\n",
    "\n",
    "\n",
    "print(f\"curdir {Path.cwd()}\")"
   ],
   "metadata": {
    "cellId": "p9wc6ir62ikh7ikiad36d"
   },
   "outputs": [
    {
     "name": "stdout",
     "output_type": "stream",
     "text": [
      "curdir /home/sergey/mnt/st1500/Usr/Sergey/TheJob/Challenges/riiidNew\n"
     ]
    }
   ],
   "execution_count": 38
  },
  {
   "cell_type": "code",
   "source": [
    "%%time\n",
    "\n",
    "data_path = Path(\"/home/sergey/mnt/4.5Tb/Downloads/riiidCVdata\")\n",
    "data_ssd = Path(\"/mnt/data30G/2020riiid\")\n",
    "train_df = pd.read_feather(data_path/\"train_1e5.feather\", columns=config.dtypes.keys())  # .drop(\"row_id\", axis=1)\n",
    "# train_df = pd.read_feather(data_ssd/\"riiid_train.feather\", columns=config.dtypes.keys())  # .drop(\"row_id\", axis=1)\n",
    "questions_df = pd.read_csv(data_path/'questions.csv')\n",
    "lectures_df = pd.read_csv(data_path/'lectures.csv')\n",
    "\n",
    "# train_lectures_pd = train_df.loc[train_df.answered_correctly == -1]\n",
    "# train_df = train_df.loc[train_df.answered_correctly != -1]\n",
    "\n",
    "\n",
    "print(\"ok\")"
   ],
   "metadata": {
    "collapsed": false,
    "jupyter": {
     "outputs_hidden": false
    },
    "pycharm": {
     "name": "#%%\n"
    },
    "cellId": "6308rg89hpf1tha8xtxcnq"
   },
   "outputs": [
    {
     "name": "stdout",
     "output_type": "stream",
     "text": [
      "ok\n",
      "CPU times: user 27.1 ms, sys: 3.97 ms, total: 31 ms\n",
      "Wall time: 23.9 ms\n"
     ]
    }
   ],
   "execution_count": 39
  },
  {
   "cell_type": "code",
   "source": [
    "%%time\n",
    "\n",
    "train_df.astype(config.dtypes)\n",
    "train_user_agg, train_content_agg, train_df = preprocess_train_data(train_df, questions_df, config.target, config.dtypes)\n"
   ],
   "metadata": {
    "cellId": "yrbi1vjimfq6lbvofckdnn"
   },
   "outputs": [
    {
     "name": "stdout",
     "output_type": "stream",
     "text": [
      "CPU times: user 95.9 ms, sys: 0 ns, total: 95.9 ms\n",
      "Wall time: 99.7 ms\n"
     ]
    }
   ],
   "execution_count": 40
  },
  {
   "cell_type": "code",
   "source": [
    "%%time\n",
    "train_df.groupby(\"user_id\")[[\"timestamp\", \"prior_question_elapsed_time\"]].agg([\"mean\", \"min\", \"max\", \"count\"])"
   ],
   "metadata": {
    "cellId": "xlafanjhy9wwhrful6txk"
   },
   "outputs": [
    {
     "name": "stdout",
     "output_type": "stream",
     "text": [
      "CPU times: user 14 ms, sys: 102 µs, total: 14.1 ms\n",
      "Wall time: 12.2 ms\n"
     ]
    },
    {
     "data": {
      "text/plain": "            timestamp                                  \\\n                 mean          min          max count   \nuser_id                                                 \n115      1.954877e+08       534187    668090043    24   \n124      4.366048e+05       189483       571323    24   \n2746     3.689378e+05            0       835457    19   \n5382     9.503012e+08    393751288   2101551456    24   \n8623     6.959320e+08    576911875    862338736    24   \n...               ...          ...          ...   ...   \n2058478  4.420435e+05            0       867885    17   \n2066347  1.544670e+10  13537270452  20300691390    24   \n2067931  7.422448e+07      1712517     89062366    24   \n2073472  1.820232e+10  17961413616  18250788722    24   \n2078569  1.128040e+08     90098833    153842445    24   \n\n        prior_question_elapsed_time                          \n                               mean      min      max count  \nuser_id                                                      \n115                    18749.958984  14333.0  23000.0    24  \n124                    17833.208984   6500.0  33333.0    24  \n2746                   18055.554688  13000.0  28000.0    18  \n5382                   30916.666016   5000.0  72000.0    24  \n8623                   17750.000000  10000.0  37000.0    24  \n...                             ...      ...      ...   ...  \n2058478                40187.500000  17000.0  82000.0    16  \n2066347                25041.666016  10000.0  47000.0    24  \n2067931                17291.666016  10000.0  46000.0    24  \n2073472                16583.333984   5000.0  29000.0    24  \n2078569                17583.333984   6000.0  37000.0    24  \n\n[349 rows x 8 columns]",
      "text/html": "<div>\n<style scoped>\n    .dataframe tbody tr th:only-of-type {\n        vertical-align: middle;\n    }\n\n    .dataframe tbody tr th {\n        vertical-align: top;\n    }\n\n    .dataframe thead tr th {\n        text-align: left;\n    }\n\n    .dataframe thead tr:last-of-type th {\n        text-align: right;\n    }\n</style>\n<table border=\"1\" class=\"dataframe\">\n  <thead>\n    <tr>\n      <th></th>\n      <th colspan=\"4\" halign=\"left\">timestamp</th>\n      <th colspan=\"4\" halign=\"left\">prior_question_elapsed_time</th>\n    </tr>\n    <tr>\n      <th></th>\n      <th>mean</th>\n      <th>min</th>\n      <th>max</th>\n      <th>count</th>\n      <th>mean</th>\n      <th>min</th>\n      <th>max</th>\n      <th>count</th>\n    </tr>\n    <tr>\n      <th>user_id</th>\n      <th></th>\n      <th></th>\n      <th></th>\n      <th></th>\n      <th></th>\n      <th></th>\n      <th></th>\n      <th></th>\n    </tr>\n  </thead>\n  <tbody>\n    <tr>\n      <th>115</th>\n      <td>1.954877e+08</td>\n      <td>534187</td>\n      <td>668090043</td>\n      <td>24</td>\n      <td>18749.958984</td>\n      <td>14333.0</td>\n      <td>23000.0</td>\n      <td>24</td>\n    </tr>\n    <tr>\n      <th>124</th>\n      <td>4.366048e+05</td>\n      <td>189483</td>\n      <td>571323</td>\n      <td>24</td>\n      <td>17833.208984</td>\n      <td>6500.0</td>\n      <td>33333.0</td>\n      <td>24</td>\n    </tr>\n    <tr>\n      <th>2746</th>\n      <td>3.689378e+05</td>\n      <td>0</td>\n      <td>835457</td>\n      <td>19</td>\n      <td>18055.554688</td>\n      <td>13000.0</td>\n      <td>28000.0</td>\n      <td>18</td>\n    </tr>\n    <tr>\n      <th>5382</th>\n      <td>9.503012e+08</td>\n      <td>393751288</td>\n      <td>2101551456</td>\n      <td>24</td>\n      <td>30916.666016</td>\n      <td>5000.0</td>\n      <td>72000.0</td>\n      <td>24</td>\n    </tr>\n    <tr>\n      <th>8623</th>\n      <td>6.959320e+08</td>\n      <td>576911875</td>\n      <td>862338736</td>\n      <td>24</td>\n      <td>17750.000000</td>\n      <td>10000.0</td>\n      <td>37000.0</td>\n      <td>24</td>\n    </tr>\n    <tr>\n      <th>...</th>\n      <td>...</td>\n      <td>...</td>\n      <td>...</td>\n      <td>...</td>\n      <td>...</td>\n      <td>...</td>\n      <td>...</td>\n      <td>...</td>\n    </tr>\n    <tr>\n      <th>2058478</th>\n      <td>4.420435e+05</td>\n      <td>0</td>\n      <td>867885</td>\n      <td>17</td>\n      <td>40187.500000</td>\n      <td>17000.0</td>\n      <td>82000.0</td>\n      <td>16</td>\n    </tr>\n    <tr>\n      <th>2066347</th>\n      <td>1.544670e+10</td>\n      <td>13537270452</td>\n      <td>20300691390</td>\n      <td>24</td>\n      <td>25041.666016</td>\n      <td>10000.0</td>\n      <td>47000.0</td>\n      <td>24</td>\n    </tr>\n    <tr>\n      <th>2067931</th>\n      <td>7.422448e+07</td>\n      <td>1712517</td>\n      <td>89062366</td>\n      <td>24</td>\n      <td>17291.666016</td>\n      <td>10000.0</td>\n      <td>46000.0</td>\n      <td>24</td>\n    </tr>\n    <tr>\n      <th>2073472</th>\n      <td>1.820232e+10</td>\n      <td>17961413616</td>\n      <td>18250788722</td>\n      <td>24</td>\n      <td>16583.333984</td>\n      <td>5000.0</td>\n      <td>29000.0</td>\n      <td>24</td>\n    </tr>\n    <tr>\n      <th>2078569</th>\n      <td>1.128040e+08</td>\n      <td>90098833</td>\n      <td>153842445</td>\n      <td>24</td>\n      <td>17583.333984</td>\n      <td>6000.0</td>\n      <td>37000.0</td>\n      <td>24</td>\n    </tr>\n  </tbody>\n</table>\n<p>349 rows × 8 columns</p>\n</div>"
     },
     "execution_count": 41,
     "metadata": {},
     "output_type": "execute_result"
    }
   ],
   "execution_count": 41
  },
  {
   "cell_type": "code",
   "execution_count": 43,
   "outputs": [
    {
     "name": "stdout",
     "output_type": "stream",
     "text": [
      "train_df_mean.shape\n",
      "(349, 1)\n",
      "prior_question_elapsed_time  mean    348\n",
      "dtype: int64\n"
     ]
    },
    {
     "data": {
      "text/plain": "(array([  9.,  35., 168.,  80.,  34.,  10.,   7.,   1.,   2.,   2.]),\n array([ 1333.375,  8649.759, 15966.143, 23282.525, 30598.91 , 37915.293,\n        45231.676, 52548.06 , 59864.445, 67180.83 , 74497.21 ],\n       dtype=float32),\n <BarContainer object of 10 artists>)"
     },
     "execution_count": 43,
     "metadata": {},
     "output_type": "execute_result"
    },
    {
     "data": {
      "text/plain": "<Figure size 1440x1080 with 1 Axes>",
      "image/png": "[encoded data removed]"
     },
     "metadata": {},
     "output_type": "display_data"
    }
   ],
   "source": [
    "train_df_mean = train_df.groupby(\"user_id\")[[\"prior_question_elapsed_time\"]].agg([\"mean\"])\n",
    "print(\"train_df_mean.shape\")\n",
    "print(train_df_mean.shape)\n",
    "print(train_df_mean.count())\n",
    "plt.hist(train_df_mean)"
   ],
   "metadata": {
    "collapsed": false,
    "pycharm": {
     "name": "#%%\n"
    }
   }
  },
  {
   "cell_type": "code",
   "source": [
    "%%time\n",
    "target = \"answered_correctly\"\n",
    "# Answer for the previous questions of users\n",
    "train_df['lag'] = train_df.groupby('user_id')[target].shift()\n",
    "print(type(train_df['lag']))\n",
    "# For each user (groupby('user_id')), compute the cummulative number of correct answers and number answers in general\n",
    "groupby = train_df.groupby('user_id')['lag']\n",
    "print(type(groupby))\n",
    "cum = groupby.agg(['cumsum', 'cumcount'])\n",
    "\n",
    "# User correctness (measure the users' learning progress)\n",
    "train_df['user_correctness'] = cum['cumsum'] / cum['cumcount']\n",
    "# Drop the 'lag' feature\n",
    "train_df.drop(columns = ['lag'], inplace = True)"
   ],
   "metadata": {
    "cellId": "a9oz93yuxi4k0w31elp2w"
   },
   "outputs": [],
   "execution_count": null
  },
  {
   "cell_type": "code",
   "source": [
    "y_train = train_df.pop(\"answered_correctly\")\n",
    "\n",
    "y_train.compute()\n"
   ],
   "metadata": {
    "cellId": "12u83gb71mr9ke0arog4j"
   },
   "outputs": [],
   "execution_count": null
  },
  {
   "cell_type": "code",
   "source": [
    "%%time\n",
    "\n",
    "for col, dtype in dtypes.items():\n",
    "    if col not in [\"timestamp\", \"prior_question_elapsed_time\"]:\n",
    "        train_df[col] = train_df[col].astype(dtype, errors=\"ignore\")\n",
    "        gc.collect()\n",
    "        # valid_pd[col] = valid_pd[col].astype(dtype, errors=\"ignore\")\n",
    "\n",
    "train_df.timestamp = (train_df.timestamp/(1000)).astype(np.int16, errors=\"ignore\")\n",
    "train_df.prior_question_elapsed_time = (train_df.prior_question_elapsed_time/1000).astype(np.int8, errors=\"ignore\")\n",
    "\n",
    "y_train = train_df.pop(\"answered_correctly\")\n",
    "gc.collect()"
   ],
   "metadata": {
    "collapsed": false,
    "jupyter": {
     "outputs_hidden": false
    },
    "pycharm": {
     "name": "#%%\n"
    },
    "cellId": "c4vkr39bjknb3i14hqwe4u"
   },
   "outputs": [],
   "execution_count": null
  },
  {
   "cell_type": "code",
   "source": [
    "train_df.head()"
   ],
   "metadata": {
    "cellId": "77c8bgkdavvla8x11x5fjm"
   },
   "outputs": [],
   "execution_count": null
  },
  {
   "cell_type": "code",
   "source": [
    "\n",
    "train_df = train_df.loc[train_df.content_type_id == 0]\n",
    "# valid_pd = valid_pd.loc[valid_pd.content_type_id == 0]\n",
    "\n",
    "# valid_pd = valid_pd.iloc[:int(1e4)]\n",
    "# valid_pd.to_feather(\"/home/sergey/mnt/4.5Tb/Downloads/riiidCVdata/cv1_valid_1e4.feather\")\n",
    "\n",
    "print(\"train_df.shape\", train_df.shape)\n",
    "# print(\"valid_pd.shape\", valid_pd.shape)\n",
    "train_df.head()"
   ],
   "metadata": {
    "collapsed": false,
    "jupyter": {
     "outputs_hidden": false
    },
    "pycharm": {
     "name": "#%%\n"
    },
    "cellId": "e4htfj9g0v51y66rrs213p"
   },
   "outputs": [],
   "execution_count": null
  },
  {
   "cell_type": "code",
   "source": [
    "\n",
    "print(train_df.timestamp.max(), train_df.prior_question_elapsed_time.max())"
   ],
   "metadata": {
    "cellId": "6utx2iiwjvltk6jj4txuaf"
   },
   "outputs": [],
   "execution_count": null
  },
  {
   "cell_type": "code",
   "source": [
    "print(train_df.timestamp.mean(), train_df.prior_question_elapsed_time.mean())"
   ],
   "metadata": {
    "cellId": "92hiymv38k51z7jm04bl1q"
   },
   "outputs": [],
   "execution_count": null
  },
  {
   "cell_type": "code",
   "source": [
    "print(train_df.timestamp.median(), train_df.prior_question_elapsed_time.median())"
   ],
   "metadata": {
    "pycharm": {
     "name": "#%%\n"
    },
    "cellId": "pkgvgznho3jxqg7gmv6h5n"
   },
   "outputs": [],
   "execution_count": null
  },
  {
   "cell_type": "code",
   "source": [
    "plt.figure(figsize=(15, 7))\n",
    "train_df.timestamp.hist(bins=50);"
   ],
   "metadata": {
    "pycharm": {
     "name": "#%%\n"
    },
    "cellId": "8x3mn36otv56szavclt1ky"
   },
   "outputs": [],
   "execution_count": null
  },
  {
   "cell_type": "code",
   "source": [],
   "metadata": {
    "cellId": "wf0u1x75mnisq7ud6y356"
   },
   "outputs": [],
   "execution_count": null
  },
  {
   "cell_type": "code",
   "source": [
    "print(f'Of the {train_df.user_id.nunique()} users in train we have {train_df[train_df.timestamp == 0].user_id.nunique()} users with a timestamp zero row.')"
   ],
   "metadata": {
    "collapsed": false,
    "jupyter": {
     "outputs_hidden": false
    },
    "pycharm": {
     "name": "#%%\n"
    },
    "cellId": "lea7hgpgs1dcd1x5e8ox6c"
   },
   "outputs": [],
   "execution_count": null
  },
  {
   "cell_type": "code",
   "source": [
    "train_df = train_df.loc[train_df.content_type_id == 0]\n",
    "# valid_pd = valid_pd.loc[valid_pd.content_type_id == 0]\n",
    "\n",
    "# valid_pd = valid_pd.iloc[:int(1e4)]\n",
    "# valid_pd.to_feather(\"/home/sergey/mnt/4.5Tb/Downloads/riiidCVdata/cv1_valid_1e4.feather\")\n",
    "\n",
    "print(\"train_df.shape\", train_df.shape)\n",
    "# print(\"valid_pd.shape\", valid_pd.shape)\n",
    "train_df.head()"
   ],
   "metadata": {
    "collapsed": false,
    "jupyter": {
     "outputs_hidden": false
    },
    "pycharm": {
     "name": "#%%\n"
    },
    "cellId": "dw9xlp7drm4tsoxd5g3779"
   },
   "outputs": [],
   "execution_count": null
  },
  {
   "cell_type": "code",
   "source": [
    "train_df.info()"
   ],
   "metadata": {
    "pycharm": {
     "name": "#%%\n"
    },
    "cellId": "u83es315o4f4pim0l2wich"
   },
   "outputs": [],
   "execution_count": null
  },
  {
   "cell_type": "markdown",
   "source": [
    "## ПРОПУСКИ"
   ],
   "metadata": {
    "pycharm": {
     "name": "#%% md\n"
    },
    "cellId": "z7fgg4xqvxddfsco3x0c5a"
   }
  },
  {
   "cell_type": "markdown",
   "source": [
    "### prior_question_had_explanation"
   ],
   "metadata": {
    "pycharm": {
     "name": "#%% md\n"
    },
    "cellId": "e4jpb4zj4llcnzhlqp1pc6"
   }
  },
  {
   "cell_type": "code",
   "source": [
    "# в prior_question_had_explanation пропуски заполняем False\n",
    "train_df.prior_question_had_explanation = train_df.prior_question_had_explanation.fillna(False)\n",
    "train_df.prior_question_had_explanation.value_counts(dropna=False)"
   ],
   "metadata": {
    "collapsed": false,
    "jupyter": {
     "outputs_hidden": false
    },
    "pycharm": {
     "name": "#%%\n"
    },
    "cellId": "msrw2l3z3joiu6w12ov5is"
   },
   "outputs": [],
   "execution_count": null
  },
  {
   "cell_type": "markdown",
   "source": [
    "### prior_question_elapsed_time"
   ],
   "metadata": {
    "pycharm": {
     "name": "#%% md\n"
    },
    "cellId": "blm9c42c2v5kxardcqm91m"
   }
  },
  {
   "cell_type": "code",
   "source": [
    "# Попробую забить нулями, потом подумать\n",
    "# TODO\n",
    "train_df.prior_question_elapsed_time = train_df.prior_question_elapsed_time.fillna(0)\n"
   ],
   "metadata": {
    "collapsed": false,
    "jupyter": {
     "outputs_hidden": false
    },
    "pycharm": {
     "name": "#%%\n"
    },
    "cellId": "9ssqsq1h6lef40vk7aui7q"
   },
   "outputs": [],
   "execution_count": null
  },
  {
   "cell_type": "code",
   "source": [
    "train_df.isna().any()"
   ],
   "metadata": {
    "collapsed": false,
    "jupyter": {
     "outputs_hidden": false
    },
    "pycharm": {
     "name": "#%%\n"
    },
    "cellId": "9mbf3s52kim9hz427vbl"
   },
   "outputs": [],
   "execution_count": null
  },
  {
   "cell_type": "code",
   "source": [
    "%%time\n",
    "# train_dd = dd.from_pandas(train_df)\n",
    "# users = train_dd.groupby(\"user_id\")\n",
    "train_dd = dd.read_parquet(\"/home/sergey/mnt/4.5Tb/Downloads/riiidCVdata/train.parquet\", low_memory=False, dtype=dtypes)\n",
    "# train_dd = dd.read_csv(\"/mnt/data30G/2020riid/train.csv\", low_memory=False)\n",
    "users = train_dd.groupby(\"user_id\").agg(['min', 'max']).compute()\n"
   ],
   "metadata": {
    "collapsed": false,
    "jupyter": {
     "outputs_hidden": false
    },
    "pycharm": {
     "name": "#%%\n"
    },
    "cellId": "aw3ugzlv4qol97g6egem1q"
   },
   "outputs": [],
   "execution_count": null
  },
  {
   "cell_type": "code",
   "source": [
    "users"
   ],
   "metadata": {
    "collapsed": false,
    "jupyter": {
     "outputs_hidden": false
    },
    "pycharm": {
     "name": "#%%\n"
    },
    "cellId": "7oax2coug88x1f4o1y8ca"
   },
   "outputs": [],
   "execution_count": null
  },
  {
   "cell_type": "code",
   "source": [
    "train_df = train_df.loc[train_df.content_type_id == 0]\n",
    "# valid_pd = valid_pd.loc[valid_pd.content_type_id == 0]\n",
    "\n",
    "# valid_pd = valid_pd.iloc[:int(1e4)]\n",
    "# valid_pd.to_feather(\"/home/sergey/mnt/4.5Tb/Downloads/riiidCVdata/cv1_valid_1e4.feather\")\n",
    "\n",
    "print(\"train_df.shape\", train_df.shape)\n",
    "# print(\"valid_pd.shape\", valid_pd.shape)\n",
    "train_df.head()"
   ],
   "metadata": {
    "cellId": "bb9etcaaq7ekinfxvyosfi"
   },
   "outputs": [],
   "execution_count": null
  },
  {
   "cell_type": "code",
   "source": [
    "train_df.isna().any()"
   ],
   "metadata": {
    "cellId": "6c11p9155wbquq8wai2k4"
   },
   "outputs": [],
   "execution_count": null
  },
  {
   "cell_type": "code",
   "source": [
    "%%time\n",
    "# train_dd = dd.from_pandas(train_df)\n",
    "# users = train_dd.groupby(\"user_id\")\n",
    "train_dd = dd.read_parquet(\"/home/sergey/mnt/4.5Tb/Downloads/riiidCVdata/train.parquet\", low_memory=False, dtype=dtypes)\n",
    "# train_dd = dd.read_csv(\"/mnt/data30G/2020riid/train.csv\", low_memory=False)\n",
    "users = train_dd.groupby(\"user_id\").agg(['min', 'max']).compute()\n"
   ],
   "metadata": {
    "cellId": "ldjqohd1jhemciwjh6e9bd"
   },
   "outputs": [],
   "execution_count": null
  },
  {
   "cell_type": "code",
   "source": [
    "users"
   ],
   "metadata": {
    "cellId": "ribq53e58ksmis1xqcdl99"
   },
   "outputs": [],
   "execution_count": null
  },
  {
   "cell_type": "code",
   "source": [
    "train_df = train_df.loc[train_df.content_type_id == 0]\n",
    "# valid_pd = valid_pd.loc[valid_pd.content_type_id == 0]\n",
    "\n",
    "# valid_pd = valid_pd.iloc[:int(1e4)]\n",
    "# valid_pd.to_feather(\"/home/sergey/mnt/4.5Tb/Downloads/riiidCVdata/cv1_valid_1e4.feather\")\n",
    "\n",
    "print(\"train_df.shape\", train_df.shape)\n",
    "# print(\"valid_pd.shape\", valid_pd.shape)\n",
    "train_df.head()"
   ],
   "metadata": {
    "collapsed": false,
    "jupyter": {
     "outputs_hidden": false
    },
    "pycharm": {
     "name": "#%%\n"
    },
    "cellId": "bll6n15yr5cqghs5csp8aq"
   },
   "outputs": [],
   "execution_count": null
  },
  {
   "cell_type": "code",
   "source": [
    "train_df.info()"
   ],
   "metadata": {
    "collapsed": false,
    "jupyter": {
     "outputs_hidden": false
    },
    "pycharm": {
     "name": "#%%\n"
    },
    "cellId": "jqqy74tvwrwsc9pgz9gbo"
   },
   "outputs": [],
   "execution_count": null
  },
  {
   "cell_type": "markdown",
   "source": [
    "## ПРОПУСКИ"
   ],
   "metadata": {
    "pycharm": {
     "name": "#%% md\n"
    },
    "cellId": "yvw3p1ecnchxo87qw5pskb"
   }
  },
  {
   "cell_type": "markdown",
   "source": [
    "### prior_question_had_explanation"
   ],
   "metadata": {
    "pycharm": {
     "name": "#%% md\n"
    },
    "cellId": "tlrdt25gxifivbqc49iom7"
   }
  },
  {
   "cell_type": "code",
   "source": [
    "train_df.prior_question_had_explanation.value_counts(dropna=False)"
   ],
   "metadata": {
    "collapsed": false,
    "jupyter": {
     "outputs_hidden": false
    },
    "pycharm": {
     "name": "#%%\n"
    },
    "cellId": "5wp87juq4ddr3te9i096z"
   },
   "outputs": [],
   "execution_count": null
  },
  {
   "cell_type": "code",
   "source": [
    "len(train_df.loc[train_df.timestamp == 0])"
   ],
   "metadata": {
    "collapsed": false,
    "jupyter": {
     "outputs_hidden": false
    },
    "pycharm": {
     "name": "#%%\n"
    },
    "cellId": "iclqi6ntdziewvu5u33vol"
   },
   "outputs": [],
   "execution_count": null
  },
  {
   "cell_type": "code",
   "source": [],
   "metadata": {
    "collapsed": false,
    "jupyter": {
     "outputs_hidden": false
    },
    "pycharm": {
     "name": "#%%\n"
    },
    "cellId": "fgz46j1g4rl72b2rrdhsk3"
   },
   "outputs": [],
   "execution_count": null
  },
  {
   "cell_type": "code",
   "source": [
    "train_isna = train_df[train_df.prior_question_had_explanation.isna()]\n",
    "train_df = train_df.loc[train_df.prior_question_had_explanation.notna()]\n",
    "\n",
    "print(\"len(train_df[train_df.timestamp == 0])\", len(train_df[train_df.timestamp == 0]))\n",
    "print(\"len(train_df[train_df.content_type_id == 1])\", len(train_df[train_df.content_type_id == 1]))\n",
    "print(\"train_df.shape\", train_df.shape)\n",
    "print(\"train_isna.shape\", train_isna.shape)\n",
    "train_df.head()"
   ],
   "metadata": {
    "collapsed": false,
    "jupyter": {
     "outputs_hidden": false
    },
    "pycharm": {
     "name": "#%%\n"
    },
    "cellId": "go6043xpowbi428ah3p2"
   },
   "outputs": [],
   "execution_count": null
  },
  {
   "cell_type": "code",
   "source": [
    "train_df.user_id.nunique()"
   ],
   "metadata": {
    "cellId": "l1z6u2lckwmabna49kfsim"
   },
   "outputs": [],
   "execution_count": null
  },
  {
   "cell_type": "code",
   "source": [
    "train_df.info()"
   ],
   "metadata": {
    "cellId": "ltiogz1qivk0fr870rq5zhl"
   },
   "outputs": [],
   "execution_count": null
  },
  {
   "cell_type": "code",
   "source": [
    "train_df.memory_usage(deep=True)"
   ],
   "metadata": {
    "cellId": "x9o6rfpyxkmxw62s1x0e5i"
   },
   "outputs": [],
   "execution_count": null
  },
  {
   "cell_type": "code",
   "source": [
    "users = train_df.groupby(\"user_id\")\n",
    "count = 0\n",
    "count_zeros = 0\n",
    "user_attempts = []\n",
    "users_multiple_zero = []\n",
    "for user_id, user_df in users:\n",
    "    user_attempts.append(user_df.shape[0])\n",
    "    zeros_timestamp = len(user_df.loc[user_df.timestamp == 0])\n",
    "    if user_df.prior_question_had_explanation.isna().any():\n",
    "        print(user_id)\n",
    "    if zeros_timestamp > 1:\n",
    "        count_zeros+=1\n",
    "        users_multiple_zero.append(zeros_timestamp)\n",
    "        print(count_zeros, user_id, zeros_timestamp)\n",
    "    count+=1\n",
    "print(count)\n",
    "print(\"users_multiple_zero\", users_multiple_zero)"
   ],
   "metadata": {
    "pycharm": {
     "name": "#%%\n"
    },
    "cellId": "sot7nj1bb9fbwdlurqz88b"
   },
   "outputs": [],
   "execution_count": null
  },
  {
   "cell_type": "markdown",
   "source": [],
   "metadata": {
    "pycharm": {
     "name": "#%% md\n"
    },
    "cellId": "k3vtc789xiiex8b0u6rf8r"
   }
  },
  {
   "cell_type": "code",
   "source": [
    "train_df.loc[train_df.timestamp == 0].user_id.unique()\n"
   ],
   "metadata": {
    "collapsed": false,
    "jupyter": {
     "outputs_hidden": false
    },
    "pycharm": {
     "name": "#%%\n"
    },
    "cellId": "ag5xl52jrxfd3dcbakbiw9"
   },
   "outputs": [],
   "execution_count": null
  },
  {
   "cell_type": "code",
   "source": [
    "plt.figure(figsize=(20, 20))\n",
    "sns.histplot(user_attempts)"
   ],
   "metadata": {
    "collapsed": false,
    "jupyter": {
     "outputs_hidden": false
    },
    "pycharm": {
     "name": "#%%\n"
    },
    "cellId": "ulo6wn7pqlbf8vwc06cou"
   },
   "outputs": [],
   "execution_count": null
  },
  {
   "cell_type": "code",
   "source": [
    "plx.histogram(user_attempts)"
   ],
   "metadata": {
    "collapsed": false,
    "jupyter": {
     "outputs_hidden": false
    },
    "pycharm": {
     "name": "#%%\n"
    },
    "cellId": "5px74kzwlbd81bv66peke"
   },
   "outputs": [],
   "execution_count": null
  },
  {
   "cell_type": "markdown",
   "source": [
    "## Clustering\n"
   ],
   "metadata": {
    "cellId": "nzbkor8hp0n4f8l9uos54v"
   }
  },
  {
   "cell_type": "code",
   "source": [
    "\n"
   ],
   "metadata": {
    "collapsed": false,
    "jupyter": {
     "outputs_hidden": false
    },
    "pycharm": {
     "name": "#%%\n"
    },
    "cellId": "bbpt5faindymrve1xtsq"
   },
   "outputs": [],
   "execution_count": null
  },
  {
   "cell_type": "code",
   "source": [
    "validaten_flg = True\n",
    "if validaten_flg:\n",
    "    iter_test = Iter_Valid(valid_pd,max_user=1000)\n",
    "    predicted = []\n",
    "    def set_predict(df):\n",
    "        predicted.append(df)\n",
    "else:\n",
    "    import riiideducation\n",
    "    env = riiideducation.make_env()\n",
    "    iter_test = env.iter_test()\n",
    "    set_predict = env.predict"
   ],
   "metadata": {
    "collapsed": false,
    "jupyter": {
     "outputs_hidden": false
    },
    "pycharm": {
     "name": "#%%\n"
    },
    "cellId": "piyfvop6c5k8nfndiimj8"
   },
   "outputs": [],
   "execution_count": null
  },
  {
   "cell_type": "markdown",
   "source": [
    "## iterator\n",
    "Now we can use iter_test(wrapper for env.iter_test) and set_predict(wrapper for env.predict) as usual.\n"
   ],
   "metadata": {
    "cellId": "joz9h7hkwzawx7rn9nsem"
   }
  },
  {
   "cell_type": "code",
   "source": [
    "\n",
    "\n",
    "\n",
    "result = train_df.copy()\n",
    "users = train_df.groupby(\"user_id\")\n",
    "count_ = users[\"index\"].count()\n",
    "print(type(count_))\n",
    "max_ = users.max()\n",
    "print(users)\n",
    "# print(users)\n",
    "result = result.merge(count_, left_on=\"user_id\", right_index=True)\n",
    "result = result.merge(max_, left_on=\"user_id\", right_index=True)\n",
    "result.head()\n",
    "# result = result.merge()"
   ],
   "metadata": {
    "collapsed": false,
    "jupyter": {
     "outputs_hidden": false
    },
    "pycharm": {
     "name": "#%%\n"
    },
    "cellId": "2wjlwlkeq6afgbearc21dq"
   },
   "outputs": [],
   "execution_count": null
  },
  {
   "cell_type": "code",
   "source": [
    "# %%time\n",
    "#\n",
    "# # pbar = tqdm(total=2500000)\n",
    "# pbar = tqdm(total=valid_pd.shape[0])\n",
    "# previous_test_df = None\n",
    "# current_list = []\n",
    "# for (current_test, current_prediction_df) in iter_test:\n",
    "#     if previous_test_df is not None:\n",
    "#         answers = eval(current_test[\"prior_group_answers_correct\"].iloc[0])\n",
    "#         responses = eval(current_test[\"prior_group_responses\"].iloc[0])\n",
    "#         previous_test_df['answered_correctly'] = answers\n",
    "#         previous_test_df['user_answer'] = responses\n",
    "#         # your feature extraction and model training code here\n",
    "#\n",
    "#     curtl =  len(current_test)\n",
    "#     current_list.append(curtl)\n",
    "#     previous_test_df = current_test.copy()\n",
    "#     current_test = current_test[current_test.content_type_id == 0]\n",
    "#     # your prediction code here\n",
    "#     current_test['answered_correctly'] = 0.5\n",
    "#     set_predict(current_test.loc[:,['row_id', 'answered_correctly']])\n",
    "#     pbar.update(len(current_test))\n",
    "#"
   ],
   "metadata": {
    "collapsed": false,
    "jupyter": {
     "outputs_hidden": false
    },
    "pycharm": {
     "name": "#%%\n"
    },
    "cellId": "n6fghczd8kcz5yuqp28de"
   },
   "outputs": [],
   "execution_count": null
  },
  {
   "cell_type": "code",
   "source": [
    "%%time\n",
    "\n",
    "# pbar = tqdm(total=2500000)\n",
    "pbar = tqdm(total=valid_pd.shape[0])\n",
    "nlectures = valid_pd.loc[valid_pd.content_type_id == 1].shape[0]\n",
    "previous_test_df = None\n",
    "for (current_test, current_prediction_df) in iter_test:\n",
    "    if previous_test_df is not None:\n",
    "        previous_test_ar = np.array([\n",
    "            eval(current_test[\"prior_group_answers_correct\"].iloc[0]),\n",
    "            eval(current_test[\"prior_group_responses\"].iloc[0]),\n",
    "\n",
    "        ])\n",
    "        # your feature extraction and model training code here\n",
    "\n",
    "    # curtl =  len(current_test)\n",
    "    # current_list.append(curtl)\n",
    "    previous_test_df = current_test.copy()\n",
    "    current_test = current_test[current_test.content_type_id == 0]\n",
    "    # your prediction code here\n",
    "    current_test['answered_correctly'] = 0.5\n",
    "    set_predict(current_test.loc[:,['row_id', 'answered_correctly']])\n",
    "    pbar.update(len(current_test))\n"
   ],
   "metadata": {
    "collapsed": false,
    "jupyter": {
     "outputs_hidden": false
    },
    "pycharm": {
     "name": "#%%\n"
    },
    "cellId": "myq8nfydgc62nh3krbikf"
   },
   "outputs": [],
   "execution_count": null
  },
  {
   "cell_type": "code",
   "source": [
    "curlist_df = pd.DataFrame(current_list, columns=[\"batch_size\"])"
   ],
   "metadata": {
    "collapsed": false,
    "jupyter": {
     "outputs_hidden": false
    },
    "pycharm": {
     "name": "#%%\n"
    },
    "cellId": "9y71jnxo5g5exc6rj5rpr"
   },
   "outputs": [],
   "execution_count": null
  },
  {
   "cell_type": "code",
   "source": [
    "plx.histogram(current_list, nbins=10, width=200, height=300)"
   ],
   "metadata": {
    "collapsed": false,
    "jupyter": {
     "outputs_hidden": false
    },
    "pycharm": {
     "name": "#%%\n"
    },
    "cellId": "eitc7vtcilijh2a4fxrrun"
   },
   "outputs": [],
   "execution_count": null
  },
  {
   "cell_type": "code",
   "source": [
    "%%time\n",
    "# train_dd = train_dd.loc[:10000]\n",
    "print(\"1 train_dd.head()\")\n",
    "\n",
    "# train_dd.head()\n",
    "print(type(train_df))\n",
    "train_df.shape\n"
   ],
   "metadata": {
    "collapsed": false,
    "jupyter": {
     "outputs_hidden": false
    },
    "pycharm": {
     "name": "#%%\n"
    },
    "cellId": "da59uz2ag2ez00q1ir7cf"
   },
   "outputs": [],
   "execution_count": null
  },
  {
   "cell_type": "code",
   "source": "%%time\n\nif \"row_id\" in train_dd.columns:\n    # train.set_index(\"row_id\", inplace=True)\n    train_dd = train_dd.set_index(\"row_id\")\n    # res = train_dd.mean()\n    # res = delayed(train_dd.mean)()\n# res_delayed = res.compute()\nprint(\"res = train_dd.mean()\")\n# print(res_delayed)",
   "metadata": {
    "collapsed": false,
    "jupyter": {
     "outputs_hidden": false
    },
    "pycharm": {
     "name": "#%%\n"
    },
    "cellId": "ku3rw0emfwg73yrukoh87"
   },
   "outputs": [],
   "execution_count": null
  },
  {
   "cell_type": "code",
   "source": "%%time\n\nres_delayed = delayed(train_dd.mean)()\n",
   "metadata": {
    "collapsed": false,
    "jupyter": {
     "outputs_hidden": false
    },
    "pycharm": {
     "name": "#%%\n"
    },
    "cellId": "4pmboyzca2rtdp3kfuw08"
   },
   "outputs": [],
   "execution_count": null
  },
  {
   "cell_type": "code",
   "source": "res_delayed.visualize()",
   "metadata": {
    "collapsed": false,
    "jupyter": {
     "outputs_hidden": false
    },
    "pycharm": {
     "name": "#%%\n"
    },
    "cellId": "5p6n3e4sioieajj8tb6p5"
   },
   "outputs": [],
   "execution_count": null
  },
  {
   "cell_type": "code",
   "source": "%%time\n\nwith ProgressBar():\n    out = res_delayed.compute()\n\n    print(f\" out res_delayed = \\n {out}\")",
   "metadata": {
    "collapsed": false,
    "jupyter": {
     "outputs_hidden": false
    },
    "pycharm": {
     "name": "#%%\n"
    },
    "cellId": "bru0jxo5b5p5fxw85c041t"
   },
   "outputs": [],
   "execution_count": null
  },
  {
   "cell_type": "code",
   "source": "res_delayed.visualize()",
   "metadata": {
    "collapsed": false,
    "jupyter": {
     "outputs_hidden": false
    },
    "pycharm": {
     "name": "#%%\n"
    },
    "cellId": "wmh9a8xoa5cme3jkjoyzfa"
   },
   "outputs": [],
   "execution_count": null
  },
  {
   "cell_type": "code",
   "source": "# train_dd[\"attempt\"] = -1\n\nprint(f\" train_dd.head() 2 = \")\ntrain_dd.head()\n",
   "metadata": {
    "collapsed": false,
    "jupyter": {
     "outputs_hidden": false
    },
    "pycharm": {
     "name": "#%%\n"
    },
    "cellId": "1i1vwdhoqsgyfjzrp112z"
   },
   "outputs": [],
   "execution_count": null
  },
  {
   "cell_type": "code",
   "source": "train_dd.count().compute()",
   "metadata": {
    "collapsed": false,
    "jupyter": {
     "outputs_hidden": false
    },
    "pycharm": {
     "name": "#%%\n"
    },
    "cellId": "khivy4r6uscm9juuhl2h8j"
   },
   "outputs": [],
   "execution_count": null
  },
  {
   "cell_type": "code",
   "source": "len(train_dd) - train_dd.count().compute()",
   "metadata": {
    "collapsed": false,
    "jupyter": {
     "outputs_hidden": false
    },
    "pycharm": {
     "name": "#%%\n"
    },
    "cellId": "8on4mycgx8q9lm9s53icj8"
   },
   "outputs": [],
   "execution_count": null
  },
  {
   "cell_type": "code",
   "source": "print(train_dd.shape[0].compute(), train_dd.shape[1])",
   "metadata": {
    "collapsed": false,
    "jupyter": {
     "outputs_hidden": false
    },
    "pycharm": {
     "name": "#%%\n"
    },
    "cellId": "1p5jhd0v5w5hw1hqmks06ep"
   },
   "outputs": [],
   "execution_count": null
  },
  {
   "cell_type": "code",
   "source": "pd.Series(train_dd.user_id.compute()).nunique()\n",
   "metadata": {
    "collapsed": false,
    "jupyter": {
     "outputs_hidden": false
    },
    "pycharm": {
     "name": "#%%\n"
    },
    "cellId": "68cui23yibneoreu4kelja"
   },
   "outputs": [],
   "execution_count": null
  },
  {
   "cell_type": "code",
   "source": "%%time\nprint(\"max\", train_dd.user_id.compute().value_counts().max())\nprint(\"mean\", train_dd.user_id.compute().value_counts().mean())\nprint(\"median\", train_dd.user_id.compute().value_counts().quantile(.5))",
   "metadata": {
    "collapsed": false,
    "jupyter": {
     "outputs_hidden": false
    },
    "pycharm": {
     "name": "#%%\n"
    },
    "cellId": "4t9cxsox6pxndzjqow0s5g"
   },
   "outputs": [],
   "execution_count": null
  },
  {
   "cell_type": "code",
   "source": "%%time\nmax, mean, median = compute(\n    train_dd.user_id.value_counts().max(),\n    train_dd.user_id.value_counts().mean(),\n    train_dd.user_id.value_counts().quantile(.5)\n)\nprint(max, mean, median)",
   "metadata": {
    "collapsed": false,
    "jupyter": {
     "outputs_hidden": false
    },
    "pycharm": {
     "name": "#%%\n"
    },
    "cellId": "3l5139eaonqejyldw4q9ck"
   },
   "outputs": [],
   "execution_count": null
  },
  {
   "cell_type": "code",
   "source": "def get_user_quantiles(df, plot=False):\n\n    quantiles = []\n    for q in np.arange(start=.4, stop=.8, step=.1):\n        quantiles.append((q, df.user_id.value_counts().quantile(q=q).compute()))\n        if plot:\n            print(f\"quantile {quantiles[-1]}\")\n            plt.plot(*quantiles[-1], marker=\"o\",  c=\"w\")\n    return quantiles",
   "metadata": {
    "collapsed": false,
    "jupyter": {
     "outputs_hidden": false
    },
    "pycharm": {
     "name": "#%%\n"
    },
    "cellId": "byn0xcadqov90tkhmwd1j"
   },
   "outputs": [],
   "execution_count": null
  },
  {
   "cell_type": "code",
   "source": "from sklearn.preprocessing import StandardScaler",
   "metadata": {
    "collapsed": false,
    "jupyter": {
     "outputs_hidden": false
    },
    "pycharm": {
     "name": "#%%\n"
    },
    "cellId": "4i0o9oke3duuoyl3j54nuk"
   },
   "outputs": [],
   "execution_count": null
  },
  {
   "cell_type": "code",
   "source": "train_dd.columns",
   "metadata": {
    "collapsed": false,
    "jupyter": {
     "outputs_hidden": false
    },
    "pycharm": {
     "name": "#%%\n"
    },
    "cellId": "osjdwn4t3q11lu981swkw"
   },
   "outputs": [],
   "execution_count": null
  },
  {
   "cell_type": "code",
   "source": "# total = train_dd.user_id.nunique()\ngroups = train_dd.groupby(by=\"user_id\")\n# total = len(groups.size())\n# print(\"total\", total)",
   "metadata": {
    "collapsed": false,
    "jupyter": {
     "outputs_hidden": false
    },
    "pycharm": {
     "name": "#%%\n"
    },
    "cellId": "xwetyrl0mmoousqhbxuu"
   },
   "outputs": [],
   "execution_count": null
  },
  {
   "cell_type": "code",
   "source": "%%time\ndef print_count(group):\n    print(\"print 1 from print_count\")\n\ngroups_apply = groups.sum()",
   "metadata": {
    "collapsed": false,
    "jupyter": {
     "outputs_hidden": false
    },
    "pycharm": {
     "name": "#%%\n"
    },
    "cellId": "xlxfbotw5dgdjar4h29u36"
   },
   "outputs": [],
   "execution_count": null
  },
  {
   "cell_type": "code",
   "source": "%%time\ngroups_apply.compute()",
   "metadata": {
    "collapsed": false,
    "jupyter": {
     "outputs_hidden": false
    },
    "pycharm": {
     "name": "#%%\n"
    },
    "cellId": "d2cj32qe1ej2a01p58xhhc"
   },
   "outputs": [],
   "execution_count": null
  },
  {
   "cell_type": "code",
   "source": "iter = groups\n",
   "metadata": {
    "collapsed": false,
    "jupyter": {
     "outputs_hidden": false
    },
    "pycharm": {
     "name": "#%%\n"
    },
    "cellId": "6mcd2kfe7cnac60wes1ibh"
   },
   "outputs": [],
   "execution_count": null
  },
  {
   "cell_type": "code",
   "source": "%%time\n\ncontent_id_sum = groups.content_id.sum()\n\nprint(\"content_id_sum.compute()\")\ncontent_id_sum.compute()",
   "metadata": {
    "collapsed": false,
    "jupyter": {
     "outputs_hidden": false
    },
    "pycharm": {
     "name": "#%%\n"
    },
    "cellId": "f5o4fjqwqdjsj742d340r"
   },
   "outputs": [],
   "execution_count": null
  },
  {
   "cell_type": "code",
   "source": "%%time\nagg = groups.aggregate(['sum', 'mean', 'max', 'min', list]).compute()",
   "metadata": {
    "collapsed": false,
    "jupyter": {
     "outputs_hidden": false
    },
    "pycharm": {
     "name": "#%%\n"
    },
    "cellId": "ywvs3a3871ibghhilwwt"
   },
   "outputs": [],
   "execution_count": null
  },
  {
   "cell_type": "code",
   "source": "agg",
   "metadata": {
    "collapsed": false,
    "jupyter": {
     "outputs_hidden": false
    },
    "pycharm": {
     "name": "#%%\n"
    },
    "cellId": "7rvb5jgtju4s8qafjuxc"
   },
   "outputs": [],
   "execution_count": null
  },
  {
   "cell_type": "code",
   "source": "agg.loc[115, \"timestamp\"][\"sum\"]",
   "metadata": {
    "collapsed": false,
    "jupyter": {
     "outputs_hidden": false
    },
    "pycharm": {
     "name": "#%%\n"
    },
    "cellId": "s5j2vmo89kdu0p4c3kizdm"
   },
   "outputs": [],
   "execution_count": null
  },
  {
   "cell_type": "code",
   "source": "with timer(\"rolling values\"):\n    for id, df in tqdm(groups, total=total):\n        print(\"ok\")\n        # print(f\"  user_id = {id}  shape = {df.shape[0]} is_monotonic {df.timestamp.is_monotonic}\")\n        pass\n        # train_dd.loc[df.index, \"attempt\"] = range(1, df.shape[0]+1)\n\n        # quantiles = get_user_quantiles(df=df)\n        #\n        # for quantile, val in quantiles:\n        #     train_dd.loc[df.index, f\"q{quantile}_None\"] = df.timestamp.rolling(\n        #         int(val),\n        #         min_periods=1,\n        #         win_type=None,\n        #     ).quantile(quantile)\n        #\n        #     train_dd.loc[df.index, f\"q{quantile}_gauss\"] = df.timestamp.rolling(\n        #         int(val),\n        #         min_periods=1,\n        #         win_type=\"gaussian\",\n        #     ).mean(std=3)\n        #\n        #     train_dd.loc[df.index, f\"q{quantile}_exp\"] = df.timestamp.rolling(\n        #         int(val),\n        #         min_periods=1,\n        #         win_type=\"exponential\",\n        #     ).sum(tau=3)\n\n# train_dd = train_dd.compute()\n\n",
   "metadata": {
    "collapsed": false,
    "jupyter": {
     "outputs_hidden": false
    },
    "pycharm": {
     "name": "#%%\n"
    },
    "cellId": "23hy697zh6uys8a1zfifb"
   },
   "outputs": [],
   "execution_count": null
  },
  {
   "cell_type": "code",
   "source": "train_shuffled = train.sample()\nprint(\"train.shape\", train.shape)\ntrain.head(20)",
   "metadata": {
    "collapsed": false,
    "jupyter": {
     "outputs_hidden": false
    },
    "pycharm": {
     "name": "#%%\n"
    },
    "cellId": "zjsk44e20iy6furi0epdf"
   },
   "outputs": [],
   "execution_count": null
  },
  {
   "cell_type": "code",
   "source": "submit_example = pd.read_csv(\"./input/example_sample_submission.csv\", )\ntest = pd.read_csv(\"./input/example_test.csv\")\nlectures = pd.read_csv(\"./input/lectures.csv\")\nquestions = pd.read_csv(\"./input/questions.csv\")\nprint(\"ok\")",
   "metadata": {
    "collapsed": false,
    "jupyter": {
     "outputs_hidden": false
    },
    "pycharm": {
     "name": "#%%\n"
    },
    "cellId": "1jo9zgfzb1x54meua2fiqx"
   },
   "outputs": [],
   "execution_count": null
  },
  {
   "cell_type": "code",
   "source": "print(\"submit_example.shape\", submit_example.shape[0])\nsubmit_example.head()",
   "metadata": {
    "collapsed": false,
    "jupyter": {
     "outputs_hidden": false
    },
    "pycharm": {
     "name": "#%%\n"
    },
    "cellId": "0ze6kg2qsn7jbk64eyqr8ut"
   },
   "outputs": [],
   "execution_count": null
  },
  {
   "cell_type": "code",
   "source": "print(\"test.shape\", test.shape)\ntest.head()",
   "metadata": {
    "collapsed": false,
    "jupyter": {
     "outputs_hidden": false
    },
    "pycharm": {
     "name": "#%%\n"
    },
    "cellId": "zek6sqt912fq370tk64qs"
   },
   "outputs": [],
   "execution_count": null
  },
  {
   "cell_type": "code",
   "source": "print(\"lectures.shape\", lectures.shape)\nlectures.head()\n\n",
   "metadata": {
    "collapsed": false,
    "jupyter": {
     "outputs_hidden": false
    },
    "pycharm": {
     "name": "#%%\n"
    },
    "cellId": "wxtbu5i7sc988s8rna0cb"
   },
   "outputs": [],
   "execution_count": null
  },
  {
   "cell_type": "code",
   "source": "set(train.columns).symmetric_difference(set(test.columns))",
   "metadata": {
    "collapsed": false,
    "jupyter": {
     "outputs_hidden": false
    },
    "pycharm": {
     "name": "#%%\n"
    },
    "cellId": "od1zwxwl4g72txmgu0dy8"
   },
   "outputs": [],
   "execution_count": null
  },
  {
   "cell_type": "code",
   "source": "set(test.columns) - set(train.columns)",
   "metadata": {
    "collapsed": false,
    "jupyter": {
     "outputs_hidden": false
    },
    "pycharm": {
     "name": "#%%\n"
    },
    "cellId": "508z81de1ugmcmugw1vpkp"
   },
   "outputs": [],
   "execution_count": null
  },
  {
   "cell_type": "code",
   "source": "set(train.columns) - set(test.columns)",
   "metadata": {
    "collapsed": false,
    "jupyter": {
     "outputs_hidden": false
    },
    "pycharm": {
     "name": "#%%\n"
    },
    "cellId": "sduqd3czcvbw06moko4af"
   },
   "outputs": [],
   "execution_count": null
  },
  {
   "cell_type": "code",
   "source": "train.columns",
   "metadata": {
    "collapsed": false,
    "jupyter": {
     "outputs_hidden": false
    },
    "pycharm": {
     "name": "#%%\n"
    },
    "cellId": "xogakd02a6xjv41aucbbr"
   },
   "outputs": [],
   "execution_count": null
  },
  {
   "cell_type": "code",
   "source": "test.columns\n",
   "metadata": {
    "collapsed": false,
    "jupyter": {
     "outputs_hidden": false
    },
    "pycharm": {
     "name": "#%%\n"
    },
    "cellId": "g9hu4hjt6257fgs3fubf42"
   },
   "outputs": [],
   "execution_count": null
  },
  {
   "cell_type": "code",
   "source": "%time\n\n# train_dt = dt.fread(\"./input/train.csv\")\n# print(\"train_dt.head()\")\n# train_dt.head(5)",
   "metadata": {
    "collapsed": false,
    "jupyter": {
     "outputs_hidden": false
    },
    "pycharm": {
     "name": "#%%\n"
    },
    "cellId": "w6dj5prxh48gjfqhvqrv8k"
   },
   "outputs": [],
   "execution_count": null
  },
  {
   "cell_type": "markdown",
   "source": "##Questions",
   "metadata": {
    "pycharm": {
     "name": "#%% md\n"
    },
    "cellId": "0er4a3qvud5mk5dswo332o"
   }
  },
  {
   "cell_type": "code",
   "source": "print(\"questions.shape\", questions.shape)\nquestions.head()",
   "metadata": {
    "collapsed": false,
    "jupyter": {
     "outputs_hidden": false
    },
    "pycharm": {
     "name": "#%%\n"
    },
    "cellId": "765npdx16nde5ql2h46f9e"
   },
   "outputs": [],
   "execution_count": null
  },
  {
   "cell_type": "code",
   "source": "bundle_ids = questions.value_counts(subset=[\"bundle_id\"])\nprint(bundle_ids)\nplt.hist(x=bundle_ids, bins=10);\n",
   "metadata": {
    "collapsed": false,
    "jupyter": {
     "outputs_hidden": false
    },
    "pycharm": {
     "name": "#%%\n"
    },
    "cellId": "v0b0g01d58cjvniqddsaw"
   },
   "outputs": [],
   "execution_count": null
  },
  {
   "cell_type": "code",
   "source": "questions.value_counts(subset=[\"correct_answer\"])\n",
   "metadata": {
    "collapsed": false,
    "jupyter": {
     "outputs_hidden": false
    },
    "pycharm": {
     "name": "#%%\n"
    },
    "cellId": "oki7i8sajtkskrjxjfb7n"
   },
   "outputs": [],
   "execution_count": null
  },
  {
   "cell_type": "code",
   "source": "questions.value_counts(subset=[\"part\"])\n\n",
   "metadata": {
    "collapsed": false,
    "jupyter": {
     "outputs_hidden": false
    },
    "pycharm": {
     "name": "#%%\n"
    },
    "cellId": "6w6osfqx6siu43tykx5mqs"
   },
   "outputs": [],
   "execution_count": null
  },
  {
   "cell_type": "code",
   "source": "questions.tags = questions.tags.astype(str).apply([str.strip, str.split])\nquestions.tags[0][0]",
   "metadata": {
    "collapsed": false,
    "jupyter": {
     "outputs_hidden": false
    },
    "pycharm": {
     "name": "#%%\n"
    },
    "cellId": "azq5z6gr5woyu1zdi91zk9"
   },
   "outputs": [],
   "execution_count": null
  },
  {
   "cell_type": "code",
   "source": "# ll = train_dt.shape[0]\n#\n# uniques = dt.unique(train_dt[\"user_id\"]).shape[0]\n# print(ll)\n# print(uniques)\n# print(ll/uniques)",
   "metadata": {
    "collapsed": false,
    "jupyter": {
     "outputs_hidden": false
    },
    "pycharm": {
     "name": "#%%\n"
    },
    "cellId": "lu9kc0zac99v0xlzou1e3"
   },
   "outputs": [],
   "execution_count": null
  },
  {
   "cell_type": "code",
   "source": "value_counts = train.user_id.value_counts()",
   "metadata": {
    "collapsed": false,
    "jupyter": {
     "outputs_hidden": false
    },
    "pycharm": {
     "name": "#%%\n"
    },
    "cellId": "3ek886blw1vnn0b10fcd3b"
   },
   "outputs": [],
   "execution_count": null
  },
  {
   "cell_type": "code",
   "source": "value_counts",
   "metadata": {
    "collapsed": false,
    "jupyter": {
     "outputs_hidden": false
    },
    "pycharm": {
     "name": "#%%\n"
    },
    "cellId": "5nnnt6b0dr87j063vcotxs"
   },
   "outputs": [],
   "execution_count": null
  },
  {
   "cell_type": "code",
   "source": "plt.hist(value_counts);",
   "metadata": {
    "collapsed": false,
    "jupyter": {
     "outputs_hidden": false
    },
    "pycharm": {
     "name": "#%%\n"
    },
    "cellId": "fmive87vu0g4hior1oyfmy"
   },
   "outputs": [],
   "execution_count": null
  },
  {
   "cell_type": "code",
   "source": "",
   "metadata": {
    "collapsed": false,
    "jupyter": {
     "outputs_hidden": false
    },
    "pycharm": {
     "name": "#%%\n"
    },
    "cellId": "u0wa3u81u8eruzyphtphv"
   },
   "outputs": [],
   "execution_count": null
  }
 ]
}