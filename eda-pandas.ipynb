{
 "cells": [
  {
   "cell_type": "code",
   "execution_count": 1,
   "metadata": {},
   "outputs": [
    {
     "data": {
      "text/html": [
       "<style type='text/css'>\n",
       ".datatable table.frame { margin-bottom: 0; }\n",
       ".datatable table.frame thead { border-bottom: none; }\n",
       ".datatable table.frame tr.coltypes td {  color: #FFFFFF;  line-height: 6px;  padding: 0 0.5em;}\n",
       ".datatable .bool    { background: #DDDD99; }\n",
       ".datatable .object  { background: #565656; }\n",
       ".datatable .int     { background: #5D9E5D; }\n",
       ".datatable .float   { background: #4040CC; }\n",
       ".datatable .str     { background: #CC4040; }\n",
       ".datatable .row_index {  background: var(--jp-border-color3);  border-right: 1px solid var(--jp-border-color0);  color: var(--jp-ui-font-color3);  font-size: 9px;}\n",
       ".datatable .frame tr.coltypes .row_index {  background: var(--jp-border-color0);}\n",
       ".datatable th:nth-child(2) { padding-left: 12px; }\n",
       ".datatable .hellipsis {  color: var(--jp-cell-editor-border-color);}\n",
       ".datatable .vellipsis {  background: var(--jp-layout-color0);  color: var(--jp-cell-editor-border-color);}\n",
       ".datatable .na {  color: var(--jp-cell-editor-border-color);  font-size: 80%;}\n",
       ".datatable .footer { font-size: 9px; }\n",
       ".datatable .frame_dimensions {  background: var(--jp-border-color3);  border-top: 1px solid var(--jp-border-color0);  color: var(--jp-ui-font-color3);  display: inline-block;  opacity: 0.6;  padding: 1px 10px 1px 5px;}\n",
       ".datatable .frame thead tr.colnames {  background-image: url('data:image/png;base64,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');  background-repeat: repeat-x;  background-size: 14px;  height: 28px;}\n",
       "</style>\n"
      ],
      "text/plain": [
       "<IPython.core.display.HTML object>"
      ]
     },
     "metadata": {},
     "output_type": "display_data"
    },
    {
     "name": "stdout",
     "output_type": "stream",
     "text": [
      "curdir /home/sergey/mnt/st1500/Usr/Sergey/TheJob/Challenges/riiidNew\n"
     ]
    }
   ],
   "source": [
    "\n",
    "import gc\n",
    "\n",
    "from tqdm import tqdm\n",
    "import numpy as np\n",
    "import pandas as pd\n",
    "pd.set_option('display.max_rows', 120)\n",
    "\n",
    "import datatable as dt\n",
    "import dask.dataframe as dd\n",
    "\n",
    "from copy import copy\n",
    "\n",
    "from pathlib import Path\n",
    "\n",
    "\n",
    "from time import time, sleep\n",
    "from contextlib import contextmanager\n",
    "\n",
    "import matplotlib.pyplot as plt\n",
    "\n",
    "import plotly.express as plx\n",
    "import seaborn as sns\n",
    "\n",
    "import os, sys\n",
    "import gc\n",
    "\n",
    "from emulator import Iter_Valid\n",
    "\n",
    "# print(plt.style.available)\n",
    "# plt.style.use(\"dark_background\")\n",
    "# plt.style.use(\"seaborn-dark\")\n",
    "\n",
    "\n",
    "print(f\"curdir {Path.cwd()}\")"
   ]
  },
  {
   "cell_type": "code",
   "execution_count": 2,
   "metadata": {},
   "outputs": [],
   "source": [
    "dtypes = \\\n",
    "    {'row_id': 'int64',\n",
    "    'timestamp': 'int64',\n",
    "    'user_id': 'int32',\n",
    "    'content_id': 'int16',\n",
    "    'content_type_id': 'int8',\n",
    "#     'task_container_id': 'int16',\n",
    "#     'user_answer': 'int8',\n",
    "    'answered_correctly':'int8',\n",
    "    'prior_question_elapsed_time': 'float32',\n",
    "    'prior_question_had_explanation': 'boolean'}"
   ]
  },
  {
   "cell_type": "code",
   "execution_count": 3,
   "metadata": {
    "collapsed": false,
    "jupyter": {
     "outputs_hidden": false
    },
    "pycharm": {
     "name": "#%%\n"
    }
   },
   "outputs": [
    {
     "name": "stdout",
     "output_type": "stream",
     "text": [
      "CPU times: user 35.8 ms, sys: 0 ns, total: 35.8 ms\n",
      "Wall time: 106 ms\n"
     ]
    }
   ],
   "source": [
    "%%time\n",
    "\n",
    "\n",
    "# valid_pd = pd.read_pickle(\"/home/sergey/mnt/4.5Tb/Downloads/riiidCVdata/cv1_valid.pickle.zip\").reset_index(drop=True)\n",
    "# valid_pd = pd.read_feather(\"/home/sergey/mnt/4.5Tb/Downloads/riiidCVdata/cv1_valid_1e4.feather\")  # .drop(\"row_id\", axis=1)\n",
    "train_pd = pd.read_feather(\"/home/sergey/mnt/4.5Tb/Downloads/riiidCVdata/cv1_train_1e5.feather\", columns=dtypes.keys())  # .drop(\"row_id\", axis=1)\n",
    "# train_pd.to_parquet(\"/home/sergey/mnt/4.5Tb/Downloads/riiidCVdata/train.parquet.gzip\", compression=\"gzip\")\n",
    "# train_pd = dd.read_csv(\"/mnt/data30G/2020riid/train.csv\", low_memory=False)  # .drop(\"row_id\", axis=1)\n",
    "# train_pd = pd.read_feather(\"/mnt/data30G/2020riid/riiid_train.feather\")  # , columns=dtypes.keys())  # .drop(\"row_id\", axis=1)\n",
    "\n",
    "                   \n",
    "# train_lectures_pd = train_pd.loc[train_pd.answered_correctly == -1]\n",
    "# train_pd = train_pd.loc[train_pd.answered_correctly != -1]\n",
    "\n"
   ]
  },
  {
   "cell_type": "code",
   "execution_count": 4,
   "metadata": {},
   "outputs": [
    {
     "name": "stdout",
     "output_type": "stream",
     "text": [
      "CPU times: user 8.01 ms, sys: 10 µs, total: 8.02 ms\n",
      "Wall time: 6.46 ms\n"
     ]
    },
    {
     "data": {
      "text/html": [
       "<div>\n",
       "<style scoped>\n",
       "    .dataframe tbody tr th:only-of-type {\n",
       "        vertical-align: middle;\n",
       "    }\n",
       "\n",
       "    .dataframe tbody tr th {\n",
       "        vertical-align: top;\n",
       "    }\n",
       "\n",
       "    .dataframe thead th {\n",
       "        text-align: right;\n",
       "    }\n",
       "</style>\n",
       "<table border=\"1\" class=\"dataframe\">\n",
       "  <thead>\n",
       "    <tr style=\"text-align: right;\">\n",
       "      <th></th>\n",
       "      <th>row_id</th>\n",
       "      <th>timestamp</th>\n",
       "      <th>user_id</th>\n",
       "      <th>content_id</th>\n",
       "      <th>content_type_id</th>\n",
       "      <th>answered_correctly</th>\n",
       "      <th>prior_question_elapsed_time</th>\n",
       "      <th>prior_question_had_explanation</th>\n",
       "    </tr>\n",
       "  </thead>\n",
       "  <tbody>\n",
       "    <tr>\n",
       "      <th>0</th>\n",
       "      <td>32933156</td>\n",
       "      <td>0</td>\n",
       "      <td>705741139</td>\n",
       "      <td>128</td>\n",
       "      <td>0</td>\n",
       "      <td>1</td>\n",
       "      <td>NaN</td>\n",
       "      <td>&lt;NA&gt;</td>\n",
       "    </tr>\n",
       "    <tr>\n",
       "      <th>1</th>\n",
       "      <td>32933157</td>\n",
       "      <td>20666</td>\n",
       "      <td>705741139</td>\n",
       "      <td>7860</td>\n",
       "      <td>0</td>\n",
       "      <td>1</td>\n",
       "      <td>16000.0</td>\n",
       "      <td>False</td>\n",
       "    </tr>\n",
       "    <tr>\n",
       "      <th>2</th>\n",
       "      <td>32933158</td>\n",
       "      <td>39172</td>\n",
       "      <td>705741139</td>\n",
       "      <td>7922</td>\n",
       "      <td>0</td>\n",
       "      <td>1</td>\n",
       "      <td>19000.0</td>\n",
       "      <td>False</td>\n",
       "    </tr>\n",
       "    <tr>\n",
       "      <th>3</th>\n",
       "      <td>32933159</td>\n",
       "      <td>58207</td>\n",
       "      <td>705741139</td>\n",
       "      <td>156</td>\n",
       "      <td>0</td>\n",
       "      <td>1</td>\n",
       "      <td>17000.0</td>\n",
       "      <td>False</td>\n",
       "    </tr>\n",
       "    <tr>\n",
       "      <th>4</th>\n",
       "      <td>32933160</td>\n",
       "      <td>75779</td>\n",
       "      <td>705741139</td>\n",
       "      <td>51</td>\n",
       "      <td>0</td>\n",
       "      <td>1</td>\n",
       "      <td>17000.0</td>\n",
       "      <td>False</td>\n",
       "    </tr>\n",
       "    <tr>\n",
       "      <th>...</th>\n",
       "      <td>...</td>\n",
       "      <td>...</td>\n",
       "      <td>...</td>\n",
       "      <td>...</td>\n",
       "      <td>...</td>\n",
       "      <td>...</td>\n",
       "      <td>...</td>\n",
       "      <td>...</td>\n",
       "    </tr>\n",
       "    <tr>\n",
       "      <th>99995</th>\n",
       "      <td>21856645</td>\n",
       "      <td>372839999</td>\n",
       "      <td>469403557</td>\n",
       "      <td>1406</td>\n",
       "      <td>0</td>\n",
       "      <td>1</td>\n",
       "      <td>31500.0</td>\n",
       "      <td>True</td>\n",
       "    </tr>\n",
       "    <tr>\n",
       "      <th>99996</th>\n",
       "      <td>45558167</td>\n",
       "      <td>141970</td>\n",
       "      <td>965102747</td>\n",
       "      <td>5635</td>\n",
       "      <td>0</td>\n",
       "      <td>0</td>\n",
       "      <td>22000.0</td>\n",
       "      <td>False</td>\n",
       "    </tr>\n",
       "    <tr>\n",
       "      <th>99997</th>\n",
       "      <td>84464738</td>\n",
       "      <td>112218718</td>\n",
       "      <td>1799037391</td>\n",
       "      <td>2946</td>\n",
       "      <td>0</td>\n",
       "      <td>0</td>\n",
       "      <td>20333.0</td>\n",
       "      <td>False</td>\n",
       "    </tr>\n",
       "    <tr>\n",
       "      <th>99998</th>\n",
       "      <td>84464739</td>\n",
       "      <td>112218718</td>\n",
       "      <td>1799037391</td>\n",
       "      <td>2948</td>\n",
       "      <td>0</td>\n",
       "      <td>0</td>\n",
       "      <td>20333.0</td>\n",
       "      <td>False</td>\n",
       "    </tr>\n",
       "    <tr>\n",
       "      <th>99999</th>\n",
       "      <td>84464740</td>\n",
       "      <td>112218718</td>\n",
       "      <td>1799037391</td>\n",
       "      <td>2947</td>\n",
       "      <td>0</td>\n",
       "      <td>0</td>\n",
       "      <td>20333.0</td>\n",
       "      <td>False</td>\n",
       "    </tr>\n",
       "  </tbody>\n",
       "</table>\n",
       "<p>100000 rows × 8 columns</p>\n",
       "</div>"
      ],
      "text/plain": [
       "         row_id  timestamp     user_id  content_id  content_type_id  \\\n",
       "0      32933156          0   705741139         128                0   \n",
       "1      32933157      20666   705741139        7860                0   \n",
       "2      32933158      39172   705741139        7922                0   \n",
       "3      32933159      58207   705741139         156                0   \n",
       "4      32933160      75779   705741139          51                0   \n",
       "...         ...        ...         ...         ...              ...   \n",
       "99995  21856645  372839999   469403557        1406                0   \n",
       "99996  45558167     141970   965102747        5635                0   \n",
       "99997  84464738  112218718  1799037391        2946                0   \n",
       "99998  84464739  112218718  1799037391        2948                0   \n",
       "99999  84464740  112218718  1799037391        2947                0   \n",
       "\n",
       "       answered_correctly  prior_question_elapsed_time  \\\n",
       "0                       1                          NaN   \n",
       "1                       1                      16000.0   \n",
       "2                       1                      19000.0   \n",
       "3                       1                      17000.0   \n",
       "4                       1                      17000.0   \n",
       "...                   ...                          ...   \n",
       "99995                   1                      31500.0   \n",
       "99996                   0                      22000.0   \n",
       "99997                   0                      20333.0   \n",
       "99998                   0                      20333.0   \n",
       "99999                   0                      20333.0   \n",
       "\n",
       "       prior_question_had_explanation  \n",
       "0                                <NA>  \n",
       "1                               False  \n",
       "2                               False  \n",
       "3                               False  \n",
       "4                               False  \n",
       "...                               ...  \n",
       "99995                            True  \n",
       "99996                           False  \n",
       "99997                           False  \n",
       "99998                           False  \n",
       "99999                           False  \n",
       "\n",
       "[100000 rows x 8 columns]"
      ]
     },
     "execution_count": 4,
     "metadata": {},
     "output_type": "execute_result"
    }
   ],
   "source": [
    "%%time\n",
    "\n",
    "# for col, dtype in dtypes.items():\n",
    "#     if col not in [\"timestamp\", \"prior_question_elapsed_time\"]:\n",
    "#         train_dd[col] = train_dd[col].astype(dtype)\n",
    "\n",
    "# train_pd.prior_question_had_explanation = train_pd.prior_question_had_explanation.fillna(False)\n",
    "# train_pd.prior_question_elapsed_time = train_pd.prior_question_elapsed_time.fillna(0)\n",
    "\n",
    "train_pd.astype(dtypes)"
   ]
  },
  {
   "cell_type": "code",
   "execution_count": 5,
   "metadata": {},
   "outputs": [
    {
     "name": "stdout",
     "output_type": "stream",
     "text": [
      "CPU times: user 5 µs, sys: 0 ns, total: 5 µs\n",
      "Wall time: 9.54 µs\n"
     ]
    }
   ],
   "source": [
    "%%time\n",
    "# train_pd.groupby(\"user_id\")[[\"timestamp\", \"prior_question_elapsed_time\"]].agg([\"mean\", \"min\", \"max\", \"count\"])"
   ]
  },
  {
   "cell_type": "code",
   "execution_count": null,
   "metadata": {},
   "outputs": [
    {
     "name": "stdout",
     "output_type": "stream",
     "text": [
      "<class 'pandas.core.series.Series'>\n",
      "<class 'pandas.core.groupby.generic.SeriesGroupBy'>\n"
     ]
    }
   ],
   "source": [
    "%%time\n",
    "target = \"answered_correctly\"\n",
    "# Answer for the previous questions of users\n",
    "train_pd['lag'] = train_pd.groupby('user_id')[target].shift()\n",
    "print(type(train_pd['lag']))\n",
    "# For each user (groupby('user_id')), compute the cummulative number of correct answers and number answers in general\n",
    "groupby = train_pd.groupby('user_id')['lag']\n",
    "print(type(groupby))\n",
    "cum = groupby.agg(['cumsum', 'cumcount'])\n",
    "\n",
    "# User correctness (measure the users' learning progress)\n",
    "train_pd['user_correctness'] = cum['cumsum'] / cum['cumcount']\n",
    "# Drop the 'lag' feature\n",
    "train_pd.drop(columns = ['lag'], inplace = True)"
   ]
  },
  {
   "cell_type": "code",
   "execution_count": null,
   "metadata": {
    "collapsed": false,
    "jupyter": {
     "outputs_hidden": false
    },
    "pycharm": {
     "name": "#%%\n"
    }
   },
   "outputs": [],
   "source": [
    "train_dd.head()"
   ]
  },
  {
   "cell_type": "code",
   "execution_count": null,
   "metadata": {},
   "outputs": [],
   "source": [
    "y_train = train_pd.pop(\"answered_correctly\")\n",
    "\n",
    "y_train.compute()\n"
   ]
  },
  {
   "cell_type": "code",
   "execution_count": null,
   "metadata": {},
   "outputs": [],
   "source": [
    "users"
   ]
  },
  {
   "cell_type": "code",
   "execution_count": null,
   "metadata": {
    "collapsed": false,
    "jupyter": {
     "outputs_hidden": false
    },
    "pycharm": {
     "name": "#%%\n"
    }
   },
   "outputs": [],
   "source": [
    "%%time\n",
    "\n",
    "for col, dtype in dtypes.items():\n",
    "    if col not in [\"timestamp\", \"prior_question_elapsed_time\"]:\n",
    "        train_pd[col] = train_pd[col].astype(dtype, errors=\"ignore\")\n",
    "        gc.collect()\n",
    "        # valid_pd[col] = valid_pd[col].astype(dtype, errors=\"ignore\")\n",
    "\n",
    "train_pd.timestamp = (train_pd.timestamp/(1000)).astype(np.int16, errors=\"ignore\")\n",
    "train_pd.prior_question_elapsed_time = (train_pd.prior_question_elapsed_time/1000).astype(np.int8, errors=\"ignore\")\n",
    "\n",
    "y_train = train_pd.pop(\"answered_correctly\")\n",
    "gc.collect()"
   ]
  },
  {
   "cell_type": "code",
   "execution_count": null,
   "metadata": {},
   "outputs": [],
   "source": [
    "train_pd.head()"
   ]
  },
  {
   "cell_type": "code",
   "execution_count": null,
   "metadata": {
    "collapsed": false,
    "jupyter": {
     "outputs_hidden": false
    },
    "pycharm": {
     "name": "#%%\n"
    }
   },
   "outputs": [],
   "source": [
    "\n",
    "train_pd = train_pd.loc[train_pd.content_type_id == 0]\n",
    "# valid_pd = valid_pd.loc[valid_pd.content_type_id == 0]\n",
    "\n",
    "# valid_pd = valid_pd.iloc[:int(1e4)]\n",
    "# valid_pd.to_feather(\"/home/sergey/mnt/4.5Tb/Downloads/riiidCVdata/cv1_valid_1e4.feather\")\n",
    "\n",
    "print(\"train_pd.shape\", train_pd.shape)\n",
    "# print(\"valid_pd.shape\", valid_pd.shape)\n",
    "train_pd.head()"
   ]
  },
  {
   "cell_type": "code",
   "execution_count": null,
   "metadata": {},
   "outputs": [],
   "source": [
    "\n",
    "print(train_pd.timestamp.max(), train_pd.prior_question_elapsed_time.max())"
   ]
  },
  {
   "cell_type": "code",
   "execution_count": null,
   "metadata": {},
   "outputs": [],
   "source": [
    "print(train_pd.timestamp.mean(), train_pd.prior_question_elapsed_time.mean())"
   ]
  },
  {
   "cell_type": "code",
   "execution_count": null,
   "metadata": {
    "pycharm": {
     "name": "#%%\n"
    }
   },
   "outputs": [],
   "source": [
    "print(train_pd.timestamp.median(), train_pd.prior_question_elapsed_time.median())"
   ]
  },
  {
   "cell_type": "code",
   "execution_count": null,
   "metadata": {
    "pycharm": {
     "name": "#%%\n"
    }
   },
   "outputs": [],
   "source": [
    "plt.figure(figsize=(15, 7))\n",
    "train_pd.timestamp.hist(bins=50);"
   ]
  },
  {
   "cell_type": "code",
   "execution_count": null,
   "metadata": {},
   "outputs": [],
   "source": []
  },
  {
   "cell_type": "code",
   "execution_count": null,
   "metadata": {
    "collapsed": false,
    "jupyter": {
     "outputs_hidden": false
    },
    "pycharm": {
     "name": "#%%\n"
    }
   },
   "outputs": [],
   "source": [
    "print(f'Of the {train_pd.user_id.nunique()} users in train we have {train_pd[train_pd.timestamp == 0].user_id.nunique()} users with a timestamp zero row.')"
   ]
  },
  {
   "cell_type": "code",
   "execution_count": null,
   "metadata": {
    "collapsed": false,
    "jupyter": {
     "outputs_hidden": false
    },
    "pycharm": {
     "name": "#%%\n"
    }
   },
   "outputs": [],
   "source": [
    "train_pd = train_pd.loc[train_pd.content_type_id == 0]\n",
    "# valid_pd = valid_pd.loc[valid_pd.content_type_id == 0]\n",
    "\n",
    "# valid_pd = valid_pd.iloc[:int(1e4)]\n",
    "# valid_pd.to_feather(\"/home/sergey/mnt/4.5Tb/Downloads/riiidCVdata/cv1_valid_1e4.feather\")\n",
    "\n",
    "print(\"train_pd.shape\", train_pd.shape)\n",
    "# print(\"valid_pd.shape\", valid_pd.shape)\n",
    "train_pd.head()"
   ]
  },
  {
   "cell_type": "code",
   "execution_count": null,
   "metadata": {
    "pycharm": {
     "name": "#%%\n"
    }
   },
   "outputs": [],
   "source": [
    "train_pd.info()"
   ]
  },
  {
   "cell_type": "markdown",
   "metadata": {
    "pycharm": {
     "name": "#%% md\n"
    }
   },
   "source": [
    "## ПРОПУСКИ"
   ]
  },
  {
   "cell_type": "markdown",
   "metadata": {
    "pycharm": {
     "name": "#%% md\n"
    }
   },
   "source": [
    "### prior_question_had_explanation"
   ]
  },
  {
   "cell_type": "code",
   "execution_count": null,
   "metadata": {
    "collapsed": false,
    "jupyter": {
     "outputs_hidden": false
    },
    "pycharm": {
     "name": "#%%\n"
    }
   },
   "outputs": [],
   "source": [
    "# в prior_question_had_explanation пропуски заполняем False\n",
    "train_pd.prior_question_had_explanation = train_pd.prior_question_had_explanation.fillna(False)\n",
    "train_pd.prior_question_had_explanation.value_counts(dropna=False)"
   ]
  },
  {
   "cell_type": "markdown",
   "metadata": {
    "pycharm": {
     "name": "#%% md\n"
    }
   },
   "source": [
    "### prior_question_elapsed_time"
   ]
  },
  {
   "cell_type": "code",
   "execution_count": null,
   "metadata": {
    "collapsed": false,
    "jupyter": {
     "outputs_hidden": false
    },
    "pycharm": {
     "name": "#%%\n"
    }
   },
   "outputs": [],
   "source": [
    "# Попробую забить нулями, потом подумать\n",
    "# TODO\n",
    "train_pd.prior_question_elapsed_time = train_pd.prior_question_elapsed_time.fillna(0)\n"
   ]
  },
  {
   "cell_type": "code",
   "execution_count": null,
   "metadata": {
    "collapsed": false,
    "jupyter": {
     "outputs_hidden": false
    },
    "pycharm": {
     "name": "#%%\n"
    }
   },
   "outputs": [],
   "source": [
    "train_pd.isna().any()"
   ]
  },
  {
   "cell_type": "code",
   "execution_count": null,
   "metadata": {
    "collapsed": false,
    "jupyter": {
     "outputs_hidden": false
    },
    "pycharm": {
     "name": "#%%\n"
    }
   },
   "outputs": [],
   "source": [
    "%%time\n",
    "# train_dd = dd.from_pandas(train_pd)\n",
    "# users = train_dd.groupby(\"user_id\")\n",
    "train_dd = dd.read_parquet(\"/home/sergey/mnt/4.5Tb/Downloads/riiidCVdata/train.parquet\", low_memory=False, dtype=dtypes)\n",
    "# train_dd = dd.read_csv(\"/mnt/data30G/2020riid/train.csv\", low_memory=False)\n",
    "users = train_dd.groupby(\"user_id\").agg(['min', 'max']).compute()\n"
   ]
  },
  {
   "cell_type": "code",
   "execution_count": null,
   "metadata": {
    "collapsed": false,
    "jupyter": {
     "outputs_hidden": false
    },
    "pycharm": {
     "name": "#%%\n"
    }
   },
   "outputs": [],
   "source": [
    "users"
   ]
  },
  {
   "cell_type": "code",
   "execution_count": null,
   "metadata": {},
   "outputs": [],
   "source": [
    "train_pd = train_pd.loc[train_pd.content_type_id == 0]\n",
    "# valid_pd = valid_pd.loc[valid_pd.content_type_id == 0]\n",
    "\n",
    "# valid_pd = valid_pd.iloc[:int(1e4)]\n",
    "# valid_pd.to_feather(\"/home/sergey/mnt/4.5Tb/Downloads/riiidCVdata/cv1_valid_1e4.feather\")\n",
    "\n",
    "print(\"train_pd.shape\", train_pd.shape)\n",
    "# print(\"valid_pd.shape\", valid_pd.shape)\n",
    "train_pd.head()"
   ]
  },
  {
   "cell_type": "code",
   "execution_count": null,
   "metadata": {},
   "outputs": [],
   "source": [
    "train_pd.isna().any()"
   ]
  },
  {
   "cell_type": "code",
   "execution_count": null,
   "metadata": {},
   "outputs": [],
   "source": [
    "%%time\n",
    "# train_dd = dd.from_pandas(train_pd)\n",
    "# users = train_dd.groupby(\"user_id\")\n",
    "train_dd = dd.read_parquet(\"/home/sergey/mnt/4.5Tb/Downloads/riiidCVdata/train.parquet\", low_memory=False, dtype=dtypes)\n",
    "# train_dd = dd.read_csv(\"/mnt/data30G/2020riid/train.csv\", low_memory=False)\n",
    "users = train_dd.groupby(\"user_id\").agg(['min', 'max']).compute()\n"
   ]
  },
  {
   "cell_type": "code",
   "execution_count": null,
   "metadata": {},
   "outputs": [],
   "source": [
    "users"
   ]
  },
  {
   "cell_type": "code",
   "execution_count": null,
   "metadata": {
    "collapsed": false,
    "jupyter": {
     "outputs_hidden": false
    },
    "pycharm": {
     "name": "#%%\n"
    }
   },
   "outputs": [],
   "source": [
    "train_pd = train_pd.loc[train_pd.content_type_id == 0]\n",
    "# valid_pd = valid_pd.loc[valid_pd.content_type_id == 0]\n",
    "\n",
    "# valid_pd = valid_pd.iloc[:int(1e4)]\n",
    "# valid_pd.to_feather(\"/home/sergey/mnt/4.5Tb/Downloads/riiidCVdata/cv1_valid_1e4.feather\")\n",
    "\n",
    "print(\"train_pd.shape\", train_pd.shape)\n",
    "# print(\"valid_pd.shape\", valid_pd.shape)\n",
    "train_pd.head()"
   ]
  },
  {
   "cell_type": "code",
   "execution_count": null,
   "metadata": {
    "collapsed": false,
    "jupyter": {
     "outputs_hidden": false
    },
    "pycharm": {
     "name": "#%%\n"
    }
   },
   "outputs": [],
   "source": [
    "train_pd.info()"
   ]
  },
  {
   "cell_type": "markdown",
   "metadata": {
    "pycharm": {
     "name": "#%% md\n"
    }
   },
   "source": [
    "## ПРОПУСКИ"
   ]
  },
  {
   "cell_type": "markdown",
   "metadata": {
    "pycharm": {
     "name": "#%% md\n"
    }
   },
   "source": [
    "### prior_question_had_explanation"
   ]
  },
  {
   "cell_type": "code",
   "execution_count": null,
   "metadata": {
    "collapsed": false,
    "jupyter": {
     "outputs_hidden": false
    },
    "pycharm": {
     "name": "#%%\n"
    }
   },
   "outputs": [],
   "source": [
    "train_pd.prior_question_had_explanation.value_counts(dropna=False)"
   ]
  },
  {
   "cell_type": "code",
   "execution_count": null,
   "metadata": {
    "collapsed": false,
    "jupyter": {
     "outputs_hidden": false
    },
    "pycharm": {
     "name": "#%%\n"
    }
   },
   "outputs": [],
   "source": [
    "len(train_pd.loc[train_pd.timestamp == 0])"
   ]
  },
  {
   "cell_type": "code",
   "execution_count": null,
   "metadata": {
    "collapsed": false,
    "jupyter": {
     "outputs_hidden": false
    },
    "pycharm": {
     "name": "#%%\n"
    }
   },
   "outputs": [],
   "source": []
  },
  {
   "cell_type": "code",
   "execution_count": null,
   "metadata": {
    "collapsed": false,
    "jupyter": {
     "outputs_hidden": false
    },
    "pycharm": {
     "name": "#%%\n"
    }
   },
   "outputs": [],
   "source": [
    "train_isna = train_pd[train_pd.prior_question_had_explanation.isna()]\n",
    "train_pd = train_pd.loc[train_pd.prior_question_had_explanation.notna()]\n",
    "\n",
    "print(\"len(train_pd[train_pd.timestamp == 0])\", len(train_pd[train_pd.timestamp == 0]))\n",
    "print(\"len(train_pd[train_pd.content_type_id == 1])\", len(train_pd[train_pd.content_type_id == 1]))\n",
    "print(\"train_pd.shape\", train_pd.shape)\n",
    "print(\"train_isna.shape\", train_isna.shape)\n",
    "train_pd.head()"
   ]
  },
  {
   "cell_type": "code",
   "execution_count": null,
   "metadata": {},
   "outputs": [],
   "source": [
    "train_pd.user_id.nunique()"
   ]
  },
  {
   "cell_type": "code",
   "execution_count": null,
   "metadata": {},
   "outputs": [],
   "source": [
    "train_pd.info()"
   ]
  },
  {
   "cell_type": "code",
   "execution_count": null,
   "metadata": {},
   "outputs": [],
   "source": [
    "train_pd.memory_usage(deep=True)"
   ]
  },
  {
   "cell_type": "code",
   "execution_count": null,
   "metadata": {
    "pycharm": {
     "name": "#%%\n"
    }
   },
   "outputs": [],
   "source": [
    "users = train_pd.groupby(\"user_id\")\n",
    "count = 0\n",
    "count_zeros = 0\n",
    "user_attempts = []\n",
    "users_multiple_zero = []\n",
    "for user_id, user_df in users:\n",
    "    user_attempts.append(user_df.shape[0])\n",
    "    zeros_timestamp = len(user_df.loc[user_df.timestamp == 0])\n",
    "    if user_df.prior_question_had_explanation.isna().any():\n",
    "        print(user_id)\n",
    "    if zeros_timestamp > 1:\n",
    "        count_zeros+=1\n",
    "        users_multiple_zero.append(zeros_timestamp)\n",
    "        print(count_zeros, user_id, zeros_timestamp)\n",
    "    count+=1\n",
    "print(count)\n",
    "print(\"users_multiple_zero\", users_multiple_zero)"
   ]
  },
  {
   "cell_type": "markdown",
   "metadata": {
    "pycharm": {
     "name": "#%% md\n"
    }
   },
   "source": []
  },
  {
   "cell_type": "code",
   "execution_count": null,
   "metadata": {
    "collapsed": false,
    "jupyter": {
     "outputs_hidden": false
    },
    "pycharm": {
     "name": "#%%\n"
    }
   },
   "outputs": [],
   "source": [
    "train_pd.loc[train_pd.timestamp == 0].user_id.unique()\n"
   ]
  },
  {
   "cell_type": "code",
   "execution_count": null,
   "metadata": {
    "collapsed": false,
    "jupyter": {
     "outputs_hidden": false
    },
    "pycharm": {
     "name": "#%%\n"
    }
   },
   "outputs": [],
   "source": [
    "plt.figure(figsize=(20, 20))\n",
    "sns.histplot(user_attempts)"
   ]
  },
  {
   "cell_type": "code",
   "execution_count": null,
   "metadata": {
    "collapsed": false,
    "jupyter": {
     "outputs_hidden": false
    },
    "pycharm": {
     "name": "#%%\n"
    }
   },
   "outputs": [],
   "source": [
    "plx.histogram(user_attempts)"
   ]
  },
  {
   "cell_type": "markdown",
   "metadata": {},
   "source": [
    "## Clustering\n"
   ]
  },
  {
   "cell_type": "code",
   "execution_count": null,
   "metadata": {
    "collapsed": false,
    "jupyter": {
     "outputs_hidden": false
    },
    "pycharm": {
     "name": "#%%\n"
    }
   },
   "outputs": [],
   "source": [
    "\n"
   ]
  },
  {
   "cell_type": "code",
   "execution_count": null,
   "metadata": {
    "collapsed": false,
    "jupyter": {
     "outputs_hidden": false
    },
    "pycharm": {
     "name": "#%%\n"
    }
   },
   "outputs": [],
   "source": [
    "validaten_flg = True\n",
    "if validaten_flg:\n",
    "    iter_test = Iter_Valid(valid_pd,max_user=1000)\n",
    "    predicted = []\n",
    "    def set_predict(df):\n",
    "        predicted.append(df)\n",
    "else:\n",
    "    import riiideducation\n",
    "    env = riiideducation.make_env()\n",
    "    iter_test = env.iter_test()\n",
    "    set_predict = env.predict"
   ]
  },
  {
   "cell_type": "markdown",
   "metadata": {},
   "source": [
    "## iterator\n",
    "Now we can use iter_test(wrapper for env.iter_test) and set_predict(wrapper for env.predict) as usual.\n"
   ]
  },
  {
   "cell_type": "code",
   "execution_count": null,
   "metadata": {
    "collapsed": false,
    "jupyter": {
     "outputs_hidden": false
    },
    "pycharm": {
     "name": "#%%\n"
    }
   },
   "outputs": [],
   "source": [
    "\n",
    "\n",
    "\n",
    "result = train_pd.copy()\n",
    "users = train_pd.groupby(\"user_id\")\n",
    "count_ = users[\"index\"].count()\n",
    "print(type(count_))\n",
    "max_ = users.max()\n",
    "print(users)\n",
    "# print(users)\n",
    "result = result.merge(count_, left_on=\"user_id\", right_index=True)\n",
    "result = result.merge(max_, left_on=\"user_id\", right_index=True)\n",
    "result.head()\n",
    "# result = result.merge()"
   ]
  },
  {
   "cell_type": "code",
   "execution_count": null,
   "metadata": {
    "collapsed": false,
    "jupyter": {
     "outputs_hidden": false
    },
    "pycharm": {
     "name": "#%%\n"
    }
   },
   "outputs": [],
   "source": [
    "# %%time\n",
    "#\n",
    "# # pbar = tqdm(total=2500000)\n",
    "# pbar = tqdm(total=valid_pd.shape[0])\n",
    "# previous_test_df = None\n",
    "# current_list = []\n",
    "# for (current_test, current_prediction_df) in iter_test:\n",
    "#     if previous_test_df is not None:\n",
    "#         answers = eval(current_test[\"prior_group_answers_correct\"].iloc[0])\n",
    "#         responses = eval(current_test[\"prior_group_responses\"].iloc[0])\n",
    "#         previous_test_df['answered_correctly'] = answers\n",
    "#         previous_test_df['user_answer'] = responses\n",
    "#         # your feature extraction and model training code here\n",
    "#\n",
    "#     curtl =  len(current_test)\n",
    "#     current_list.append(curtl)\n",
    "#     previous_test_df = current_test.copy()\n",
    "#     current_test = current_test[current_test.content_type_id == 0]\n",
    "#     # your prediction code here\n",
    "#     current_test['answered_correctly'] = 0.5\n",
    "#     set_predict(current_test.loc[:,['row_id', 'answered_correctly']])\n",
    "#     pbar.update(len(current_test))\n",
    "#"
   ]
  },
  {
   "cell_type": "code",
   "execution_count": null,
   "metadata": {
    "collapsed": false,
    "jupyter": {
     "outputs_hidden": false
    },
    "pycharm": {
     "name": "#%%\n"
    }
   },
   "outputs": [],
   "source": [
    "%%time\n",
    "\n",
    "# pbar = tqdm(total=2500000)\n",
    "pbar = tqdm(total=valid_pd.shape[0])\n",
    "nlectures = valid_pd.loc[valid_pd.content_type_id == 1].shape[0]\n",
    "previous_test_df = None\n",
    "for (current_test, current_prediction_df) in iter_test:\n",
    "    if previous_test_df is not None:\n",
    "        previous_test_ar = np.array([\n",
    "            eval(current_test[\"prior_group_answers_correct\"].iloc[0]),\n",
    "            eval(current_test[\"prior_group_responses\"].iloc[0]),\n",
    "\n",
    "        ])\n",
    "        # your feature extraction and model training code here\n",
    "\n",
    "    # curtl =  len(current_test)\n",
    "    # current_list.append(curtl)\n",
    "    previous_test_df = current_test.copy()\n",
    "    current_test = current_test[current_test.content_type_id == 0]\n",
    "    # your prediction code here\n",
    "    current_test['answered_correctly'] = 0.5\n",
    "    set_predict(current_test.loc[:,['row_id', 'answered_correctly']])\n",
    "    pbar.update(len(current_test))\n"
   ]
  },
  {
   "cell_type": "code",
   "execution_count": null,
   "metadata": {
    "collapsed": false,
    "jupyter": {
     "outputs_hidden": false
    },
    "pycharm": {
     "name": "#%%\n"
    }
   },
   "outputs": [],
   "source": [
    "curlist_df = pd.DataFrame(current_list, columns=[\"batch_size\"])"
   ]
  },
  {
   "cell_type": "code",
   "execution_count": null,
   "metadata": {
    "collapsed": false,
    "jupyter": {
     "outputs_hidden": false
    },
    "pycharm": {
     "name": "#%%\n"
    }
   },
   "outputs": [],
   "source": [
    "plx.histogram(current_list, nbins=10, width=200, height=300)"
   ]
  },
  {
   "cell_type": "code",
   "execution_count": null,
   "metadata": {
    "collapsed": false,
    "jupyter": {
     "outputs_hidden": false
    },
    "pycharm": {
     "name": "#%%\n"
    }
   },
   "outputs": [],
   "source": [
    "%%time\n",
    "# train_dd = train_dd.loc[:10000]\n",
    "print(\"1 train_dd.head()\")\n",
    "\n",
    "# train_dd.head()\n",
    "print(type(train_pd))\n",
    "train_pd.shape\n"
   ]
  },
  {
   "cell_type": "code",
   "execution_count": null,
   "metadata": {
    "collapsed": false,
    "jupyter": {
     "outputs_hidden": false
    },
    "pycharm": {
     "name": "#%%\n"
    }
   },
   "outputs": [],
   "source": [
    "%%time\n",
    "\n",
    "if \"row_id\" in train_dd.columns:\n",
    "    # train.set_index(\"row_id\", inplace=True)\n",
    "    train_dd = train_dd.set_index(\"row_id\")\n",
    "    # res = train_dd.mean()\n",
    "    # res = delayed(train_dd.mean)()\n",
    "# res_delayed = res.compute()\n",
    "print(\"res = train_dd.mean()\")\n",
    "# print(res_delayed)"
   ]
  },
  {
   "cell_type": "code",
   "execution_count": null,
   "metadata": {
    "collapsed": false,
    "jupyter": {
     "outputs_hidden": false
    },
    "pycharm": {
     "name": "#%%\n"
    }
   },
   "outputs": [],
   "source": [
    "%%time\n",
    "\n",
    "res_delayed = delayed(train_dd.mean)()\n"
   ]
  },
  {
   "cell_type": "code",
   "execution_count": null,
   "metadata": {
    "collapsed": false,
    "jupyter": {
     "outputs_hidden": false
    },
    "pycharm": {
     "name": "#%%\n"
    }
   },
   "outputs": [],
   "source": [
    "res_delayed.visualize()"
   ]
  },
  {
   "cell_type": "code",
   "execution_count": null,
   "metadata": {
    "collapsed": false,
    "jupyter": {
     "outputs_hidden": false
    },
    "pycharm": {
     "name": "#%%\n"
    }
   },
   "outputs": [],
   "source": [
    "%%time\n",
    "\n",
    "with ProgressBar():\n",
    "    out = res_delayed.compute()\n",
    "\n",
    "    print(f\" out res_delayed = \\n {out}\")"
   ]
  },
  {
   "cell_type": "code",
   "execution_count": null,
   "metadata": {
    "collapsed": false,
    "jupyter": {
     "outputs_hidden": false
    },
    "pycharm": {
     "name": "#%%\n"
    }
   },
   "outputs": [],
   "source": [
    "res_delayed.visualize()"
   ]
  },
  {
   "cell_type": "code",
   "execution_count": null,
   "metadata": {
    "collapsed": false,
    "jupyter": {
     "outputs_hidden": false
    },
    "pycharm": {
     "name": "#%%\n"
    }
   },
   "outputs": [],
   "source": [
    "# train_dd[\"attempt\"] = -1\n",
    "\n",
    "print(f\" train_dd.head() 2 = \")\n",
    "train_dd.head()\n"
   ]
  },
  {
   "cell_type": "code",
   "execution_count": null,
   "metadata": {
    "collapsed": false,
    "jupyter": {
     "outputs_hidden": false
    },
    "pycharm": {
     "name": "#%%\n"
    }
   },
   "outputs": [],
   "source": [
    "train_dd.count().compute()"
   ]
  },
  {
   "cell_type": "code",
   "execution_count": null,
   "metadata": {
    "collapsed": false,
    "jupyter": {
     "outputs_hidden": false
    },
    "pycharm": {
     "name": "#%%\n"
    }
   },
   "outputs": [],
   "source": [
    "len(train_dd) - train_dd.count().compute()"
   ]
  },
  {
   "cell_type": "code",
   "execution_count": null,
   "metadata": {
    "collapsed": false,
    "jupyter": {
     "outputs_hidden": false
    },
    "pycharm": {
     "name": "#%%\n"
    }
   },
   "outputs": [],
   "source": [
    "print(train_dd.shape[0].compute(), train_dd.shape[1])"
   ]
  },
  {
   "cell_type": "code",
   "execution_count": null,
   "metadata": {
    "collapsed": false,
    "jupyter": {
     "outputs_hidden": false
    },
    "pycharm": {
     "name": "#%%\n"
    }
   },
   "outputs": [],
   "source": [
    "pd.Series(train_dd.user_id.compute()).nunique()\n"
   ]
  },
  {
   "cell_type": "code",
   "execution_count": null,
   "metadata": {
    "collapsed": false,
    "jupyter": {
     "outputs_hidden": false
    },
    "pycharm": {
     "name": "#%%\n"
    }
   },
   "outputs": [],
   "source": [
    "%%time\n",
    "print(\"max\", train_dd.user_id.compute().value_counts().max())\n",
    "print(\"mean\", train_dd.user_id.compute().value_counts().mean())\n",
    "print(\"median\", train_dd.user_id.compute().value_counts().quantile(.5))"
   ]
  },
  {
   "cell_type": "code",
   "execution_count": null,
   "metadata": {
    "collapsed": false,
    "jupyter": {
     "outputs_hidden": false
    },
    "pycharm": {
     "name": "#%%\n"
    }
   },
   "outputs": [],
   "source": [
    "%%time\n",
    "max, mean, median = compute(\n",
    "    train_dd.user_id.value_counts().max(),\n",
    "    train_dd.user_id.value_counts().mean(),\n",
    "    train_dd.user_id.value_counts().quantile(.5)\n",
    ")\n",
    "print(max, mean, median)"
   ]
  },
  {
   "cell_type": "code",
   "execution_count": null,
   "metadata": {
    "collapsed": false,
    "jupyter": {
     "outputs_hidden": false
    },
    "pycharm": {
     "name": "#%%\n"
    }
   },
   "outputs": [],
   "source": [
    "def get_user_quantiles(df, plot=False):\n",
    "\n",
    "    quantiles = []\n",
    "    for q in np.arange(start=.4, stop=.8, step=.1):\n",
    "        quantiles.append((q, df.user_id.value_counts().quantile(q=q).compute()))\n",
    "        if plot:\n",
    "            print(f\"quantile {quantiles[-1]}\")\n",
    "            plt.plot(*quantiles[-1], marker=\"o\",  c=\"w\")\n",
    "    return quantiles"
   ]
  },
  {
   "cell_type": "code",
   "execution_count": null,
   "metadata": {
    "collapsed": false,
    "jupyter": {
     "outputs_hidden": false
    },
    "pycharm": {
     "name": "#%%\n"
    }
   },
   "outputs": [],
   "source": [
    "from sklearn.preprocessing import StandardScaler"
   ]
  },
  {
   "cell_type": "code",
   "execution_count": null,
   "metadata": {
    "collapsed": false,
    "jupyter": {
     "outputs_hidden": false
    },
    "pycharm": {
     "name": "#%%\n"
    }
   },
   "outputs": [],
   "source": [
    "train_dd.columns"
   ]
  },
  {
   "cell_type": "code",
   "execution_count": null,
   "metadata": {
    "collapsed": false,
    "jupyter": {
     "outputs_hidden": false
    },
    "pycharm": {
     "name": "#%%\n"
    }
   },
   "outputs": [],
   "source": [
    "# total = train_dd.user_id.nunique()\n",
    "groups = train_dd.groupby(by=\"user_id\")\n",
    "# total = len(groups.size())\n",
    "# print(\"total\", total)"
   ]
  },
  {
   "cell_type": "code",
   "execution_count": null,
   "metadata": {
    "collapsed": false,
    "jupyter": {
     "outputs_hidden": false
    },
    "pycharm": {
     "name": "#%%\n"
    }
   },
   "outputs": [],
   "source": [
    "%%time\n",
    "def print_count(group):\n",
    "    print(\"print 1 from print_count\")\n",
    "\n",
    "groups_apply = groups.sum()"
   ]
  },
  {
   "cell_type": "code",
   "execution_count": null,
   "metadata": {
    "collapsed": false,
    "jupyter": {
     "outputs_hidden": false
    },
    "pycharm": {
     "name": "#%%\n"
    }
   },
   "outputs": [],
   "source": [
    "%%time\n",
    "groups_apply.compute()"
   ]
  },
  {
   "cell_type": "code",
   "execution_count": null,
   "metadata": {
    "collapsed": false,
    "jupyter": {
     "outputs_hidden": false
    },
    "pycharm": {
     "name": "#%%\n"
    }
   },
   "outputs": [],
   "source": [
    "iter = groups\n"
   ]
  },
  {
   "cell_type": "code",
   "execution_count": null,
   "metadata": {
    "collapsed": false,
    "jupyter": {
     "outputs_hidden": false
    },
    "pycharm": {
     "name": "#%%\n"
    }
   },
   "outputs": [],
   "source": [
    "%%time\n",
    "\n",
    "content_id_sum = groups.content_id.sum()\n",
    "\n",
    "print(\"content_id_sum.compute()\")\n",
    "content_id_sum.compute()"
   ]
  },
  {
   "cell_type": "code",
   "execution_count": null,
   "metadata": {
    "collapsed": false,
    "jupyter": {
     "outputs_hidden": false
    },
    "pycharm": {
     "name": "#%%\n"
    }
   },
   "outputs": [],
   "source": [
    "%%time\n",
    "agg = groups.aggregate(['sum', 'mean', 'max', 'min', list]).compute()"
   ]
  },
  {
   "cell_type": "code",
   "execution_count": null,
   "metadata": {
    "collapsed": false,
    "jupyter": {
     "outputs_hidden": false
    },
    "pycharm": {
     "name": "#%%\n"
    }
   },
   "outputs": [],
   "source": [
    "agg"
   ]
  },
  {
   "cell_type": "code",
   "execution_count": null,
   "metadata": {
    "collapsed": false,
    "jupyter": {
     "outputs_hidden": false
    },
    "pycharm": {
     "name": "#%%\n"
    }
   },
   "outputs": [],
   "source": [
    "agg.loc[115, \"timestamp\"][\"sum\"]"
   ]
  },
  {
   "cell_type": "code",
   "execution_count": null,
   "metadata": {
    "collapsed": false,
    "jupyter": {
     "outputs_hidden": false
    },
    "pycharm": {
     "name": "#%%\n"
    }
   },
   "outputs": [],
   "source": [
    "with timer(\"rolling values\"):\n",
    "    for id, df in tqdm(groups, total=total):\n",
    "        print(\"ok\")\n",
    "        # print(f\"  user_id = {id}  shape = {df.shape[0]} is_monotonic {df.timestamp.is_monotonic}\")\n",
    "        pass\n",
    "        # train_dd.loc[df.index, \"attempt\"] = range(1, df.shape[0]+1)\n",
    "\n",
    "        # quantiles = get_user_quantiles(df=df)\n",
    "        #\n",
    "        # for quantile, val in quantiles:\n",
    "        #     train_dd.loc[df.index, f\"q{quantile}_None\"] = df.timestamp.rolling(\n",
    "        #         int(val),\n",
    "        #         min_periods=1,\n",
    "        #         win_type=None,\n",
    "        #     ).quantile(quantile)\n",
    "        #\n",
    "        #     train_dd.loc[df.index, f\"q{quantile}_gauss\"] = df.timestamp.rolling(\n",
    "        #         int(val),\n",
    "        #         min_periods=1,\n",
    "        #         win_type=\"gaussian\",\n",
    "        #     ).mean(std=3)\n",
    "        #\n",
    "        #     train_dd.loc[df.index, f\"q{quantile}_exp\"] = df.timestamp.rolling(\n",
    "        #         int(val),\n",
    "        #         min_periods=1,\n",
    "        #         win_type=\"exponential\",\n",
    "        #     ).sum(tau=3)\n",
    "\n",
    "# train_dd = train_dd.compute()\n",
    "\n"
   ]
  },
  {
   "cell_type": "code",
   "execution_count": null,
   "metadata": {
    "collapsed": false,
    "jupyter": {
     "outputs_hidden": false
    },
    "pycharm": {
     "name": "#%%\n"
    }
   },
   "outputs": [],
   "source": [
    "train_shuffled = train.sample()\n",
    "print(\"train.shape\", train.shape)\n",
    "train.head(20)"
   ]
  },
  {
   "cell_type": "code",
   "execution_count": null,
   "metadata": {
    "collapsed": false,
    "jupyter": {
     "outputs_hidden": false
    },
    "pycharm": {
     "name": "#%%\n"
    }
   },
   "outputs": [],
   "source": [
    "submit_example = pd.read_csv(\"./input/example_sample_submission.csv\", )\n",
    "test = pd.read_csv(\"./input/example_test.csv\")\n",
    "lectures = pd.read_csv(\"./input/lectures.csv\")\n",
    "questions = pd.read_csv(\"./input/questions.csv\")\n",
    "print(\"ok\")"
   ]
  },
  {
   "cell_type": "code",
   "execution_count": null,
   "metadata": {
    "collapsed": false,
    "jupyter": {
     "outputs_hidden": false
    },
    "pycharm": {
     "name": "#%%\n"
    }
   },
   "outputs": [],
   "source": [
    "print(\"submit_example.shape\", submit_example.shape[0])\n",
    "submit_example.head()"
   ]
  },
  {
   "cell_type": "code",
   "execution_count": null,
   "metadata": {
    "collapsed": false,
    "jupyter": {
     "outputs_hidden": false
    },
    "pycharm": {
     "name": "#%%\n"
    }
   },
   "outputs": [],
   "source": [
    "print(\"test.shape\", test.shape)\n",
    "test.head()"
   ]
  },
  {
   "cell_type": "code",
   "execution_count": null,
   "metadata": {
    "collapsed": false,
    "jupyter": {
     "outputs_hidden": false
    },
    "pycharm": {
     "name": "#%%\n"
    }
   },
   "outputs": [],
   "source": [
    "print(\"lectures.shape\", lectures.shape)\n",
    "lectures.head()\n",
    "\n"
   ]
  },
  {
   "cell_type": "code",
   "execution_count": null,
   "metadata": {
    "collapsed": false,
    "jupyter": {
     "outputs_hidden": false
    },
    "pycharm": {
     "name": "#%%\n"
    }
   },
   "outputs": [],
   "source": [
    "set(train.columns).symmetric_difference(set(test.columns))"
   ]
  },
  {
   "cell_type": "code",
   "execution_count": null,
   "metadata": {
    "collapsed": false,
    "jupyter": {
     "outputs_hidden": false
    },
    "pycharm": {
     "name": "#%%\n"
    }
   },
   "outputs": [],
   "source": [
    "set(test.columns) - set(train.columns)"
   ]
  },
  {
   "cell_type": "code",
   "execution_count": null,
   "metadata": {
    "collapsed": false,
    "jupyter": {
     "outputs_hidden": false
    },
    "pycharm": {
     "name": "#%%\n"
    }
   },
   "outputs": [],
   "source": [
    "set(train.columns) - set(test.columns)"
   ]
  },
  {
   "cell_type": "code",
   "execution_count": null,
   "metadata": {
    "collapsed": false,
    "jupyter": {
     "outputs_hidden": false
    },
    "pycharm": {
     "name": "#%%\n"
    }
   },
   "outputs": [],
   "source": [
    "train.columns"
   ]
  },
  {
   "cell_type": "code",
   "execution_count": null,
   "metadata": {
    "collapsed": false,
    "jupyter": {
     "outputs_hidden": false
    },
    "pycharm": {
     "name": "#%%\n"
    }
   },
   "outputs": [],
   "source": [
    "test.columns\n"
   ]
  },
  {
   "cell_type": "code",
   "execution_count": null,
   "metadata": {
    "collapsed": false,
    "jupyter": {
     "outputs_hidden": false
    },
    "pycharm": {
     "name": "#%%\n"
    }
   },
   "outputs": [],
   "source": [
    "%time\n",
    "\n",
    "# train_dt = dt.fread(\"./input/train.csv\")\n",
    "# print(\"train_dt.head()\")\n",
    "# train_dt.head(5)"
   ]
  },
  {
   "cell_type": "markdown",
   "metadata": {
    "pycharm": {
     "name": "#%% md\n"
    }
   },
   "source": [
    "##Questions"
   ]
  },
  {
   "cell_type": "code",
   "execution_count": null,
   "metadata": {
    "collapsed": false,
    "jupyter": {
     "outputs_hidden": false
    },
    "pycharm": {
     "name": "#%%\n"
    }
   },
   "outputs": [],
   "source": [
    "print(\"questions.shape\", questions.shape)\n",
    "questions.head()"
   ]
  },
  {
   "cell_type": "code",
   "execution_count": null,
   "metadata": {
    "collapsed": false,
    "jupyter": {
     "outputs_hidden": false
    },
    "pycharm": {
     "name": "#%%\n"
    }
   },
   "outputs": [],
   "source": [
    "bundle_ids = questions.value_counts(subset=[\"bundle_id\"])\n",
    "print(bundle_ids)\n",
    "plt.hist(x=bundle_ids, bins=10);\n"
   ]
  },
  {
   "cell_type": "code",
   "execution_count": null,
   "metadata": {
    "collapsed": false,
    "jupyter": {
     "outputs_hidden": false
    },
    "pycharm": {
     "name": "#%%\n"
    }
   },
   "outputs": [],
   "source": [
    "questions.value_counts(subset=[\"correct_answer\"])\n"
   ]
  },
  {
   "cell_type": "code",
   "execution_count": null,
   "metadata": {
    "collapsed": false,
    "jupyter": {
     "outputs_hidden": false
    },
    "pycharm": {
     "name": "#%%\n"
    }
   },
   "outputs": [],
   "source": [
    "questions.value_counts(subset=[\"part\"])\n",
    "\n"
   ]
  },
  {
   "cell_type": "code",
   "execution_count": null,
   "metadata": {
    "collapsed": false,
    "jupyter": {
     "outputs_hidden": false
    },
    "pycharm": {
     "name": "#%%\n"
    }
   },
   "outputs": [],
   "source": [
    "questions.tags = questions.tags.astype(str).apply([str.strip, str.split])\n",
    "questions.tags[0][0]"
   ]
  },
  {
   "cell_type": "code",
   "execution_count": null,
   "metadata": {
    "collapsed": false,
    "jupyter": {
     "outputs_hidden": false
    },
    "pycharm": {
     "name": "#%%\n"
    }
   },
   "outputs": [],
   "source": [
    "# ll = train_dt.shape[0]\n",
    "#\n",
    "# uniques = dt.unique(train_dt[\"user_id\"]).shape[0]\n",
    "# print(ll)\n",
    "# print(uniques)\n",
    "# print(ll/uniques)"
   ]
  },
  {
   "cell_type": "code",
   "execution_count": null,
   "metadata": {
    "collapsed": false,
    "jupyter": {
     "outputs_hidden": false
    },
    "pycharm": {
     "name": "#%%\n"
    }
   },
   "outputs": [],
   "source": [
    "value_counts = train.user_id.value_counts()"
   ]
  },
  {
   "cell_type": "code",
   "execution_count": null,
   "metadata": {
    "collapsed": false,
    "jupyter": {
     "outputs_hidden": false
    },
    "pycharm": {
     "name": "#%%\n"
    }
   },
   "outputs": [],
   "source": [
    "value_counts"
   ]
  },
  {
   "cell_type": "code",
   "execution_count": null,
   "metadata": {
    "collapsed": false,
    "jupyter": {
     "outputs_hidden": false
    },
    "pycharm": {
     "name": "#%%\n"
    }
   },
   "outputs": [],
   "source": [
    "plt.hist(value_counts);"
   ]
  },
  {
   "cell_type": "code",
   "execution_count": null,
   "metadata": {
    "collapsed": false,
    "jupyter": {
     "outputs_hidden": false
    },
    "pycharm": {
     "name": "#%%\n"
    }
   },
   "outputs": [],
   "source": []
  }
 ],
 "metadata": {
  "kernelspec": {
   "display_name": "Python 3",
   "language": "python",
   "name": "python3"
  },
  "language_info": {
   "codemirror_mode": {
    "name": "ipython",
    "version": 3
   },
   "file_extension": ".py",
   "mimetype": "text/x-python",
   "name": "python",
   "nbconvert_exporter": "python",
   "pygments_lexer": "ipython3",
   "version": "3.8.5"
  }
 },
 "nbformat": 4,
 "nbformat_minor": 4
}
