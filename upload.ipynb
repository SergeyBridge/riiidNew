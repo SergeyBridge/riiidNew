{
 "cells": [
  {
   "cell_type": "code",
   "execution_count": 1,
   "metadata": {
    "cellId": "kricpxcqbjdi865iqjudj8"
   },
   "outputs": [
    {
     "name": "stdout",
     "output_type": "stream",
     "text": [
      "ok\n"
     ]
    }
   ],
   "source": [
    "# %pip install --upgrade wget\n",
    "# %pip install requests --upgrade\n",
    "\n",
    "# %pip install --upgrade pip\n",
    "# %pip install scipy  --ignore-installed scipy --upgrade\n",
    "\n",
    "# %pip install -r /home/jupyter/work/resources/riiidNew/requirements.txt --upgrade\n",
    "\n",
    "print(\"ok\")"
   ]
  },
  {
   "cell_type": "code",
   "execution_count": 2,
   "metadata": {
    "cellId": "mvh22kgr4tj4k63vksiy",
    "jupyter": {
     "source_hidden": true
    }
   },
   "outputs": [
    {
     "name": "stdout",
     "output_type": "stream",
     "text": [
      "curdir = /home/riiid/riiidNew\n"
     ]
    }
   ],
   "source": [
    "from pathlib import Path\n",
    "import requests\n",
    "\n",
    "print(f\"curdir = {Path.cwd()}\")\n"
   ]
  },
  {
   "cell_type": "code",
   "execution_count": 3,
   "metadata": {
    "cellId": "i15lm3hog30y9k5ozjhdn"
   },
   "outputs": [],
   "source": [
    "\"\"\"\n",
    "Based on Yandex disk API\n",
    "\n",
    "Idea and some code are taken from\n",
    "https://github.com/wldhx/yadisk-direct\n",
    "\n",
    "\"\"\"\n",
    "\n",
    "API_ENDPOINT = 'https://cloud-api.yandex.net/v1/disk/public/resources/download?public_key='\n",
    "\n",
    "# Get real DIRECT LINK URL from the yandex disk's public SHARING LINK \n",
    "def get_real_direct_link(sharing_link: str) -> str:\n",
    "    pk_request = requests.get(f\"{API_ENDPOINT}{sharing_link}\")\n",
    "\n",
    "    return pk_request.json()['href']\n",
    "\n",
    "# Upload file using the yandex disk's DIRECT LINK into fname\n",
    "def upload_direct(direct_link: str, fname, print_status=True) -> int:\n",
    "    print(f\"{fname} uploading started ..\")\n",
    "    \n",
    "    with open(str(fname), 'wb') as f:\n",
    "        response = requests.get(direct_link)\n",
    "        f.write(response.content)\n",
    "    \n",
    "    if print_status:\n",
    "        print(f\"{fname} status {response.status_code}\\n\")\n",
    "    \n",
    "    return response\n",
    "\n",
    "# Upload file using the yandex disk's PUBLIC SHARING LINK into fname\n",
    "def upload_public(sharing_link: str, fname, print_status=True) -> int:\n",
    "    try:\n",
    "        direct_link = get_real_direct_link(sharing_link)\n",
    "    \n",
    "    except KeyError as key_error:\n",
    "        print(f\"Public sharing url does not exist: {fname}\", key_error)\n",
    "        return None\n",
    "    \n",
    "    return upload_direct(direct_link, fname, print_status)"
   ]
  },
  {
   "cell_type": "code",
   "execution_count": 6,
   "metadata": {
    "cellId": "frafxbe141rj2t2oamn6v"
   },
   "outputs": [
    {
     "name": "stdout",
     "output_type": "stream",
     "text": [
      "/home/riiid/riiidNew/data/cv2_test.feather uploading started ..\n",
      "/home/riiid/riiidNew/data/cv2_test.feather status 200\n",
      "\n",
      "ok\n"
     ]
    }
   ],
   "source": [
    "upload_dict = {\n",
    "    \n",
    "#     'cv2_train.pickle.zip': \"https://yadi.sk/d/IYBd7-70ZH3wEA\", \n",
    "#     'cv2_valid.pickle.zip': \"https://yadi.sk/d/AisC3sMkrQZqkw\",\n",
    "    'questions.csv': \"https://yadi.sk/d/zkzaaNEuzerVuw\",  \n",
    "    'lectures.csv': \"https://yadi.sk/d/eKJTPpV34M_pxA\",  \n",
    "\n",
    "    'train_1e5.feather': \"https://yadi.sk/d/41R_md8-AV8vVg\",\n",
    "    'train_5e6.feather': \"https://yadi.sk/d/scgeHsgLsyL83Q\",\n",
    "    'train.feather': \"https://yadi.sk/d/hwcTmuC25Euj9w\", \n",
    "\n",
    "    'cv2_train_1e5.feather': \"https://yadi.sk/d/bcME1ogXlADibQ\", \n",
    "    'cv2_train.feather': \"https://yadi.sk/d/tj3wZawybN3_jA\", \n",
    "\n",
    "    'cv2_test_1e4.feather': \"https://yadi.sk/d/vlOqwujoJHSg0Q\",\n",
    "    'cv2_test.feather': \"https://yadi.sk/d/MZDNjed5rz_Jfw\",\n",
    "    \n",
    "#     # 'train.csv.zip': \"https://yadi.sk/d/Snrsk2XVsmCGcQ\", \n",
    "}\n",
    "\n",
    "data_path = Path.cwd()/'data'\n",
    "for fname, url in upload_dict.items():\n",
    "    upload_public(url, fname=data_path/fname)\n",
    "    \n",
    "print(\"ok\")"
   ]
  },
  {
   "cell_type": "code",
   "execution_count": null,
   "metadata": {
    "cellId": "8scr9bhpeldc9zm35ien3f"
   },
   "outputs": [],
   "source": []
  }
 ],
 "metadata": {
  "kernelspec": {
   "display_name": "Python 3",
   "language": "python",
   "name": "python3"
  },
  "language_info": {
   "codemirror_mode": {
    "name": "ipython",
    "version": 3
   },
   "file_extension": ".py",
   "mimetype": "text/x-python",
   "name": "python",
   "nbconvert_exporter": "python",
   "pygments_lexer": "ipython3",
   "version": "3.7.6"
  },
  "notebookId": "6bbfc446-c71b-44c4-a073-bb2e7506fac7"
 },
 "nbformat": 4,
 "nbformat_minor": 4
}
