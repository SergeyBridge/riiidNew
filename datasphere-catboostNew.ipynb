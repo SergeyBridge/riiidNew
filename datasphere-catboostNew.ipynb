{
 "cells": [
  {
   "cell_type": "code",
   "execution_count": 1,
   "metadata": {},
   "outputs": [
    {
     "name": "stdout",
     "output_type": "stream",
     "text": [
      "ok\n"
     ]
    }
   ],
   "source": [
    "#!M\n",
    "# !pip install ../input/python-datatable/datatable-0.11.0-cp37-cp37m-manylinux2010_x86_64.whl > /dev/null 2>&1\n",
    "# %pip install --upgrade pip\n",
    "# %pip install -r /home/jupyter/work/resources/riiidNew/requirements.txt --upgrade\n",
    "# %pip install scipy  --ignore-installed scipy --upgrade\n",
    "print(\"ok\")"
   ]
  },
  {
   "cell_type": "code",
   "execution_count": null,
   "metadata": {
    "collapsed": false,
    "jupyter": {
     "outputs_hidden": false
    },
    "pycharm": {
     "name": "#%%\n"
    }
   },
   "outputs": [],
   "source": [
    "#!L\n",
    "# if str(Path.home()) == \"/root\":  # DATASPHERE\n",
    "import sys\n",
    "import gc\n",
    "from pathlib import Path\n",
    "sys.path.append(str(Path.cwd()/'riiidNew'))\n",
    "from pathlib import Path\n",
    "import numpy as np\n",
    "import pandas as pd\n",
    "import pyarrow\n",
    "from collections import defaultdict\n",
    "from catboost import CatBoostClassifier, Pool\n",
    "from preprocess import preprocess_train_data\n",
    "from catboost_bayesian_search import bayesian_catboost_searchCV, param_adjust_dtypes\n",
    "import config\n",
    "\n",
    "# Error handling, ignore all\n",
    "np.seterr(divide = 'ignore', invalid = 'ignore')\n",
    "\n",
    "\n",
    "if str(Path.home()) == \"/home/sergey\":   # Home computer\n",
    "    kaggle_path = Path.cwd()/\"kaggle_tmp/\"\n",
    "    questions_df = pd.read_csv('/mnt/data30G/2020riiid/questions.csv', usecols = [0, 3], dtype = {'question_id': 'int16', 'part': 'int8'})\n",
    "    test_df = pd.read_feather(\"/home/sergey/mnt/4.5Tb/Downloads/riiidCVdata/cv1_valid_1e4.feather\", columns=dtypes.keys())\n",
    "    train_df = pd.read_feather(\"/home/sergey/mnt/4.5Tb/Downloads/riiidCVdata/cv1_train_1e5.feather\", columns=dtypes.keys())\n",
    "    # test_df = pd.read_feather(\"/home/sergey/mnt/4.5Tb/Downloads/riiidCVdata/cv1_valid_1e4.feather\", columns=dtypes.keys())\n",
    "    # train_df = pd.read_feather(\"/home/sergey/mnt/4.5Tb/Downloads/riiidCVdata/cv1_train.feather\", columns=dtypes.keys())\n",
    "    # test_df = pd.read_feather(\"/home/sergey/mnt/4.5Tb/Downloads/riiidCVdata/cv1_valid.feather\", columns=dtypes.keys())\n",
    "\n",
    "elif str(Path.home()) == \"/root\":   # DATASPHERE\n",
    "\n",
    "    path = Path.cwd()/\"riiidNew\"/\"data1\"\n",
    "    kaggle_path = Path.cwd()/\"riiidNew\"/\"kaggle\"\n",
    "    questions_df = pd.read_csv(path/'questions.csv', usecols = [0, 3], dtype = {'question_id': 'int16', 'part': 'int8'})\n",
    "    train_df = pd.read_feather(path/\"train.feather\", columns=config.dtypes.keys())\n",
    "    # train_df = pd.read_feather(path/\"train_5e6.feather\", columns=config.dtypes.keys())\n",
    "    # train_df = pd.read_feather(path/\"train_1e5.feather\", columns=config.dtypes.keys())\n",
    "    # train_df = pd.read_pickle(path/'cv2_train.pickle.zip').astype(config.dtypes, errors=\"ignore\")\n",
    "    # test_df = pd.read_pickle(path/\"cv2_valid.pickle.zip\").astype(config.dtypes, errors=\"ignore\")\n",
    "\n",
    "elif str(Path.home()) == \"/home/riiid\":   # Virtual machine ycloud\n",
    "\n",
    "    path = Path.cwd()/\"riiidNew\"/\"data1\"\n",
    "    kaggle_path = Path.cwd()/\"riiidNew\"/\"kaggle\"\n",
    "    questions_df = pd.read_csv(path/'questions.csv', usecols = [0, 3], dtype = {'question_id': 'int16', 'part': 'int8'})\n",
    "    # train_df = pd.read_feather(path/\"train.feather\", columns=config.dtypes.keys())\n",
    "    # train_df = pd.read_feather(path/\"train_5e6.feather\", columns=config.dtypes.keys())\n",
    "    train_df = pd.read_feather(path/\"train_1e5.feather\", columns=config.dtypes.keys())\n",
    "    # train_df = pd.read_pickle(path/'cv2_train.pickle.zip').astype(config.dtypes, errors=\"ignore\")\n",
    "    # test_df = pd.read_pickle(path/\"cv2_valid.pickle.zip\").astype(config.dtypes, errors=\"ignore\")\n",
    "\n",
    "# print(f\"train_df shape = {train_df.shape}\")\n",
    "\n",
    "# Preprocess for CV\n",
    "train_user_agg, train_content_agg, train_df = preprocess_train_data(train_df, questions_df, config.target, config.dtypes)\n",
    "# test_user_agg, test_content_agg, test_df = preprocess_train_data(test_df, questions_df, config.target, config.dtypes)\n",
    "print(\"Preprocess for CV ok\")\n",
    "\n",
    "# Training and validating data\n",
    "train_set = Pool(train_df[config.features], label = train_df[config.target], cat_features=config.cat_features)\n",
    "# val_set = Pool(test_df[features], label = test_df[target])\n",
    "\n",
    "print(\"optimizer_maxCV ..\")\n",
    "optimizer_maxCV = bayesian_catboost_searchCV(\n",
    "    train_set,\n",
    "    prior_params=config.prior_params,\n",
    "    pds=config.pds, pds_dtypes=config.pds_dtypes,\n",
    "    init_points=3, n_iter=25, verbose=False,\n",
    ")\n",
    "print(\"optimizer_maxCV ..\")\n",
    "print(optimizer_maxCV)\n",
    "\n",
    "params = param_adjust_dtypes(config.prior_params,\n",
    "                             config.pds_dtypes,\n",
    "                             optimizer_maxCV[\"params\"])\n",
    "print(\"params\")\n",
    "print(params)\n",
    "\n",
    "# pds_fitted = {key: config.pds_dtypes[key](val) for key, val in optimizer_maxCV[\"params\"].items()}\n",
    "# params = prior_params.copy()\n",
    "# params.update(pds_fitted)\n",
    "\n",
    "# Ratio is 6/24 = 25%\n",
    "# valid_df = train_df.groupby('user_id').tail(6)\n",
    "# train_df.drop(valid_df.index, inplace = True)\n",
    "\n",
    "import pickle\n",
    "\n",
    "user_sum_dict = train_user_agg['sum'].astype('int32').to_dict(defaultdict(int))\n",
    "user_count_dict = train_user_agg['count'].astype('int32').to_dict(defaultdict(int))\n",
    "content_sum_dict = train_content_agg['sum'].astype('int32').to_dict(defaultdict(int))\n",
    "content_count_dict = train_content_agg['count'].astype('int32').to_dict(defaultdict(int))\n",
    "\n",
    "for filename, dic in zip([\"user_sum_dict\", \"user_count_dict\", \"content_sum_dict\", \"content_count_dict\"],\n",
    "                         [user_sum_dict, user_count_dict, content_sum_dict, content_count_dict]):\n",
    "    with open(f'{kaggle_path}/{filename}.pickle', 'wb') as handle:\n",
    "        pickle.dump(dic, handle)\n",
    "\n",
    "# del train_df, user_sum_dict, train_user_agg, user_count_dict\n",
    "# del content_sum_dict, train_content_agg, content_count_dict\n",
    "# gc.collect()\n",
    "\n",
    "# Obtain new trai_df and validation test_df\n",
    "# train_df = pd.read_feather(path/\"cv2_train.feather\", columns=config.dtypes.keys())\n",
    "\n",
    "# train_df = pd.read_pickle(path/'cv2_train.pickle.zip').astype(config.dtypes, errors=\"ignore\").reset_index()\n",
    "# train_df = train_df.iloc[:int(1e5)]\n",
    "\n",
    "# test_df = pd.read_feather(path/\"cv2_test.feather\", columns=config.dtypes.keys())\n",
    "# test_df = pd.read_pickle(path/\"cv2_valid.pickle.zip\").astype(config.dtypes, errors=\"ignore\").reset_index()\n",
    "# test_df = test_df.iloc[:int(1e4)]\n",
    "\n",
    "print(\"cv2_train.feather, cv2_test.feather ok!\")\n",
    "\n",
    "\n",
    "# Preprocess for model fitting\n",
    "# train_user_agg, train_content_agg, train_df = preprocess_train_data(train_df, questions_df, config.target, config.dtypes)\n",
    "# test_user_agg, test_content_agg, test_df = preprocess_train_data(test_df, questions_df, config.target, config.dtypes)\n",
    "print(\"Preprocess for model fitting ok\")\n",
    "\n",
    "# Ratio is 6/24 = 25%\n",
    "test_df = train_df.groupby('user_id').tail(6)\n",
    "train_df.drop(test_df.index, inplace = True)\n",
    "\n",
    "# Training and validating data\n",
    "train_set = Pool(train_df[config.features], label = train_df[config.target], cat_features=config.cat_features)\n",
    "val_set = Pool(test_df[config.features], label = test_df[config.target], cat_features=config.cat_features)\n",
    "\n",
    "\n",
    "# val_set = Pool(valid_df[features], label = valid_df[target])\n",
    "\n",
    "# Model definition\n",
    "# params = {\n",
    "#     'loss_function': 'Logloss',\n",
    "#     'eval_metric': 'AUC',\n",
    "#     'custom_metric': 'AUC:hints=skip_train~false',\n",
    "#     'task_type': 'GPU', 'grow_policy': 'Lossguide',\n",
    "#     'iterations': 2000, 'learning_rate': 0.03,\n",
    "#     'random_seed': 0, 'bootstrap_type': 'Bayesian',\n",
    "#     'l2_leaf_reg': 463.75241951019393,\n",
    "#     'depth': 23, 'max_leaves': 21,\n",
    "#     'border_count': 163,\n",
    "#     'verbose': 250,\n",
    "#     'od_type': 'Iter',\n",
    "#     'od_wait': 50,\n",
    "#     'bagging_temperature': 2.055885684521886}\n",
    "params[\"learning_rate\"] = 4e-3\n",
    "params['iterations'] = 20000\n",
    "\n",
    "model = CatBoostClassifier(**params)\n",
    "\n",
    "# Fitting\n",
    "model.fit(train_set, eval_set = val_set, use_best_model = True)\n",
    "print(f\"kaggle_path {kaggle_path}\")\n",
    "\n",
    "model.save_model(f\"{kaggle_path/'catboost.model'}\")\n",
    "\n",
    "print(\"model.get_best_score()\")\n",
    "print(model.get_best_score())"
   ]
  },
  {
   "cell_type": "code",
   "execution_count": 2,
   "metadata": {},
   "outputs": [
    {
     "data": {
      "text/plain": [
       "PosixPath('/home/riiid')"
      ]
     },
     "execution_count": 2,
     "metadata": {},
     "output_type": "execute_result"
    }
   ],
   "source": [
    "from pathlib import Path\n",
    "Path.home()"
   ]
  },
  {
   "cell_type": "markdown",
   "metadata": {
    "pycharm": {
     "name": "#%% md\n"
    }
   },
   "source": [
    "Inference"
   ]
  },
  {
   "cell_type": "code",
   "execution_count": null,
   "metadata": {
    "collapsed": false,
    "jupyter": {
     "outputs_hidden": false
    },
    "pycharm": {
     "name": "#%%\n"
    }
   },
   "outputs": [],
   "source": [
    "#!M\n",
    "import pickle\n",
    "\n",
    "user_sum_dict = train_user_agg['sum'].astype('int32').to_dict(defaultdict(int))\n",
    "user_count_dict = train_user_agg['count'].astype('int32').to_dict(defaultdict(int))\n",
    "content_sum_dict = train_content_agg['sum'].astype('int32').to_dict(defaultdict(int))\n",
    "content_count_dict = train_content_agg['count'].astype('int32').to_dict(defaultdict(int))\n",
    "\n",
    "for filename, dic in zip([\"user_sum_dict\", \"user_count_dict\", \"content_sum_dict\", \"content_count_dict\"],\n",
    "                         [user_sum_dict, user_count_dict, content_sum_dict, content_count_dict]):\n",
    "    with open(f'{kaggle_path}/{filename}.pickle', 'wb') as handle:\n",
    "        pickle.dump(dic, handle)"
   ]
  },
  {
   "cell_type": "code",
   "execution_count": null,
   "metadata": {
    "collapsed": false,
    "jupyter": {
     "outputs_hidden": false
    },
    "pycharm": {
     "name": "#%%\n"
    }
   },
   "outputs": [],
   "source": [
    "train_df.head()\n",
    "del train_df\n",
    "gc.collect()"
   ]
  },
  {
   "cell_type": "code",
   "execution_count": null,
   "metadata": {
    "collapsed": false,
    "jupyter": {
     "outputs_hidden": false
    },
    "pycharm": {
     "name": "#%%\n"
    }
   },
   "outputs": [],
   "source": [
    "%%time\n",
    "validaten_flg = True\n",
    "if validaten_flg:\n",
    "    from emulator import Iter_Valid\n",
    "    iter_test = Iter_Valid(test_df,max_user=1000)\n",
    "    predicted = []\n",
    "    def set_predict(df):\n",
    "        predicted.append(df)\n",
    "else:\n",
    "    import riiideducation\n",
    "    env = riiideducation.make_env()\n",
    "    iter_test = env.iter_test()\n",
    "    set_predict = env.predict"
   ]
  },
  {
   "cell_type": "code",
   "execution_count": null,
   "metadata": {
    "collapsed": false,
    "jupyter": {
     "outputs_hidden": false
    },
    "pycharm": {
     "name": "#%%\n"
    }
   },
   "outputs": [],
   "source": [
    "%%time\n",
    "\n",
    "prior_test_df = None\n",
    "for (test_df, sample_prediction_df) in iter_test:\n",
    "    if prior_test_df is not None:\n",
    "        prior_test_df[config.target] = eval(test_df['prior_group_answers_correct'].iloc[0])\n",
    "        prior_test_df = prior_test_df[prior_test_df[config.target] != -1].reset_index(drop = True)\n",
    "\n",
    "        user_ids = prior_test_df['user_id'].values\n",
    "        content_ids = prior_test_df['content_id'].values\n",
    "        targets = prior_test_df[config.target].values\n",
    "\n",
    "        # for user_id, content_id, answered_correctly in prior_test_df[[\"user_id\", \"content_id\", target]].values:\n",
    "        for user_id, content_id, answered_correctly in zip(user_ids, content_ids, targets):\n",
    "            user_sum_dict[user_id] += answered_correctly\n",
    "            user_count_dict[user_id] += 1\n",
    "            content_sum_dict[content_id] += answered_correctly\n",
    "            content_count_dict[content_id] += 1\n",
    "\n",
    "    prior_test_df = test_df.copy()\n",
    "\n",
    "    test_df = test_df[test_df['content_type_id'] == 0].reset_index(drop = True)\n",
    "    test_df.drop(labels=\"part\", axis=1, inplace=True)\n",
    "    test_df.content_id = test_df.content_id.astype(int)\n",
    "\n",
    "    test_df = pd.merge(test_df, questions_df, left_on = 'content_id', right_on = 'question_id', how = 'left')\n",
    "    test_df['prior_question_had_explanation'] = test_df['prior_question_had_explanation'].fillna(False).astype('bool')\n",
    "    user_sum = np.zeros(len(test_df), dtype = np.int32)\n",
    "    user_count = np.zeros(len(test_df), dtype = np.int32)\n",
    "    content_sum = np.zeros(len(test_df), dtype = np.int32)\n",
    "    content_count = np.zeros(len(test_df), dtype = np.int32)\n",
    "\n",
    "    for i, (user_id, content_id) in enumerate(zip(test_df['user_id'].values, test_df['content_id'].values)):\n",
    "        user_sum[i] = user_sum_dict[user_id]\n",
    "        user_count[i] = user_count_dict[user_id]\n",
    "        content_sum[i] = content_sum_dict[content_id]\n",
    "        content_count[i] = content_count_dict[content_id]\n",
    "\n",
    "    test_df['user_correctness'] = user_sum / user_count\n",
    "    test_df['content_count'] = content_count\n",
    "    test_df['content_id'] = content_sum / content_count\n",
    "    test_df[config.target] = model.predict_proba(test_df[config.features])[:,1]\n",
    "    set_predict(test_df[['row_id', config.target]])"
   ]
  }
 ],
 "metadata": {
  "kernelspec": {
   "display_name": "Python 3",
   "language": "python",
   "name": "python3"
  },
  "language_info": {
   "codemirror_mode": {
    "name": "ipython",
    "version": 3
   },
   "file_extension": ".py",
   "mimetype": "text/x-python",
   "name": "python",
   "nbconvert_exporter": "python",
   "pygments_lexer": "ipython3",
   "version": "3.7.6"
  }
 },
 "nbformat": 4,
 "nbformat_minor": 4
}
