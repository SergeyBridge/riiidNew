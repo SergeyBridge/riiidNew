{
 "cells": [
  {
   "cell_type": "code",
   "execution_count": 1,
   "metadata": {
    "collapsed": true
   },
   "outputs": [],
   "source": [
    "import pandas as pd\n",
    "import numpy as np\n",
    "import gc\n",
    "from random import randint, randrange, random, choice\n",
    "\n"
   ]
  },
  {
   "cell_type": "code",
   "execution_count": 6,
   "outputs": [],
   "source": [
    "n_users = 20000\n",
    "\n",
    "data_ = {\n",
    "    \"user_id\": list(range(1, int(n_users*1e2))),\n",
    "    \"content\": list(np.full( int((n_users)*1e2 - 1), fill_value=22))\n",
    "}\n",
    "\n",
    "data = pd.DataFrame(data_)\n",
    "data.set_index(\"user_id\", inplace=True)"
   ],
   "metadata": {
    "collapsed": false,
    "pycharm": {
     "name": "#%%\n"
    }
   }
  },
  {
   "cell_type": "code",
   "execution_count": 7,
   "outputs": [
    {
     "name": "stdout",
     "output_type": "stream",
     "text": [
      "data.shape, users.shape (1999999, 1) (19999, 1)\n"
     ]
    },
    {
     "data": {
      "text/plain": "222    6739\n333    6640\n111    6620\nName: content, dtype: int64"
     },
     "execution_count": 7,
     "metadata": {},
     "output_type": "execute_result"
    }
   ],
   "source": [
    "users_ = {\n",
    "    \"user_id\": list(range(1, n_users)),\n",
    "    \"content\": [choice([111, 222, 333]) for rand in range(1, n_users)]\n",
    "\n",
    "}\n",
    "\n",
    "users = pd.DataFrame(users_).sample(frac=1)\n",
    "users.set_index(\"user_id\", inplace=True)\n",
    "\n",
    "print(\"data.shape, users.shape\", data.shape, users.shape)\n",
    "users.content.value_counts()"
   ],
   "metadata": {
    "collapsed": false,
    "pycharm": {
     "name": "#%%\n"
    }
   }
  },
  {
   "cell_type": "code",
   "execution_count": 8,
   "outputs": [
    {
     "name": "stdout",
     "output_type": "stream",
     "text": [
      "set(data.user_id) - set(users.user_id)\n"
     ]
    },
    {
     "data": {
      "text/plain": "1980000"
     },
     "execution_count": 8,
     "metadata": {},
     "output_type": "execute_result"
    }
   ],
   "source": [
    "print(\"set(data.user_id) - set(users.user_id)\")\n",
    "len(set(data.index) - set(users.index))"
   ],
   "metadata": {
    "collapsed": false,
    "pycharm": {
     "name": "#%%\n"
    }
   }
  },
  {
   "cell_type": "code",
   "execution_count": 9,
   "outputs": [],
   "source": [
    "valid = data.sample(frac=.3, replace=False)"
   ],
   "metadata": {
    "collapsed": false,
    "pycharm": {
     "name": "#%%\n"
    }
   }
  },
  {
   "cell_type": "code",
   "execution_count": 10,
   "outputs": [
    {
     "name": "stdout",
     "output_type": "stream",
     "text": [
      "Just merge\n",
      "6036 600000 19999\n",
      "CPU times: user 712 ms, sys: 28.4 ms, total: 740 ms\n",
      "Wall time: 747 ms\n"
     ]
    },
    {
     "data": {
      "text/plain": "5384"
     },
     "execution_count": 10,
     "metadata": {},
     "output_type": "execute_result"
    }
   ],
   "source": [
    "%%time\n",
    "print(\"Just merge\")\n",
    "print(len(set(valid.index).intersection(users.index)), len(valid.index), len(users.index))\n",
    "\n",
    "\n",
    "_ = valid.merge(users, on=\"user_id\", how=\"left\")\n",
    "\n",
    "del _\n",
    "gc.collect()"
   ],
   "metadata": {
    "collapsed": false,
    "pycharm": {
     "name": "#%%\n"
    }
   }
  },
  {
   "cell_type": "code",
   "execution_count": 11,
   "outputs": [
    {
     "name": "stdout",
     "output_type": "stream",
     "text": [
      "merge with right_index=True\n",
      "6036 600000 19999\n",
      "CPU times: user 448 ms, sys: 4.06 ms, total: 452 ms\n",
      "Wall time: 456 ms\n"
     ]
    },
    {
     "data": {
      "text/plain": "19"
     },
     "execution_count": 11,
     "metadata": {},
     "output_type": "execute_result"
    }
   ],
   "source": [
    "%%time\n",
    "print(\"merge with right_index=True\")\n",
    "print(len(set(valid.index).intersection(users.index)), len(valid.index), len(users.index))\n",
    "\n",
    "_ = valid.merge(users, on=\"user_id\", how=\"left\", right_index=True)\n",
    "\n",
    "del _\n",
    "gc.collect()"
   ],
   "metadata": {
    "collapsed": false,
    "pycharm": {
     "name": "#%%\n"
    }
   }
  },
  {
   "cell_type": "code",
   "execution_count": 12,
   "outputs": [
    {
     "name": "stdout",
     "output_type": "stream",
     "text": [
      "merge with right_index=True and present users filtering\n",
      "6036 600000 19999\n",
      "CPU times: user 792 ms, sys: 35.9 ms, total: 827 ms\n",
      "Wall time: 826 ms\n"
     ]
    },
    {
     "data": {
      "text/plain": "19"
     },
     "execution_count": 12,
     "metadata": {},
     "output_type": "execute_result"
    }
   ],
   "source": [
    "%%time\n",
    "print(\"merge with right_index=True and present users filtering\")\n",
    "print(len(set(valid.index).intersection(users.index)), len(valid.index), len(users.index))\n",
    "\n",
    "users_loc = users.loc[users.index.isin(valid.index) ]\n",
    "\n",
    "_ = data.merge(users_loc, on=\"user_id\", how=\"left\", right_index=True)\n",
    "\n",
    "del _\n",
    "gc.collect()"
   ],
   "metadata": {
    "collapsed": false,
    "pycharm": {
     "name": "#%%\n"
    }
   }
  },
  {
   "cell_type": "code",
   "execution_count": 33,
   "outputs": [
    {
     "name": "stdout",
     "output_type": "stream",
     "text": [
      "90й перцентиль = 17.3\n"
     ]
    }
   ],
   "source": [
    "import numpy as pd\n",
    "\n",
    "arr = [0, 1, 2, 4, 7, 10, 11, 15, 17, 20]\n",
    "\n",
    "print(f\"90й перцентиль = {np.quantile(arr, q=.9):.1f}\")"
   ],
   "metadata": {
    "collapsed": false,
    "pycharm": {
     "name": "#%%\n"
    }
   }
  },
  {
   "cell_type": "code",
   "execution_count": null,
   "outputs": [],
   "source": [],
   "metadata": {
    "collapsed": false,
    "pycharm": {
     "name": "#%%\n"
    }
   }
  }
 ],
 "metadata": {
  "kernelspec": {
   "display_name": "Python 3",
   "language": "python",
   "name": "python3"
  },
  "language_info": {
   "codemirror_mode": {
    "name": "ipython",
    "version": 2
   },
   "file_extension": ".py",
   "mimetype": "text/x-python",
   "name": "python",
   "nbconvert_exporter": "python",
   "pygments_lexer": "ipython2",
   "version": "2.7.6"
  }
 },
 "nbformat": 4,
 "nbformat_minor": 0
}