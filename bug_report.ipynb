{
 "cells": [
  {
   "cell_type": "code",
   "execution_count": 1,
   "metadata": {
    "collapsed": true
   },
   "outputs": [
    {
     "data": {
      "text/plain": "<IPython.core.display.HTML object>",
      "text/html": "<style type='text/css'>\n.datatable table.frame { margin-bottom: 0; }\n.datatable table.frame thead { border-bottom: none; }\n.datatable table.frame tr.coltypes td {  color: #FFFFFF;  line-height: 6px;  padding: 0 0.5em;}\n.datatable .bool    { background: #DDDD99; }\n.datatable .object  { background: #565656; }\n.datatable .int     { background: #5D9E5D; }\n.datatable .float   { background: #4040CC; }\n.datatable .str     { background: #CC4040; }\n.datatable .row_index {  background: var(--jp-border-color3);  border-right: 1px solid var(--jp-border-color0);  color: var(--jp-ui-font-color3);  font-size: 9px;}\n.datatable .frame tr.coltypes .row_index {  background: var(--jp-border-color0);}\n.datatable th:nth-child(2) { padding-left: 12px; }\n.datatable .hellipsis {  color: var(--jp-cell-editor-border-color);}\n.datatable .vellipsis {  background: var(--jp-layout-color0);  color: var(--jp-cell-editor-border-color);}\n.datatable .na {  color: var(--jp-cell-editor-border-color);  font-size: 80%;}\n.datatable .footer { font-size: 9px; }\n.datatable .frame_dimensions {  background: var(--jp-border-color3);  border-top: 1px solid var(--jp-border-color0);  color: var(--jp-ui-font-color3);  display: inline-block;  opacity: 0.6;  padding: 1px 10px 1px 5px;}\n</style>\n"
     },
     "metadata": {},
     "output_type": "display_data"
    },
    {
     "name": "stdout",
     "output_type": "stream",
     "text": [
      "curdir /home/sergey/mnt/st1500/Usr/Sergey/TheJob/Challenges/2020Riiid\n"
     ]
    }
   ],
   "source": [
    "\n",
    "\n",
    "from tqdm import tqdm\n",
    "import numpy as np\n",
    "import pandas as pd\n",
    "import datatable as dt\n",
    "import dask.dataframe as dd\n",
    "\n",
    "from copy import copy\n",
    "\n",
    "from pathlib import Path\n",
    "\n",
    "from time import time, sleep\n",
    "from contextlib import contextmanager\n",
    "\n",
    "import matplotlib.pyplot as plt\n",
    "import plotly.express as plx\n",
    "import seaborn as sns\n",
    "\n",
    "import os, sys\n",
    "\n",
    "import gc\n",
    "\n",
    "# print(plt.style.available)\n",
    "plt.style.use(\"dark_background\")\n",
    "# plt.style.use(\"seaborn-dark\")\n",
    "\n",
    "# cluster = LocalCluster()\n",
    "# client = Client(cluster)\n",
    "\n",
    "\n",
    "print(f\"curdir {Path.cwd()}\")"
   ]
  },
  {
   "cell_type": "code",
   "execution_count": 2,
   "outputs": [
    {
     "name": "stdout",
     "output_type": "stream",
     "text": [
      "CPU times: user 3.07 s, sys: 3.74 s, total: 6.81 s\n",
      "Wall time: 23.3 s\n"
     ]
    }
   ],
   "source": [
    "%%time\n",
    "\n",
    "dtypes = {\n",
    "    \"row_id\": \"int64\",\n",
    "    # \"timestamp\": \"int64\",\n",
    "    \"user_id\": \"int32\",\n",
    "    \"content_id\": \"int16\",\n",
    "    # \"content_type_id\": \"boolean\",\n",
    "    # \"task_container_id\": \"int16\",\n",
    "    # \"user_answer\": \"int8\",\n",
    "    \"answered_correctly\": \"int8\",\n",
    "    \"prior_question_elapsed_time\": \"float32\",\n",
    "    \"prior_question_had_explanation\": \"boolean\"\n",
    "}\n",
    "\n",
    "\n",
    "#     data_pd = pd.read_csv(\"./input/train.csv\", dtype=dtypes, nrows=12.5e6, low_memory=False)\n",
    "# data_pd = pd.read_csv(\"./input/train.csv\", usecols=dtypes.keys(),  dtype=dtypes, low_memory=False)\n",
    "# data_dd = dd.from_pandas(data_pd, chunksize=int(1e4))\n",
    "# del data_pd\n",
    "# _ = gc.collect()\n",
    "data_pd = pd.read_feather(\"/mnt/data30G/2020riid/riiid_train.feather\")\n",
    "# train_dd = dd.from_pandas(train, chunksize=int(1e4))\n",
    "# train_dd = dd.read_csv(\"/mnt/data30G/2020riid/train.csv\",\n",
    "#                                dtype=dask_dtypes,\n",
    "#                                assume_missing=True,\n",
    "#                                low_memory=False,\n",
    "#                       )\n",
    "\n",
    "\n",
    "# train = train.loc[:1e5]\n"
   ],
   "metadata": {
    "collapsed": false,
    "pycharm": {
     "name": "#%%\n"
    }
   }
  },
  {
   "cell_type": "code",
   "execution_count": 3,
   "outputs": [
    {
     "data": {
      "text/plain": "Index                                   128\nrow_id                            809842656\ntimestamp                         809842656\nuser_id                           404921328\ncontent_id                        202460664\ncontent_type_id                   101230332\ntask_container_id                 202460664\nuser_answer                       101230332\nanswered_correctly                101230332\nprior_question_elapsed_time       404921328\nprior_question_had_explanation    809842656\ndtype: int64"
     },
     "execution_count": 3,
     "metadata": {},
     "output_type": "execute_result"
    }
   ],
   "source": [
    "data_pd.memory_usage()"
   ],
   "metadata": {
    "collapsed": false,
    "pycharm": {
     "name": "#%%\n"
    }
   }
  },
  {
   "cell_type": "code",
   "execution_count": 4,
   "outputs": [
    {
     "data": {
      "text/plain": "<bound method DataFrame.info of               row_id  timestamp     user_id  content_id  content_type_id  \\\n0                  0          0         115        5692            False   \n1                  1      56943         115        5716            False   \n2                  2     118363         115         128            False   \n3                  3     131167         115        7860            False   \n4                  4     137965         115        7922            False   \n...              ...        ...         ...         ...              ...   \n101230327  101230327  428564420  2147482888        3586            False   \n101230328  101230328  428585000  2147482888        6341            False   \n101230329  101230329  428613475  2147482888        4212            False   \n101230330  101230330  428649406  2147482888        6343            False   \n101230331  101230331  428692118  2147482888        7995            False   \n\n           task_container_id  user_answer  answered_correctly  \\\n0                          1            3                   1   \n1                          2            2                   1   \n2                          0            0                   1   \n3                          3            0                   1   \n4                          4            1                   1   \n...                      ...          ...                 ...   \n101230327                 22            0                   1   \n101230328                 23            3                   1   \n101230329                 24            3                   1   \n101230330                 25            1                   0   \n101230331                 26            3                   1   \n\n           prior_question_elapsed_time prior_question_had_explanation  \n0                                  NaN                           None  \n1                              37000.0                          False  \n2                              55000.0                          False  \n3                              19000.0                          False  \n4                              11000.0                          False  \n...                                ...                            ...  \n101230327                      18000.0                           True  \n101230328                      14000.0                           True  \n101230329                      14000.0                           True  \n101230330                      22000.0                           True  \n101230331                      29000.0                           True  \n\n[101230332 rows x 10 columns]>"
     },
     "execution_count": 4,
     "metadata": {},
     "output_type": "execute_result"
    }
   ],
   "source": [
    "data_pd.info"
   ],
   "metadata": {
    "collapsed": false,
    "pycharm": {
     "name": "#%%\n"
    }
   }
  },
  {
   "cell_type": "code",
   "execution_count": 5,
   "outputs": [
    {
     "name": "stdout",
     "output_type": "stream",
     "text": [
      "groupby started\n",
      "CPU times: user 616 µs, sys: 0 ns, total: 616 µs\n",
      "Wall time: 452 µs\n"
     ]
    }
   ],
   "source": [
    "%%time\n",
    "print(\"groupby started\")\n",
    "users = data_pd.groupby(\"user_id\")"
   ],
   "metadata": {
    "collapsed": false,
    "pycharm": {
     "name": "#%%\n"
    }
   }
  },
  {
   "cell_type": "code",
   "execution_count": 6,
   "outputs": [
    {
     "name": "stdout",
     "output_type": "stream",
     "text": [
      "len(users) 393656 78731\n"
     ]
    }
   ],
   "source": [
    "users_len = len(users)\n",
    "nvalid = int(users_len/5)\n",
    "print(\"len(users)\", users_len, nvalid)"
   ],
   "metadata": {
    "collapsed": false,
    "pycharm": {
     "name": "#%%\n"
    }
   }
  },
  {
   "cell_type": "code",
   "execution_count": null,
   "outputs": [
    {
     "name": "stdout",
     "output_type": "stream",
     "text": [
      "users.tail(nvalid) started\n"
     ]
    }
   ],
   "source": [
    "%%time\n",
    "\n",
    "print(\"users.tail(nvalid) started\")\n",
    "valid_pd = users.tail(nvalid)\n",
    "valid_pd.reset_index().to_feather(\"/mnt/data30G/2020riid/valid_small.feather\")\n",
    "valid_mean = valid_pd.answered_correctly.dropna().values.mean()\n",
    "\n",
    "del valid_pd\n",
    "_ = gc.collect()"
   ],
   "metadata": {
    "collapsed": false,
    "pycharm": {
     "name": "#%%\n"
    }
   }
  },
  {
   "cell_type": "code",
   "execution_count": null,
   "outputs": [],
   "source": [
    "%%time\n",
    "\n",
    "print(\"users.head(users_len-nvalid) started\")\n",
    "train_pd = users.head(users_len-nvalid)\n",
    "train_pd.reset_index().to_feather(\"/mnt/data30G/2020riid/train_small.feather\")\n",
    "train_mean = train_pd.answered_correctly.dropna().values.mean()\n",
    "print(\"train_pd\", train_pd.shape)\n",
    "\n",
    "del train_pd\n",
    "_ = gc.collect()\n",
    "\n",
    "# print(\"valid_pd\", valid_pd.shape)"
   ],
   "metadata": {
    "collapsed": false,
    "pycharm": {
     "name": "#%%\n"
    }
   }
  },
  {
   "cell_type": "code",
   "execution_count": null,
   "outputs": [],
   "source": [
    "print(\" trainmean validmean\")\n",
    "print(train_mean, valid_mean)\n",
    "\n"
   ],
   "metadata": {
    "collapsed": false,
    "pycharm": {
     "name": "#%%\n"
    }
   }
  },
  {
   "cell_type": "code",
   "execution_count": null,
   "outputs": [],
   "source": [
    "# with timer(\"types SSD\"):\n",
    "#     for col, type_ in dask_dtypes.items():\n",
    "#         print(col, train_dd[col].dtype())\n",
    "#         # train[col] = train[col].astype(type_)\n",
    "#         train_dd[col] = delayed(train_dd[col].astype(type_))"
   ],
   "metadata": {
    "collapsed": false,
    "pycharm": {
     "name": "#%%\n"
    }
   }
  },
  {
   "cell_type": "code",
   "execution_count": null,
   "outputs": [],
   "source": [
    "%%time\n",
    "# train_dd = train_dd.loc[:10000]\n",
    "print(\"1 train_dd.head()\")\n",
    "\n",
    "# train_dd.head()\n",
    "print(type(train_dd))\n",
    "train_dd.shape[0].compute()"
   ],
   "metadata": {
    "collapsed": false,
    "pycharm": {
     "name": "#%%\n"
    }
   }
  },
  {
   "cell_type": "code",
   "execution_count": null,
   "outputs": [],
   "source": [
    "%%time\n",
    "\n",
    "if \"row_id\" in train_dd.columns:\n",
    "    # train.set_index(\"row_id\", inplace=True)\n",
    "    train_dd = train_dd.set_index(\"row_id\")\n",
    "    # res = train_dd.mean()\n",
    "    # res = delayed(train_dd.mean)()\n",
    "# res_delayed = res.compute()\n",
    "print(\"res = train_dd.mean()\")\n",
    "# print(res_delayed)"
   ],
   "metadata": {
    "collapsed": false,
    "pycharm": {
     "name": "#%%\n"
    }
   }
  },
  {
   "cell_type": "code",
   "execution_count": null,
   "outputs": [],
   "source": [
    "%%time\n",
    "\n",
    "res_delayed = delayed(train_dd.mean)()\n"
   ],
   "metadata": {
    "collapsed": false,
    "pycharm": {
     "name": "#%%\n"
    }
   }
  },
  {
   "cell_type": "code",
   "execution_count": null,
   "outputs": [],
   "source": [
    "res_delayed.visualize()"
   ],
   "metadata": {
    "collapsed": false,
    "pycharm": {
     "name": "#%%\n"
    }
   }
  },
  {
   "cell_type": "code",
   "execution_count": null,
   "outputs": [],
   "source": [
    "%%time\n",
    "\n",
    "with ProgressBar():\n",
    "    out = res_delayed.compute()\n",
    "\n",
    "    print(f\" out res_delayed = \\n {out}\")"
   ],
   "metadata": {
    "collapsed": false,
    "pycharm": {
     "name": "#%%\n"
    }
   }
  },
  {
   "cell_type": "code",
   "execution_count": null,
   "outputs": [],
   "source": [
    "res_delayed.visualize()"
   ],
   "metadata": {
    "collapsed": false,
    "pycharm": {
     "name": "#%%\n"
    }
   }
  },
  {
   "cell_type": "code",
   "execution_count": null,
   "outputs": [],
   "source": [
    "# train_dd[\"attempt\"] = -1\n",
    "\n",
    "print(f\" train_dd.head() 2 = \")\n",
    "train_dd.head()\n"
   ],
   "metadata": {
    "collapsed": false,
    "pycharm": {
     "name": "#%%\n"
    }
   }
  },
  {
   "cell_type": "code",
   "execution_count": null,
   "outputs": [],
   "source": [
    "train_dd.count().compute()"
   ],
   "metadata": {
    "collapsed": false,
    "pycharm": {
     "name": "#%%\n"
    }
   }
  },
  {
   "cell_type": "code",
   "execution_count": null,
   "outputs": [],
   "source": [
    "len(train_dd) - train_dd.count().compute()"
   ],
   "metadata": {
    "collapsed": false,
    "pycharm": {
     "name": "#%%\n"
    }
   }
  },
  {
   "cell_type": "code",
   "execution_count": null,
   "outputs": [],
   "source": [
    "print(train_dd.shape[0].compute(), train_dd.shape[1])"
   ],
   "metadata": {
    "collapsed": false,
    "pycharm": {
     "name": "#%%\n"
    }
   }
  },
  {
   "cell_type": "code",
   "execution_count": null,
   "outputs": [],
   "source": [
    "pd.Series(train_dd.user_id.compute()).nunique()\n"
   ],
   "metadata": {
    "collapsed": false,
    "pycharm": {
     "name": "#%%\n"
    }
   }
  },
  {
   "cell_type": "code",
   "execution_count": null,
   "outputs": [],
   "source": [
    "%%time\n",
    "print(\"max\", train_dd.user_id.compute().value_counts().max())\n",
    "print(\"mean\", train_dd.user_id.compute().value_counts().mean())\n",
    "print(\"median\", train_dd.user_id.compute().value_counts().quantile(.5))"
   ],
   "metadata": {
    "collapsed": false,
    "pycharm": {
     "name": "#%%\n"
    }
   }
  },
  {
   "cell_type": "code",
   "execution_count": null,
   "outputs": [],
   "source": [
    "%%time\n",
    "max, mean, median = compute(\n",
    "    train_dd.user_id.value_counts().max(),\n",
    "    train_dd.user_id.value_counts().mean(),\n",
    "    train_dd.user_id.value_counts().quantile(.5)\n",
    ")\n",
    "print(max, mean, median)"
   ],
   "metadata": {
    "collapsed": false,
    "pycharm": {
     "name": "#%%\n"
    }
   }
  },
  {
   "cell_type": "code",
   "execution_count": null,
   "outputs": [],
   "source": [
    "def get_user_quantiles(df, plot=False):\n",
    "\n",
    "    quantiles = []\n",
    "    for q in np.arange(start=.4, stop=.8, step=.1):\n",
    "        quantiles.append((q, df.user_id.value_counts().quantile(q=q).compute()))\n",
    "        if plot:\n",
    "            print(f\"quantile {quantiles[-1]}\")\n",
    "            plt.plot(*quantiles[-1], marker=\"o\",  c=\"w\")\n",
    "    return quantiles"
   ],
   "metadata": {
    "collapsed": false,
    "pycharm": {
     "name": "#%%\n"
    }
   }
  },
  {
   "cell_type": "code",
   "execution_count": null,
   "outputs": [],
   "source": [
    "from sklearn.preprocessing import StandardScaler"
   ],
   "metadata": {
    "collapsed": false,
    "pycharm": {
     "name": "#%%\n"
    }
   }
  },
  {
   "cell_type": "code",
   "execution_count": null,
   "outputs": [],
   "source": [
    "train_dd.columns"
   ],
   "metadata": {
    "collapsed": false,
    "pycharm": {
     "name": "#%%\n"
    }
   }
  },
  {
   "cell_type": "code",
   "execution_count": null,
   "outputs": [],
   "source": [
    "# total = train_dd.user_id.nunique()\n",
    "groups = train_dd.groupby(by=\"user_id\")\n",
    "# total = len(groups.size())\n",
    "# print(\"total\", total)"
   ],
   "metadata": {
    "collapsed": false,
    "pycharm": {
     "name": "#%%\n"
    }
   }
  },
  {
   "cell_type": "code",
   "execution_count": null,
   "outputs": [],
   "source": [
    "%%time\n",
    "def print_count(group):\n",
    "    print(\"print 1 from print_count\")\n",
    "\n",
    "groups_apply = groups.sum()"
   ],
   "metadata": {
    "collapsed": false,
    "pycharm": {
     "name": "#%%\n"
    }
   }
  },
  {
   "cell_type": "code",
   "execution_count": null,
   "outputs": [],
   "source": [
    "%%time\n",
    "groups_apply.compute()"
   ],
   "metadata": {
    "collapsed": false,
    "pycharm": {
     "name": "#%%\n"
    }
   }
  },
  {
   "cell_type": "code",
   "execution_count": null,
   "outputs": [],
   "source": [
    "iter = groups\n"
   ],
   "metadata": {
    "collapsed": false,
    "pycharm": {
     "name": "#%%\n"
    }
   }
  },
  {
   "cell_type": "code",
   "execution_count": null,
   "outputs": [],
   "source": [
    "%%time\n",
    "\n",
    "content_id_sum = groups.content_id.sum()\n",
    "\n",
    "print(\"content_id_sum.compute()\")\n",
    "content_id_sum.compute()"
   ],
   "metadata": {
    "collapsed": false,
    "pycharm": {
     "name": "#%%\n"
    }
   }
  },
  {
   "cell_type": "code",
   "execution_count": null,
   "outputs": [],
   "source": [
    "%%time\n",
    "agg = groups.aggregate(['sum', 'mean', 'max', 'min', list]).compute()"
   ],
   "metadata": {
    "collapsed": false,
    "pycharm": {
     "name": "#%%\n"
    }
   }
  },
  {
   "cell_type": "code",
   "execution_count": null,
   "outputs": [],
   "source": [
    "agg"
   ],
   "metadata": {
    "collapsed": false,
    "pycharm": {
     "name": "#%%\n"
    }
   }
  },
  {
   "cell_type": "code",
   "execution_count": null,
   "outputs": [],
   "source": [
    "agg.loc[115, \"timestamp\"][\"sum\"]"
   ],
   "metadata": {
    "collapsed": false,
    "pycharm": {
     "name": "#%%\n"
    }
   }
  },
  {
   "cell_type": "code",
   "execution_count": null,
   "outputs": [],
   "source": [
    "with timer(\"rolling values\"):\n",
    "    for id, df in tqdm(groups, total=total):\n",
    "        print(\"ok\")\n",
    "        # print(f\"  user_id = {id}  shape = {df.shape[0]} is_monotonic {df.timestamp.is_monotonic}\")\n",
    "        pass\n",
    "        # train_dd.loc[df.index, \"attempt\"] = range(1, df.shape[0]+1)\n",
    "\n",
    "        # quantiles = get_user_quantiles(df=df)\n",
    "        #\n",
    "        # for quantile, val in quantiles:\n",
    "        #     train_dd.loc[df.index, f\"q{quantile}_None\"] = df.timestamp.rolling(\n",
    "        #         int(val),\n",
    "        #         min_periods=1,\n",
    "        #         win_type=None,\n",
    "        #     ).quantile(quantile)\n",
    "        #\n",
    "        #     train_dd.loc[df.index, f\"q{quantile}_gauss\"] = df.timestamp.rolling(\n",
    "        #         int(val),\n",
    "        #         min_periods=1,\n",
    "        #         win_type=\"gaussian\",\n",
    "        #     ).mean(std=3)\n",
    "        #\n",
    "        #     train_dd.loc[df.index, f\"q{quantile}_exp\"] = df.timestamp.rolling(\n",
    "        #         int(val),\n",
    "        #         min_periods=1,\n",
    "        #         win_type=\"exponential\",\n",
    "        #     ).sum(tau=3)\n",
    "\n",
    "# train_dd = train_dd.compute()\n",
    "\n"
   ],
   "metadata": {
    "collapsed": false,
    "pycharm": {
     "name": "#%%\n"
    }
   }
  },
  {
   "cell_type": "code",
   "execution_count": null,
   "outputs": [],
   "source": [
    "train_shuffled = train.sample()\n",
    "print(\"train.shape\", train.shape)\n",
    "train.head(20)"
   ],
   "metadata": {
    "collapsed": false,
    "pycharm": {
     "name": "#%%\n"
    }
   }
  },
  {
   "cell_type": "code",
   "execution_count": null,
   "outputs": [],
   "source": [
    "submit_example = pd.read_csv(\"./input/example_sample_submission.csv\", )\n",
    "test = pd.read_csv(\"./input/example_test.csv\")\n",
    "lectures = pd.read_csv(\"./input/lectures.csv\")\n",
    "questions = pd.read_csv(\"./input/questions.csv\")\n",
    "print(\"ok\")"
   ],
   "metadata": {
    "collapsed": false,
    "pycharm": {
     "name": "#%%\n"
    }
   }
  },
  {
   "cell_type": "code",
   "execution_count": null,
   "outputs": [],
   "source": [
    "print(\"submit_example.shape\", submit_example.shape[0])\n",
    "submit_example.head()"
   ],
   "metadata": {
    "collapsed": false,
    "pycharm": {
     "name": "#%%\n"
    }
   }
  },
  {
   "cell_type": "code",
   "execution_count": null,
   "outputs": [],
   "source": [
    "print(\"test.shape\", test.shape)\n",
    "test.head()"
   ],
   "metadata": {
    "collapsed": false,
    "pycharm": {
     "name": "#%%\n"
    }
   }
  },
  {
   "cell_type": "code",
   "execution_count": null,
   "outputs": [],
   "source": [
    "print(\"lectures.shape\", lectures.shape)\n",
    "lectures.head()\n",
    "\n"
   ],
   "metadata": {
    "collapsed": false,
    "pycharm": {
     "name": "#%%\n"
    }
   }
  },
  {
   "cell_type": "code",
   "execution_count": null,
   "outputs": [],
   "source": [
    "set(train.columns).symmetric_difference(set(test.columns))"
   ],
   "metadata": {
    "collapsed": false,
    "pycharm": {
     "name": "#%%\n"
    }
   }
  },
  {
   "cell_type": "code",
   "execution_count": null,
   "outputs": [],
   "source": [
    "set(test.columns) - set(train.columns)"
   ],
   "metadata": {
    "collapsed": false,
    "pycharm": {
     "name": "#%%\n"
    }
   }
  },
  {
   "cell_type": "code",
   "execution_count": null,
   "outputs": [],
   "source": [
    "set(train.columns) - set(test.columns)"
   ],
   "metadata": {
    "collapsed": false,
    "pycharm": {
     "name": "#%%\n"
    }
   }
  },
  {
   "cell_type": "code",
   "execution_count": null,
   "outputs": [],
   "source": [
    "train.columns"
   ],
   "metadata": {
    "collapsed": false,
    "pycharm": {
     "name": "#%%\n"
    }
   }
  },
  {
   "cell_type": "code",
   "execution_count": null,
   "outputs": [],
   "source": [
    "test.columns\n"
   ],
   "metadata": {
    "collapsed": false,
    "pycharm": {
     "name": "#%%\n"
    }
   }
  },
  {
   "cell_type": "code",
   "execution_count": null,
   "outputs": [],
   "source": [
    "%time\n",
    "\n",
    "# train_dt = dt.fread(\"./input/train.csv\")\n",
    "# print(\"train_dt.head()\")\n",
    "# train_dt.head(5)"
   ],
   "metadata": {
    "collapsed": false,
    "pycharm": {
     "name": "#%%\n"
    }
   }
  },
  {
   "cell_type": "markdown",
   "source": [
    "##Questions"
   ],
   "metadata": {
    "collapsed": false,
    "pycharm": {
     "name": "#%% md\n"
    }
   }
  },
  {
   "cell_type": "code",
   "execution_count": null,
   "outputs": [],
   "source": [
    "print(\"questions.shape\", questions.shape)\n",
    "questions.head()"
   ],
   "metadata": {
    "collapsed": false,
    "pycharm": {
     "name": "#%%\n"
    }
   }
  },
  {
   "cell_type": "code",
   "execution_count": null,
   "outputs": [],
   "source": [
    "bundle_ids = questions.value_counts(subset=[\"bundle_id\"])\n",
    "print(bundle_ids)\n",
    "plt.hist(x=bundle_ids, bins=10);\n"
   ],
   "metadata": {
    "collapsed": false,
    "pycharm": {
     "name": "#%%\n"
    }
   }
  },
  {
   "cell_type": "code",
   "execution_count": null,
   "outputs": [],
   "source": [
    "questions.value_counts(subset=[\"correct_answer\"])\n"
   ],
   "metadata": {
    "collapsed": false,
    "pycharm": {
     "name": "#%%\n"
    }
   }
  },
  {
   "cell_type": "code",
   "execution_count": null,
   "outputs": [],
   "source": [
    "questions.value_counts(subset=[\"part\"])\n",
    "\n"
   ],
   "metadata": {
    "collapsed": false,
    "pycharm": {
     "name": "#%%\n"
    }
   }
  },
  {
   "cell_type": "code",
   "execution_count": null,
   "outputs": [],
   "source": [
    "questions.tags = questions.tags.astype(str).apply([str.strip, str.split])\n",
    "questions.tags[0][0]"
   ],
   "metadata": {
    "collapsed": false,
    "pycharm": {
     "name": "#%%\n"
    }
   }
  },
  {
   "cell_type": "code",
   "execution_count": null,
   "outputs": [],
   "source": [
    "# ll = train_dt.shape[0]\n",
    "#\n",
    "# uniques = dt.unique(train_dt[\"user_id\"]).shape[0]\n",
    "# print(ll)\n",
    "# print(uniques)\n",
    "# print(ll/uniques)"
   ],
   "metadata": {
    "collapsed": false,
    "pycharm": {
     "name": "#%%\n"
    }
   }
  },
  {
   "cell_type": "code",
   "execution_count": null,
   "outputs": [],
   "source": [
    "value_counts = train.user_id.value_counts()"
   ],
   "metadata": {
    "collapsed": false,
    "pycharm": {
     "name": "#%%\n"
    }
   }
  },
  {
   "cell_type": "code",
   "execution_count": null,
   "outputs": [],
   "source": [
    "value_counts"
   ],
   "metadata": {
    "collapsed": false,
    "pycharm": {
     "name": "#%%\n"
    }
   }
  },
  {
   "cell_type": "code",
   "execution_count": null,
   "outputs": [],
   "source": [
    "plt.hist(value_counts);"
   ],
   "metadata": {
    "collapsed": false,
    "pycharm": {
     "name": "#%%\n"
    }
   }
  },
  {
   "cell_type": "code",
   "execution_count": null,
   "outputs": [],
   "source": [],
   "metadata": {
    "collapsed": false,
    "pycharm": {
     "name": "#%%\n"
    }
   }
  }
 ],
 "metadata": {
  "kernelspec": {
   "display_name": "Python 3",
   "language": "python",
   "name": "python3"
  },
  "language_info": {
   "codemirror_mode": {
    "name": "ipython",
    "version": 2
   },
   "file_extension": ".py",
   "mimetype": "text/x-python",
   "name": "python",
   "nbconvert_exporter": "python",
   "pygments_lexer": "ipython2",
   "version": "2.7.6"
  }
 },
 "nbformat": 4,
 "nbformat_minor": 0
}