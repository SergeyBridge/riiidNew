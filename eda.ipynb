{
 "cells": [
  {
   "cell_type": "code",
   "execution_count": null,
   "metadata": {},
   "outputs": [],
   "source": [
    "import gc\n",
    "\n",
    "from tqdm import tqdm\n",
    "import numpy as np\n",
    "import pandas as pd\n",
    "pd.set_option('display.max_rows', 120)\n",
    "\n",
    "import datatable as dt\n",
    "import dask.dataframe as dd\n",
    "\n",
    "from copy import copy\n",
    "\n",
    "from pathlib import Path\n",
    "\n",
    "from time import time, sleep\n",
    "from contextlib import contextmanager\n",
    "\n",
    "import matplotlib.pyplot as plt\n",
    "\n",
    "import plotly.express as plx\n",
    "import seaborn as sns\n",
    "\n",
    "import os, sys\n",
    "\n",
    "from dask.diagnostics import ProgressBar\n",
    "from dask.diagnostics import Profiler, ResourceProfiler, CacheProfiler\n",
    "from dask.distributed import Client, LocalCluster\n",
    "from dask import compute\n",
    "from dask import delayed\n",
    "\n",
    "import gc\n",
    "\n",
    "from emulator import Iter_Valid\n",
    "\n",
    "# print(plt.style.available)\n",
    "# plt.style.use(\"dark_background\")\n",
    "# plt.style.use(\"seaborn-dark\")\n",
    "\n",
    "\n",
    "print(f\"curdir {Path.cwd()}\")"
   ]
  },
  {
   "cell_type": "code",
   "execution_count": null,
   "metadata": {
    "collapsed": false,
    "jupyter": {
     "outputs_hidden": false
    },
    "pycharm": {
     "name": "#%%\n"
    }
   },
   "outputs": [],
   "source": [
    "# %%time\n",
    "# data = pd.read_feather(\"/mnt/data30G/2020riid/riiid_train.feather\")\n",
    "#\n",
    "# data.head(1)\n",
    "#\n",
    "# data.memory_usage(deep=True)\n",
    "#\n",
    "# data.info()\n",
    "#\n",
    "# data.prior_question_had_explanation = data.prior_question_had_explanation.astype(bool)\n",
    "# data.info()"
   ]
  },
  {
   "cell_type": "code",
   "execution_count": null,
   "metadata": {},
   "outputs": [],
   "source": []
  },
  {
   "cell_type": "code",
   "execution_count": null,
   "metadata": {},
   "outputs": [],
   "source": [
    "dtypes = \\\n",
    "    {'row_id': 'int64',\n",
    "    'timestamp': 'int64',\n",
    "    'user_id': 'int32',\n",
    "    'content_id': 'int16',\n",
    "    'content_type_id': 'int8',\n",
    "#     'task_container_id': 'int16',\n",
    "#     'user_answer': 'int8',\n",
    "    'answered_correctly':'int8',\n",
    "    'prior_question_elapsed_time': 'float32',\n",
    "    'prior_question_had_explanation': 'boolean'}"
   ]
  },
  {
   "cell_type": "code",
   "execution_count": null,
   "metadata": {
    "collapsed": false,
    "jupyter": {
     "outputs_hidden": false
    },
    "pycharm": {
     "name": "#%%\n"
    }
   },
   "outputs": [],
   "source": [
    "%%time\n",
    "\n",
    "\n",
    "# valid_pd = pd.read_pickle(\"/home/sergey/mnt/4.5Tb/Downloads/riiidCVdata/cv1_valid.pickle.zip\").reset_index(drop=True)\n",
    "# valid_pd = pd.read_feather(\"/home/sergey/mnt/4.5Tb/Downloads/riiidCVdata/cv1_valid_1e4.feather\")  # .drop(\"row_id\", axis=1)\n",
    "# train_pd = pd.read_feather(\"/home/sergey/mnt/4.5Tb/Downloads/riiidCVdata/cv1_train_1e5.feather\", columns=dtypes.keys())  # .drop(\"row_id\", axis=1)\n",
    "# train_pd.to_parquet(\"/home/sergey/mnt/4.5Tb/Downloads/riiidCVdata/train.parquet.gzip\", compression=\"gzip\")\n",
    "# train_pd = dd.read_csv(\"/mnt/data30G/2020riid/train.csv\", low_memory=False)  # .drop(\"row_id\", axis=1)\n",
    "# train_pd = pd.read_feather(\"/mnt/data30G/2020riid/riiid_train.feather\")  # , columns=dtypes.keys())  # .drop(\"row_id\", axis=1)\n",
    "\n",
    "                   \n",
    "# train_lectures_pd = train_pd.loc[train_pd.answered_correctly == -1]\n",
    "# train_pd = train_pd.loc[train_pd.answered_correctly != -1]\n",
    "\n",
    "BIG_DASK = True\n",
    "\n",
    "if BIG_DASK:\n",
    "    from dask.distributed import Client\n",
    "    client = Client(n_workers=2, threads_per_worker=1, processes=False, memory_limit='6GB')\n",
    "    print(client)\n",
    "\n",
    "#    train_dd = dd.read_parquet(\"/home/sergey/mnt/4.5Tb/Downloads/riiidCVdata/train.big.parquet\", low_memory=False)\n",
    "    train_dd = dd.read_parquet(path=\"/mnt/data30G/2020riid/train.big.parquet\", \n",
    "                               low_memory=False, columns=dtypes.keys(), engine=\"pyarrow\", chunksize=1e5)\n",
    "\n",
    "    # train_pd.to_parquet(path=\"/home/sergey/mnt/4.5Tb/Downloads/riiidCVdata/train.big.parquet\", \n",
    "    #                     engine=\"pyarrow\",\n",
    "    #                     compression=None, \n",
    "    #                     # partition_cols=\"user_id\",\n",
    "    #                    )\n",
    "\n",
    "    users = train_dd.groupby(\"user_id\")[[\"timestamp\", \"prior_question_elapsed_time\"]].agg([\"mean\", \"min\", \"max\", \"count\"])\n",
    "    users.compute()\n"
   ]
  },
  {
   "cell_type": "code",
   "execution_count": null,
   "metadata": {},
   "outputs": [],
   "source": [
    "%%time\n",
    "# train_pd.groupby(\"user_id\")[[\"timestamp\", \"prior_question_elapsed_time\"]].agg([\"mean\", \"min\", \"max\", \"count\"])"
   ]
  },
  {
   "cell_type": "code",
   "execution_count": null,
   "metadata": {},
   "outputs": [],
   "source": [
    "%%time\n",
    "\n",
    "# for col, dtype in dtypes.items():\n",
    "#     if col not in [\"timestamp\", \"prior_question_elapsed_time\"]:\n",
    "#         train_dd[col] = train_dd[col].astype(dtype)\n",
    "\n",
    "train_dd.timestamp = (train_dd.timestamp/(1000)).astype(np.int16)\n",
    "\n",
    "train_dd.compute()"
   ]
  },
  {
   "cell_type": "code",
   "execution_count": null,
   "metadata": {},
   "outputs": [],
   "source": [
    "%%time\n",
    "\n",
    "# for col, dtype in dtypes.items():\n",
    "#     if col not in [\"timestamp\", \"prior_question_elapsed_time\"]:\n",
    "#         train_dd[col] = train_dd[col].astype(dtype)\n",
    "train_dd.prior_question_elapsed_time = train_dd.prior_question_elapsed_time.fillna(0)\n",
    "train_dd.prior_question_elapsed_time = (train_dd.prior_question_elapsed_time/1000).astype(np.int8)\n",
    "\n",
    "train_dd.compute()"
   ]
  },
  {
   "cell_type": "code",
   "execution_count": null,
   "metadata": {},
   "outputs": [],
   "source": [
    "y_train = train_pd.pop(\"answered_correctly\")\n",
    "\n",
    "y_train.compute()\n"
   ]
  },
  {
   "cell_type": "code",
   "execution_count": null,
   "metadata": {},
   "outputs": [],
   "source": [
    "users"
   ]
  },
  {
   "cell_type": "code",
   "execution_count": null,
   "metadata": {
    "collapsed": false,
    "jupyter": {
     "outputs_hidden": false
    },
    "pycharm": {
     "name": "#%%\n"
    }
   },
   "outputs": [],
   "source": [
    "%%time\n",
    "\n",
    "for col, dtype in dtypes.items():\n",
    "    if col not in [\"timestamp\", \"prior_question_elapsed_time\"]:\n",
    "        train_pd[col] = train_pd[col].astype(dtype, errors=\"ignore\")\n",
    "        gc.collect()\n",
    "        # valid_pd[col] = valid_pd[col].astype(dtype, errors=\"ignore\")\n",
    "\n",
    "train_pd.timestamp = (train_pd.timestamp/(1000)).astype(np.int16, errors=\"ignore\")\n",
    "train_pd.prior_question_elapsed_time = (train_pd.prior_question_elapsed_time/1000).astype(np.int8, errors=\"ignore\")\n",
    "\n",
    "y_train = train_pd.pop(\"answered_correctly\")\n",
    "gc.collect()"
   ]
  },
  {
   "cell_type": "code",
   "execution_count": null,
   "metadata": {},
   "outputs": [],
   "source": [
    "train_pd.head()"
   ]
  },
  {
   "cell_type": "code",
   "execution_count": null,
   "metadata": {
    "collapsed": false,
    "jupyter": {
     "outputs_hidden": false
    },
    "pycharm": {
     "name": "#%%\n"
    }
   },
   "outputs": [],
   "source": [
    "\n",
    "train_pd = train_pd.loc[train_pd.content_type_id == 0]\n",
    "# valid_pd = valid_pd.loc[valid_pd.content_type_id == 0]\n",
    "\n",
    "# valid_pd = valid_pd.iloc[:int(1e4)]\n",
    "# valid_pd.to_feather(\"/home/sergey/mnt/4.5Tb/Downloads/riiidCVdata/cv1_valid_1e4.feather\")\n",
    "\n",
    "print(\"train_pd.shape\", train_pd.shape)\n",
    "# print(\"valid_pd.shape\", valid_pd.shape)\n",
    "train_pd.head()"
   ]
  },
  {
   "cell_type": "code",
   "execution_count": null,
   "metadata": {},
   "outputs": [],
   "source": [
    "\n",
    "print(train_pd.timestamp.max(), train_pd.prior_question_elapsed_time.max())"
   ]
  },
  {
   "cell_type": "code",
   "execution_count": null,
   "metadata": {},
   "outputs": [],
   "source": [
    "print(train_pd.timestamp.mean(), train_pd.prior_question_elapsed_time.mean())"
   ]
  },
  {
   "cell_type": "code",
   "execution_count": null,
   "metadata": {
    "pycharm": {
     "name": "#%%\n"
    }
   },
   "outputs": [],
   "source": [
    "print(train_pd.timestamp.median(), train_pd.prior_question_elapsed_time.median())"
   ]
  },
  {
   "cell_type": "code",
   "execution_count": null,
   "metadata": {
    "pycharm": {
     "name": "#%%\n"
    }
   },
   "outputs": [],
   "source": [
    "plt.figure(figsize=(15, 7))\n",
    "train_pd.timestamp.hist(bins=50);"
   ]
  },
  {
   "cell_type": "code",
   "execution_count": null,
   "metadata": {},
   "outputs": [],
   "source": []
  },
  {
   "cell_type": "code",
   "execution_count": null,
   "metadata": {
    "collapsed": false,
    "jupyter": {
     "outputs_hidden": false
    },
    "pycharm": {
     "name": "#%%\n"
    }
   },
   "outputs": [],
   "source": [
    "print(f'Of the {train_pd.user_id.nunique()} users in train we have {train_pd[train_pd.timestamp == 0].user_id.nunique()} users with a timestamp zero row.')"
   ]
  },
  {
   "cell_type": "code",
   "execution_count": null,
   "metadata": {
    "collapsed": false,
    "jupyter": {
     "outputs_hidden": false
    },
    "pycharm": {
     "name": "#%%\n"
    }
   },
   "outputs": [],
   "source": [
    "train_pd = train_pd.loc[train_pd.content_type_id == 0]\n",
    "# valid_pd = valid_pd.loc[valid_pd.content_type_id == 0]\n",
    "\n",
    "# valid_pd = valid_pd.iloc[:int(1e4)]\n",
    "# valid_pd.to_feather(\"/home/sergey/mnt/4.5Tb/Downloads/riiidCVdata/cv1_valid_1e4.feather\")\n",
    "\n",
    "print(\"train_pd.shape\", train_pd.shape)\n",
    "# print(\"valid_pd.shape\", valid_pd.shape)\n",
    "train_pd.head()"
   ]
  },
  {
   "cell_type": "code",
   "execution_count": null,
   "metadata": {
    "pycharm": {
     "name": "#%%\n"
    }
   },
   "outputs": [],
   "source": [
    "train_pd.info()"
   ]
  },
  {
   "cell_type": "markdown",
   "metadata": {
    "pycharm": {
     "name": "#%% md\n"
    }
   },
   "source": [
    "## ПРОПУСКИ"
   ]
  },
  {
   "cell_type": "markdown",
   "metadata": {
    "pycharm": {
     "name": "#%% md\n"
    }
   },
   "source": [
    "### prior_question_had_explanation"
   ]
  },
  {
   "cell_type": "code",
   "execution_count": null,
   "metadata": {
    "collapsed": false,
    "jupyter": {
     "outputs_hidden": false
    },
    "pycharm": {
     "name": "#%%\n"
    }
   },
   "outputs": [],
   "source": [
    "# в prior_question_had_explanation пропуски заполняем False\n",
    "train_pd.prior_question_had_explanation = train_pd.prior_question_had_explanation.fillna(False)\n",
    "train_pd.prior_question_had_explanation.value_counts(dropna=False)"
   ]
  },
  {
   "cell_type": "markdown",
   "metadata": {
    "pycharm": {
     "name": "#%% md\n"
    }
   },
   "source": [
    "### prior_question_elapsed_time"
   ]
  },
  {
   "cell_type": "code",
   "execution_count": null,
   "outputs": [],
   "source": [
    "# Попробую забить нулями, потом подумать\n",
    "# TODO\n",
    "train_pd.prior_question_elapsed_time = train_pd.prior_question_elapsed_time.fillna(0)\n"
   ],
   "metadata": {
    "collapsed": false,
    "pycharm": {
     "name": "#%%\n"
    }
   }
  },
  {
   "cell_type": "code",
   "execution_count": null,
   "outputs": [],
   "source": [
    "train_pd.isna().any()"
   ],
   "metadata": {
    "collapsed": false,
    "pycharm": {
     "name": "#%%\n"
    }
   }
  },
  {
   "cell_type": "code",
   "execution_count": null,
   "outputs": [],
   "source": [
    "%%time\n",
    "# train_dd = dd.from_pandas(train_pd)\n",
    "# users = train_dd.groupby(\"user_id\")\n",
    "train_dd = dd.read_parquet(\"/home/sergey/mnt/4.5Tb/Downloads/riiidCVdata/train.parquet\", low_memory=False, dtype=dtypes)\n",
    "# train_dd = dd.read_csv(\"/mnt/data30G/2020riid/train.csv\", low_memory=False)\n",
    "users = train_dd.groupby(\"user_id\").agg(['min', 'max']).compute()\n"
   ],
   "metadata": {
    "collapsed": false,
    "pycharm": {
     "name": "#%%\n"
    }
   }
  },
  {
   "cell_type": "code",
   "execution_count": null,
   "outputs": [],
   "source": [
    "users"
   ],
   "metadata": {
    "collapsed": false,
    "pycharm": {
     "name": "#%%\n"
    }
   }
  },
  {
   "cell_type": "code",
   "execution_count": null,
   "metadata": {},
   "outputs": [],
   "source": [
    "train_pd = train_pd.loc[train_pd.content_type_id == 0]\n",
    "# valid_pd = valid_pd.loc[valid_pd.content_type_id == 0]\n",
    "\n",
    "# valid_pd = valid_pd.iloc[:int(1e4)]\n",
    "# valid_pd.to_feather(\"/home/sergey/mnt/4.5Tb/Downloads/riiidCVdata/cv1_valid_1e4.feather\")\n",
    "\n",
    "print(\"train_pd.shape\", train_pd.shape)\n",
    "# print(\"valid_pd.shape\", valid_pd.shape)\n",
    "train_pd.head()"
   ]
  },
  {
   "cell_type": "code",
   "execution_count": null,
   "metadata": {},
   "outputs": [],
   "source": [
    "train_pd.isna().any()"
   ]
  },
  {
   "cell_type": "code",
   "execution_count": null,
   "metadata": {},
   "outputs": [],
   "source": [
    "%%time\n",
    "# train_dd = dd.from_pandas(train_pd)\n",
    "# users = train_dd.groupby(\"user_id\")\n",
    "train_dd = dd.read_parquet(\"/home/sergey/mnt/4.5Tb/Downloads/riiidCVdata/train.parquet\", low_memory=False, dtype=dtypes)\n",
    "# train_dd = dd.read_csv(\"/mnt/data30G/2020riid/train.csv\", low_memory=False)\n",
    "users = train_dd.groupby(\"user_id\").agg(['min', 'max']).compute()\n"
   ]
  },
  {
   "cell_type": "code",
   "execution_count": null,
   "metadata": {},
   "outputs": [],
   "source": [
    "users"
   ]
  },
  {
   "cell_type": "code",
   "execution_count": null,
   "metadata": {
    "collapsed": false,
    "jupyter": {
     "outputs_hidden": false
    },
    "pycharm": {
     "name": "#%%\n"
    }
   },
   "outputs": [],
   "source": [
    "train_pd = train_pd.loc[train_pd.content_type_id == 0]\n",
    "# valid_pd = valid_pd.loc[valid_pd.content_type_id == 0]\n",
    "\n",
    "# valid_pd = valid_pd.iloc[:int(1e4)]\n",
    "# valid_pd.to_feather(\"/home/sergey/mnt/4.5Tb/Downloads/riiidCVdata/cv1_valid_1e4.feather\")\n",
    "\n",
    "print(\"train_pd.shape\", train_pd.shape)\n",
    "# print(\"valid_pd.shape\", valid_pd.shape)\n",
    "train_pd.head()"
   ]
  },
  {
   "cell_type": "code",
   "execution_count": null,
   "metadata": {
    "collapsed": false,
    "jupyter": {
     "outputs_hidden": false
    },
    "pycharm": {
     "name": "#%%\n"
    }
   },
   "outputs": [],
   "source": [
    "train_pd.info()"
   ]
  },
  {
   "cell_type": "markdown",
   "metadata": {
    "pycharm": {
     "name": "#%% md\n"
    }
   },
   "source": [
    "## ПРОПУСКИ"
   ]
  },
  {
   "cell_type": "markdown",
   "metadata": {
    "pycharm": {
     "name": "#%% md\n"
    }
   },
   "source": [
    "### prior_question_had_explanation"
   ]
  },
  {
   "cell_type": "code",
   "execution_count": null,
   "metadata": {
    "collapsed": false,
    "jupyter": {
     "outputs_hidden": false
    },
    "pycharm": {
     "name": "#%%\n"
    }
   },
   "outputs": [],
   "source": [
    "train_pd.prior_question_had_explanation.value_counts(dropna=False)"
   ]
  },
  {
   "cell_type": "code",
   "execution_count": null,
   "metadata": {
    "collapsed": false,
    "jupyter": {
     "outputs_hidden": false
    },
    "pycharm": {
     "name": "#%%\n"
    }
   },
   "outputs": [],
   "source": [
    "len(train_pd.loc[train_pd.timestamp == 0])"
   ]
  },
  {
   "cell_type": "code",
   "execution_count": null,
   "metadata": {
    "collapsed": false,
    "jupyter": {
     "outputs_hidden": false
    },
    "pycharm": {
     "name": "#%%\n"
    }
   },
   "outputs": [],
   "source": []
  },
  {
   "cell_type": "code",
   "execution_count": null,
   "metadata": {
    "collapsed": false,
    "jupyter": {
     "outputs_hidden": false
    },
    "pycharm": {
     "name": "#%%\n"
    }
   },
   "outputs": [],
   "source": [
    "train_isna = train_pd[train_pd.prior_question_had_explanation.isna()]\n",
    "train_pd = train_pd.loc[train_pd.prior_question_had_explanation.notna()]\n",
    "\n",
    "print(\"len(train_pd[train_pd.timestamp == 0])\", len(train_pd[train_pd.timestamp == 0]))\n",
    "print(\"len(train_pd[train_pd.content_type_id == 1])\", len(train_pd[train_pd.content_type_id == 1]))\n",
    "print(\"train_pd.shape\", train_pd.shape)\n",
    "print(\"train_isna.shape\", train_isna.shape)\n",
    "train_pd.head()"
   ]
  },
  {
   "cell_type": "code",
   "execution_count": null,
   "metadata": {},
   "outputs": [],
   "source": [
    "train_pd.user_id.nunique()"
   ]
  },
  {
   "cell_type": "code",
   "execution_count": null,
   "metadata": {},
   "outputs": [],
   "source": [
    "train_pd.info()"
   ]
  },
  {
   "cell_type": "code",
   "execution_count": null,
   "metadata": {},
   "outputs": [],
   "source": [
    "train_pd.memory_usage(deep=True)"
   ]
  },
  {
   "cell_type": "code",
   "execution_count": null,
   "metadata": {
    "pycharm": {
     "name": "#%%\n"
    }
   },
   "outputs": [],
   "source": [
    "users = train_pd.groupby(\"user_id\")\n",
    "count = 0\n",
    "count_zeros = 0\n",
    "user_attempts = []\n",
    "users_multiple_zero = []\n",
    "for user_id, user_df in users:\n",
    "    user_attempts.append(user_df.shape[0])\n",
    "    zeros_timestamp = len(user_df.loc[user_df.timestamp == 0])\n",
    "    if user_df.prior_question_had_explanation.isna().any():\n",
    "        print(user_id)\n",
    "    if zeros_timestamp > 1:\n",
    "        count_zeros+=1\n",
    "        users_multiple_zero.append(zeros_timestamp)\n",
    "        print(count_zeros, user_id, zeros_timestamp)\n",
    "    count+=1\n",
    "print(count)\n",
    "print(\"users_multiple_zero\", users_multiple_zero)"
   ]
  },
  {
   "cell_type": "markdown",
   "metadata": {
    "pycharm": {
     "name": "#%% md\n"
    }
   },
   "source": []
  },
  {
   "cell_type": "code",
   "execution_count": null,
   "metadata": {
    "collapsed": false,
    "jupyter": {
     "outputs_hidden": false
    },
    "pycharm": {
     "name": "#%%\n"
    }
   },
   "outputs": [],
   "source": [
    "train_pd.loc[train_pd.timestamp == 0].user_id.unique()\n"
   ]
  },
  {
   "cell_type": "code",
   "execution_count": null,
   "metadata": {
    "collapsed": false,
    "jupyter": {
     "outputs_hidden": false
    },
    "pycharm": {
     "name": "#%%\n"
    }
   },
   "outputs": [],
   "source": [
    "plt.figure(figsize=(20, 20))\n",
    "sns.histplot(user_attempts)"
   ]
  },
  {
   "cell_type": "code",
   "execution_count": null,
   "metadata": {
    "collapsed": false,
    "jupyter": {
     "outputs_hidden": false
    },
    "pycharm": {
     "name": "#%%\n"
    }
   },
   "outputs": [],
   "source": [
    "plx.histogram(user_attempts)"
   ]
  },
  {
   "cell_type": "markdown",
   "metadata": {},
   "source": [
    "## Clustering\n"
   ]
  },
  {
   "cell_type": "code",
   "execution_count": null,
   "metadata": {
    "collapsed": false,
    "jupyter": {
     "outputs_hidden": false
    },
    "pycharm": {
     "name": "#%%\n"
    }
   },
   "outputs": [],
   "source": [
    "\n"
   ]
  },
  {
   "cell_type": "code",
   "execution_count": null,
   "metadata": {
    "collapsed": false,
    "jupyter": {
     "outputs_hidden": false
    },
    "pycharm": {
     "name": "#%%\n"
    }
   },
   "outputs": [],
   "source": [
    "validaten_flg = True\n",
    "if validaten_flg:\n",
    "    iter_test = Iter_Valid(valid_pd,max_user=1000)\n",
    "    predicted = []\n",
    "    def set_predict(df):\n",
    "        predicted.append(df)\n",
    "else:\n",
    "    import riiideducation\n",
    "    env = riiideducation.make_env()\n",
    "    iter_test = env.iter_test()\n",
    "    set_predict = env.predict"
   ]
  },
  {
   "cell_type": "markdown",
   "metadata": {},
   "source": [
    "## iterator\n",
    "Now we can use iter_test(wrapper for env.iter_test) and set_predict(wrapper for env.predict) as usual.\n"
   ]
  },
  {
   "cell_type": "code",
   "execution_count": null,
   "metadata": {
    "collapsed": false,
    "jupyter": {
     "outputs_hidden": false
    },
    "pycharm": {
     "name": "#%%\n"
    }
   },
   "outputs": [],
   "source": [
    "\n",
    "\n",
    "\n",
    "result = train_pd.copy()\n",
    "users = train_pd.groupby(\"user_id\")\n",
    "count_ = users[\"index\"].count()\n",
    "print(type(count_))\n",
    "max_ = users.max()\n",
    "print(users)\n",
    "# print(users)\n",
    "result = result.merge(count_, left_on=\"user_id\", right_index=True)\n",
    "result = result.merge(max_, left_on=\"user_id\", right_index=True)\n",
    "result.head()\n",
    "# result = result.merge()"
   ]
  },
  {
   "cell_type": "code",
   "execution_count": null,
   "metadata": {
    "collapsed": false,
    "jupyter": {
     "outputs_hidden": false
    },
    "pycharm": {
     "name": "#%%\n"
    }
   },
   "outputs": [],
   "source": [
    "# %%time\n",
    "#\n",
    "# # pbar = tqdm(total=2500000)\n",
    "# pbar = tqdm(total=valid_pd.shape[0])\n",
    "# previous_test_df = None\n",
    "# current_list = []\n",
    "# for (current_test, current_prediction_df) in iter_test:\n",
    "#     if previous_test_df is not None:\n",
    "#         answers = eval(current_test[\"prior_group_answers_correct\"].iloc[0])\n",
    "#         responses = eval(current_test[\"prior_group_responses\"].iloc[0])\n",
    "#         previous_test_df['answered_correctly'] = answers\n",
    "#         previous_test_df['user_answer'] = responses\n",
    "#         # your feature extraction and model training code here\n",
    "#\n",
    "#     curtl =  len(current_test)\n",
    "#     current_list.append(curtl)\n",
    "#     previous_test_df = current_test.copy()\n",
    "#     current_test = current_test[current_test.content_type_id == 0]\n",
    "#     # your prediction code here\n",
    "#     current_test['answered_correctly'] = 0.5\n",
    "#     set_predict(current_test.loc[:,['row_id', 'answered_correctly']])\n",
    "#     pbar.update(len(current_test))\n",
    "#"
   ]
  },
  {
   "cell_type": "code",
   "execution_count": null,
   "metadata": {
    "collapsed": false,
    "jupyter": {
     "outputs_hidden": false
    },
    "pycharm": {
     "name": "#%%\n"
    }
   },
   "outputs": [],
   "source": [
    "%%time\n",
    "\n",
    "# pbar = tqdm(total=2500000)\n",
    "pbar = tqdm(total=valid_pd.shape[0])\n",
    "nlectures = valid_pd.loc[valid_pd.content_type_id == 1].shape[0]\n",
    "previous_test_df = None\n",
    "for (current_test, current_prediction_df) in iter_test:\n",
    "    if previous_test_df is not None:\n",
    "        previous_test_ar = np.array([\n",
    "            eval(current_test[\"prior_group_answers_correct\"].iloc[0]),\n",
    "            eval(current_test[\"prior_group_responses\"].iloc[0]),\n",
    "\n",
    "        ])\n",
    "        # your feature extraction and model training code here\n",
    "\n",
    "    # curtl =  len(current_test)\n",
    "    # current_list.append(curtl)\n",
    "    previous_test_df = current_test.copy()\n",
    "    current_test = current_test[current_test.content_type_id == 0]\n",
    "    # your prediction code here\n",
    "    current_test['answered_correctly'] = 0.5\n",
    "    set_predict(current_test.loc[:,['row_id', 'answered_correctly']])\n",
    "    pbar.update(len(current_test))\n"
   ]
  },
  {
   "cell_type": "code",
   "execution_count": null,
   "metadata": {
    "collapsed": false,
    "jupyter": {
     "outputs_hidden": false
    },
    "pycharm": {
     "name": "#%%\n"
    }
   },
   "outputs": [],
   "source": [
    "curlist_df = pd.DataFrame(current_list, columns=[\"batch_size\"])"
   ]
  },
  {
   "cell_type": "code",
   "execution_count": null,
   "metadata": {
    "collapsed": false,
    "jupyter": {
     "outputs_hidden": false
    },
    "pycharm": {
     "name": "#%%\n"
    }
   },
   "outputs": [],
   "source": [
    "plx.histogram(current_list, nbins=10, width=200, height=300)"
   ]
  },
  {
   "cell_type": "code",
   "execution_count": null,
   "metadata": {
    "collapsed": false,
    "jupyter": {
     "outputs_hidden": false
    },
    "pycharm": {
     "name": "#%%\n"
    }
   },
   "outputs": [],
   "source": [
    "%%time\n",
    "# train_dd = train_dd.loc[:10000]\n",
    "print(\"1 train_dd.head()\")\n",
    "\n",
    "# train_dd.head()\n",
    "print(type(train_pd))\n",
    "train_pd.shape\n"
   ]
  },
  {
   "cell_type": "code",
   "execution_count": null,
   "metadata": {
    "collapsed": false,
    "jupyter": {
     "outputs_hidden": false
    },
    "pycharm": {
     "name": "#%%\n"
    }
   },
   "outputs": [],
   "source": [
    "%%time\n",
    "\n",
    "if \"row_id\" in train_dd.columns:\n",
    "    # train.set_index(\"row_id\", inplace=True)\n",
    "    train_dd = train_dd.set_index(\"row_id\")\n",
    "    # res = train_dd.mean()\n",
    "    # res = delayed(train_dd.mean)()\n",
    "# res_delayed = res.compute()\n",
    "print(\"res = train_dd.mean()\")\n",
    "# print(res_delayed)"
   ]
  },
  {
   "cell_type": "code",
   "execution_count": null,
   "metadata": {
    "collapsed": false,
    "jupyter": {
     "outputs_hidden": false
    },
    "pycharm": {
     "name": "#%%\n"
    }
   },
   "outputs": [],
   "source": [
    "%%time\n",
    "\n",
    "res_delayed = delayed(train_dd.mean)()\n"
   ]
  },
  {
   "cell_type": "code",
   "execution_count": null,
   "metadata": {
    "collapsed": false,
    "jupyter": {
     "outputs_hidden": false
    },
    "pycharm": {
     "name": "#%%\n"
    }
   },
   "outputs": [],
   "source": [
    "res_delayed.visualize()"
   ]
  },
  {
   "cell_type": "code",
   "execution_count": null,
   "metadata": {
    "collapsed": false,
    "jupyter": {
     "outputs_hidden": false
    },
    "pycharm": {
     "name": "#%%\n"
    }
   },
   "outputs": [],
   "source": [
    "%%time\n",
    "\n",
    "with ProgressBar():\n",
    "    out = res_delayed.compute()\n",
    "\n",
    "    print(f\" out res_delayed = \\n {out}\")"
   ]
  },
  {
   "cell_type": "code",
   "execution_count": null,
   "metadata": {
    "collapsed": false,
    "jupyter": {
     "outputs_hidden": false
    },
    "pycharm": {
     "name": "#%%\n"
    }
   },
   "outputs": [],
   "source": [
    "res_delayed.visualize()"
   ]
  },
  {
   "cell_type": "code",
   "execution_count": null,
   "metadata": {
    "collapsed": false,
    "jupyter": {
     "outputs_hidden": false
    },
    "pycharm": {
     "name": "#%%\n"
    }
   },
   "outputs": [],
   "source": [
    "# train_dd[\"attempt\"] = -1\n",
    "\n",
    "print(f\" train_dd.head() 2 = \")\n",
    "train_dd.head()\n"
   ]
  },
  {
   "cell_type": "code",
   "execution_count": null,
   "metadata": {
    "collapsed": false,
    "jupyter": {
     "outputs_hidden": false
    },
    "pycharm": {
     "name": "#%%\n"
    }
   },
   "outputs": [],
   "source": [
    "train_dd.count().compute()"
   ]
  },
  {
   "cell_type": "code",
   "execution_count": null,
   "metadata": {
    "collapsed": false,
    "jupyter": {
     "outputs_hidden": false
    },
    "pycharm": {
     "name": "#%%\n"
    }
   },
   "outputs": [],
   "source": [
    "len(train_dd) - train_dd.count().compute()"
   ]
  },
  {
   "cell_type": "code",
   "execution_count": null,
   "metadata": {
    "collapsed": false,
    "jupyter": {
     "outputs_hidden": false
    },
    "pycharm": {
     "name": "#%%\n"
    }
   },
   "outputs": [],
   "source": [
    "print(train_dd.shape[0].compute(), train_dd.shape[1])"
   ]
  },
  {
   "cell_type": "code",
   "execution_count": null,
   "metadata": {
    "collapsed": false,
    "jupyter": {
     "outputs_hidden": false
    },
    "pycharm": {
     "name": "#%%\n"
    }
   },
   "outputs": [],
   "source": [
    "pd.Series(train_dd.user_id.compute()).nunique()\n"
   ]
  },
  {
   "cell_type": "code",
   "execution_count": null,
   "metadata": {
    "collapsed": false,
    "jupyter": {
     "outputs_hidden": false
    },
    "pycharm": {
     "name": "#%%\n"
    }
   },
   "outputs": [],
   "source": [
    "%%time\n",
    "print(\"max\", train_dd.user_id.compute().value_counts().max())\n",
    "print(\"mean\", train_dd.user_id.compute().value_counts().mean())\n",
    "print(\"median\", train_dd.user_id.compute().value_counts().quantile(.5))"
   ]
  },
  {
   "cell_type": "code",
   "execution_count": null,
   "metadata": {
    "collapsed": false,
    "jupyter": {
     "outputs_hidden": false
    },
    "pycharm": {
     "name": "#%%\n"
    }
   },
   "outputs": [],
   "source": [
    "%%time\n",
    "max, mean, median = compute(\n",
    "    train_dd.user_id.value_counts().max(),\n",
    "    train_dd.user_id.value_counts().mean(),\n",
    "    train_dd.user_id.value_counts().quantile(.5)\n",
    ")\n",
    "print(max, mean, median)"
   ]
  },
  {
   "cell_type": "code",
   "execution_count": null,
   "metadata": {
    "collapsed": false,
    "jupyter": {
     "outputs_hidden": false
    },
    "pycharm": {
     "name": "#%%\n"
    }
   },
   "outputs": [],
   "source": [
    "def get_user_quantiles(df, plot=False):\n",
    "\n",
    "    quantiles = []\n",
    "    for q in np.arange(start=.4, stop=.8, step=.1):\n",
    "        quantiles.append((q, df.user_id.value_counts().quantile(q=q).compute()))\n",
    "        if plot:\n",
    "            print(f\"quantile {quantiles[-1]}\")\n",
    "            plt.plot(*quantiles[-1], marker=\"o\",  c=\"w\")\n",
    "    return quantiles"
   ]
  },
  {
   "cell_type": "code",
   "execution_count": null,
   "metadata": {
    "collapsed": false,
    "jupyter": {
     "outputs_hidden": false
    },
    "pycharm": {
     "name": "#%%\n"
    }
   },
   "outputs": [],
   "source": [
    "from sklearn.preprocessing import StandardScaler"
   ]
  },
  {
   "cell_type": "code",
   "execution_count": null,
   "metadata": {
    "collapsed": false,
    "jupyter": {
     "outputs_hidden": false
    },
    "pycharm": {
     "name": "#%%\n"
    }
   },
   "outputs": [],
   "source": [
    "train_dd.columns"
   ]
  },
  {
   "cell_type": "code",
   "execution_count": null,
   "metadata": {
    "collapsed": false,
    "jupyter": {
     "outputs_hidden": false
    },
    "pycharm": {
     "name": "#%%\n"
    }
   },
   "outputs": [],
   "source": [
    "# total = train_dd.user_id.nunique()\n",
    "groups = train_dd.groupby(by=\"user_id\")\n",
    "# total = len(groups.size())\n",
    "# print(\"total\", total)"
   ]
  },
  {
   "cell_type": "code",
   "execution_count": null,
   "metadata": {
    "collapsed": false,
    "jupyter": {
     "outputs_hidden": false
    },
    "pycharm": {
     "name": "#%%\n"
    }
   },
   "outputs": [],
   "source": [
    "%%time\n",
    "def print_count(group):\n",
    "    print(\"print 1 from print_count\")\n",
    "\n",
    "groups_apply = groups.sum()"
   ]
  },
  {
   "cell_type": "code",
   "execution_count": null,
   "metadata": {
    "collapsed": false,
    "jupyter": {
     "outputs_hidden": false
    },
    "pycharm": {
     "name": "#%%\n"
    }
   },
   "outputs": [],
   "source": [
    "%%time\n",
    "groups_apply.compute()"
   ]
  },
  {
   "cell_type": "code",
   "execution_count": null,
   "metadata": {
    "collapsed": false,
    "jupyter": {
     "outputs_hidden": false
    },
    "pycharm": {
     "name": "#%%\n"
    }
   },
   "outputs": [],
   "source": [
    "iter = groups\n"
   ]
  },
  {
   "cell_type": "code",
   "execution_count": null,
   "metadata": {
    "collapsed": false,
    "jupyter": {
     "outputs_hidden": false
    },
    "pycharm": {
     "name": "#%%\n"
    }
   },
   "outputs": [],
   "source": [
    "%%time\n",
    "\n",
    "content_id_sum = groups.content_id.sum()\n",
    "\n",
    "print(\"content_id_sum.compute()\")\n",
    "content_id_sum.compute()"
   ]
  },
  {
   "cell_type": "code",
   "execution_count": null,
   "metadata": {
    "collapsed": false,
    "jupyter": {
     "outputs_hidden": false
    },
    "pycharm": {
     "name": "#%%\n"
    }
   },
   "outputs": [],
   "source": [
    "%%time\n",
    "agg = groups.aggregate(['sum', 'mean', 'max', 'min', list]).compute()"
   ]
  },
  {
   "cell_type": "code",
   "execution_count": null,
   "metadata": {
    "collapsed": false,
    "jupyter": {
     "outputs_hidden": false
    },
    "pycharm": {
     "name": "#%%\n"
    }
   },
   "outputs": [],
   "source": [
    "agg"
   ]
  },
  {
   "cell_type": "code",
   "execution_count": null,
   "metadata": {
    "collapsed": false,
    "jupyter": {
     "outputs_hidden": false
    },
    "pycharm": {
     "name": "#%%\n"
    }
   },
   "outputs": [],
   "source": [
    "agg.loc[115, \"timestamp\"][\"sum\"]"
   ]
  },
  {
   "cell_type": "code",
   "execution_count": null,
   "metadata": {
    "collapsed": false,
    "jupyter": {
     "outputs_hidden": false
    },
    "pycharm": {
     "name": "#%%\n"
    }
   },
   "outputs": [],
   "source": [
    "with timer(\"rolling values\"):\n",
    "    for id, df in tqdm(groups, total=total):\n",
    "        print(\"ok\")\n",
    "        # print(f\"  user_id = {id}  shape = {df.shape[0]} is_monotonic {df.timestamp.is_monotonic}\")\n",
    "        pass\n",
    "        # train_dd.loc[df.index, \"attempt\"] = range(1, df.shape[0]+1)\n",
    "\n",
    "        # quantiles = get_user_quantiles(df=df)\n",
    "        #\n",
    "        # for quantile, val in quantiles:\n",
    "        #     train_dd.loc[df.index, f\"q{quantile}_None\"] = df.timestamp.rolling(\n",
    "        #         int(val),\n",
    "        #         min_periods=1,\n",
    "        #         win_type=None,\n",
    "        #     ).quantile(quantile)\n",
    "        #\n",
    "        #     train_dd.loc[df.index, f\"q{quantile}_gauss\"] = df.timestamp.rolling(\n",
    "        #         int(val),\n",
    "        #         min_periods=1,\n",
    "        #         win_type=\"gaussian\",\n",
    "        #     ).mean(std=3)\n",
    "        #\n",
    "        #     train_dd.loc[df.index, f\"q{quantile}_exp\"] = df.timestamp.rolling(\n",
    "        #         int(val),\n",
    "        #         min_periods=1,\n",
    "        #         win_type=\"exponential\",\n",
    "        #     ).sum(tau=3)\n",
    "\n",
    "# train_dd = train_dd.compute()\n",
    "\n"
   ]
  },
  {
   "cell_type": "code",
   "execution_count": null,
   "metadata": {
    "collapsed": false,
    "jupyter": {
     "outputs_hidden": false
    },
    "pycharm": {
     "name": "#%%\n"
    }
   },
   "outputs": [],
   "source": [
    "train_shuffled = train.sample()\n",
    "print(\"train.shape\", train.shape)\n",
    "train.head(20)"
   ]
  },
  {
   "cell_type": "code",
   "execution_count": null,
   "metadata": {
    "collapsed": false,
    "jupyter": {
     "outputs_hidden": false
    },
    "pycharm": {
     "name": "#%%\n"
    }
   },
   "outputs": [],
   "source": [
    "submit_example = pd.read_csv(\"./input/example_sample_submission.csv\", )\n",
    "test = pd.read_csv(\"./input/example_test.csv\")\n",
    "lectures = pd.read_csv(\"./input/lectures.csv\")\n",
    "questions = pd.read_csv(\"./input/questions.csv\")\n",
    "print(\"ok\")"
   ]
  },
  {
   "cell_type": "code",
   "execution_count": null,
   "metadata": {
    "collapsed": false,
    "jupyter": {
     "outputs_hidden": false
    },
    "pycharm": {
     "name": "#%%\n"
    }
   },
   "outputs": [],
   "source": [
    "print(\"submit_example.shape\", submit_example.shape[0])\n",
    "submit_example.head()"
   ]
  },
  {
   "cell_type": "code",
   "execution_count": null,
   "metadata": {
    "collapsed": false,
    "jupyter": {
     "outputs_hidden": false
    },
    "pycharm": {
     "name": "#%%\n"
    }
   },
   "outputs": [],
   "source": [
    "print(\"test.shape\", test.shape)\n",
    "test.head()"
   ]
  },
  {
   "cell_type": "code",
   "execution_count": null,
   "metadata": {
    "collapsed": false,
    "jupyter": {
     "outputs_hidden": false
    },
    "pycharm": {
     "name": "#%%\n"
    }
   },
   "outputs": [],
   "source": [
    "print(\"lectures.shape\", lectures.shape)\n",
    "lectures.head()\n",
    "\n"
   ]
  },
  {
   "cell_type": "code",
   "execution_count": null,
   "metadata": {
    "collapsed": false,
    "jupyter": {
     "outputs_hidden": false
    },
    "pycharm": {
     "name": "#%%\n"
    }
   },
   "outputs": [],
   "source": [
    "set(train.columns).symmetric_difference(set(test.columns))"
   ]
  },
  {
   "cell_type": "code",
   "execution_count": null,
   "metadata": {
    "collapsed": false,
    "jupyter": {
     "outputs_hidden": false
    },
    "pycharm": {
     "name": "#%%\n"
    }
   },
   "outputs": [],
   "source": [
    "set(test.columns) - set(train.columns)"
   ]
  },
  {
   "cell_type": "code",
   "execution_count": null,
   "metadata": {
    "collapsed": false,
    "jupyter": {
     "outputs_hidden": false
    },
    "pycharm": {
     "name": "#%%\n"
    }
   },
   "outputs": [],
   "source": [
    "set(train.columns) - set(test.columns)"
   ]
  },
  {
   "cell_type": "code",
   "execution_count": null,
   "metadata": {
    "collapsed": false,
    "jupyter": {
     "outputs_hidden": false
    },
    "pycharm": {
     "name": "#%%\n"
    }
   },
   "outputs": [],
   "source": [
    "train.columns"
   ]
  },
  {
   "cell_type": "code",
   "execution_count": null,
   "metadata": {
    "collapsed": false,
    "jupyter": {
     "outputs_hidden": false
    },
    "pycharm": {
     "name": "#%%\n"
    }
   },
   "outputs": [],
   "source": [
    "test.columns\n"
   ]
  },
  {
   "cell_type": "code",
   "execution_count": null,
   "metadata": {
    "collapsed": false,
    "jupyter": {
     "outputs_hidden": false
    },
    "pycharm": {
     "name": "#%%\n"
    }
   },
   "outputs": [],
   "source": [
    "%time\n",
    "\n",
    "# train_dt = dt.fread(\"./input/train.csv\")\n",
    "# print(\"train_dt.head()\")\n",
    "# train_dt.head(5)"
   ]
  },
  {
   "cell_type": "markdown",
   "metadata": {
    "pycharm": {
     "name": "#%% md\n"
    }
   },
   "source": [
    "##Questions"
   ]
  },
  {
   "cell_type": "code",
   "execution_count": null,
   "metadata": {
    "collapsed": false,
    "jupyter": {
     "outputs_hidden": false
    },
    "pycharm": {
     "name": "#%%\n"
    }
   },
   "outputs": [],
   "source": [
    "print(\"questions.shape\", questions.shape)\n",
    "questions.head()"
   ]
  },
  {
   "cell_type": "code",
   "execution_count": null,
   "metadata": {
    "collapsed": false,
    "jupyter": {
     "outputs_hidden": false
    },
    "pycharm": {
     "name": "#%%\n"
    }
   },
   "outputs": [],
   "source": [
    "bundle_ids = questions.value_counts(subset=[\"bundle_id\"])\n",
    "print(bundle_ids)\n",
    "plt.hist(x=bundle_ids, bins=10);\n"
   ]
  },
  {
   "cell_type": "code",
   "execution_count": null,
   "metadata": {
    "collapsed": false,
    "jupyter": {
     "outputs_hidden": false
    },
    "pycharm": {
     "name": "#%%\n"
    }
   },
   "outputs": [],
   "source": [
    "questions.value_counts(subset=[\"correct_answer\"])\n"
   ]
  },
  {
   "cell_type": "code",
   "execution_count": null,
   "metadata": {
    "collapsed": false,
    "jupyter": {
     "outputs_hidden": false
    },
    "pycharm": {
     "name": "#%%\n"
    }
   },
   "outputs": [],
   "source": [
    "questions.value_counts(subset=[\"part\"])\n",
    "\n"
   ]
  },
  {
   "cell_type": "code",
   "execution_count": null,
   "metadata": {
    "collapsed": false,
    "jupyter": {
     "outputs_hidden": false
    },
    "pycharm": {
     "name": "#%%\n"
    }
   },
   "outputs": [],
   "source": [
    "questions.tags = questions.tags.astype(str).apply([str.strip, str.split])\n",
    "questions.tags[0][0]"
   ]
  },
  {
   "cell_type": "code",
   "execution_count": null,
   "metadata": {
    "collapsed": false,
    "jupyter": {
     "outputs_hidden": false
    },
    "pycharm": {
     "name": "#%%\n"
    }
   },
   "outputs": [],
   "source": [
    "# ll = train_dt.shape[0]\n",
    "#\n",
    "# uniques = dt.unique(train_dt[\"user_id\"]).shape[0]\n",
    "# print(ll)\n",
    "# print(uniques)\n",
    "# print(ll/uniques)"
   ]
  },
  {
   "cell_type": "code",
   "execution_count": null,
   "metadata": {
    "collapsed": false,
    "jupyter": {
     "outputs_hidden": false
    },
    "pycharm": {
     "name": "#%%\n"
    }
   },
   "outputs": [],
   "source": [
    "value_counts = train.user_id.value_counts()"
   ]
  },
  {
   "cell_type": "code",
   "execution_count": null,
   "metadata": {
    "collapsed": false,
    "jupyter": {
     "outputs_hidden": false
    },
    "pycharm": {
     "name": "#%%\n"
    }
   },
   "outputs": [],
   "source": [
    "value_counts"
   ]
  },
  {
   "cell_type": "code",
   "execution_count": null,
   "metadata": {
    "collapsed": false,
    "jupyter": {
     "outputs_hidden": false
    },
    "pycharm": {
     "name": "#%%\n"
    }
   },
   "outputs": [],
   "source": [
    "plt.hist(value_counts);"
   ]
  },
  {
   "cell_type": "code",
   "execution_count": null,
   "metadata": {
    "collapsed": false,
    "jupyter": {
     "outputs_hidden": false
    },
    "pycharm": {
     "name": "#%%\n"
    }
   },
   "outputs": [],
   "source": []
  }
 ],
 "metadata": {
  "kernelspec": {
   "display_name": "Python 3",
   "language": "python",
   "name": "python3"
  },
  "language_info": {
   "codemirror_mode": {
    "name": "ipython",
    "version": 3
   },
   "file_extension": ".py",
   "mimetype": "text/x-python",
   "name": "python",
   "nbconvert_exporter": "python",
   "pygments_lexer": "ipython3",
   "version": "3.8.5"
  }
 },
 "nbformat": 4,
 "nbformat_minor": 4
}