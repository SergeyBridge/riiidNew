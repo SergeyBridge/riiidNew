{
 "cells": [
  {
   "cell_type": "code",
   "execution_count": 1,
   "metadata": {},
   "outputs": [
    {
     "name": "stdout",
     "output_type": "stream",
     "text": [
      "ok\n"
     ]
    }
   ],
   "source": [
    "#!M\n",
    "# !pip install ../input/python-datatable/datatable-0.11.0-cp37-cp37m-manylinux2010_x86_64.whl > /dev/null 2>&1\n",
    "# %pip install --upgrade pip\n",
    "# %pip install -r /home/jupyter/work/resources/riiidNew/requirements.txt --upgrade\n",
    "# %pip install scipy  --ignore-installed scipy --upgrade\n",
    "# %pip install pyarrow==0.17.1\n",
    "# %pip install bayesian-optimization\n",
    "print(\"ok\")"
   ]
  },
  {
   "cell_type": "code",
   "execution_count": 2,
   "metadata": {
    "collapsed": false,
    "jupyter": {
     "outputs_hidden": false
    },
    "pycharm": {
     "name": "#%%\n"
    }
   },
   "outputs": [],
   "source": [
    "#!L\n",
    "# if str(Path.home()) == \"/root\":  # DATASPHERE\n",
    "import sys\n",
    "import gc\n",
    "from pathlib import Path\n",
    "sys.path.append(str(Path.cwd()/'riiidNew'))\n",
    "from pathlib import Path\n",
    "import numpy as np\n",
    "import pandas as pd\n",
    "# import pyarrow\n",
    "from collections import defaultdict\n",
    "from catboost import CatBoostClassifier, Pool\n",
    "from preprocess import preprocess_train_data\n",
    "from catboost_bayesian_search import bayesian_catboost_search, bayesian_catboost_searchCV, param_adjust_dtypes\n",
    "import config"
   ]
  },
  {
   "cell_type": "code",
   "execution_count": 3,
   "metadata": {
    "collapsed": false,
    "jupyter": {
     "outputs_hidden": false
    },
    "pycharm": {
     "name": "#%%\n"
    }
   },
   "outputs": [],
   "source": [
    "# Error handling, ignore all\n",
    "np.seterr(divide = 'ignore', invalid = 'ignore')\n",
    "\n",
    "\n",
    "if str(Path.home()) == \"/home/sergey\":   # Home computer\n",
    "    kaggle_path = Path.cwd()/\"kaggle_tmp/\"\n",
    "    questions_df = pd.read_csv('/mnt/data30G/2020riiid/questions.csv', usecols = [0, 3], dtype = {'question_id': 'int16', 'part': 'int8'})\n",
    "    test_df = pd.read_feather(\"/home/sergey/mnt/4.5Tb/Downloads/riiidCVdata/cv1_valid_1e4.feather\", columns=dtypes.keys())\n",
    "    train_df = pd.read_feather(\"/home/sergey/mnt/4.5Tb/Downloads/riiidCVdata/cv1_train_1e5.feather\", columns=dtypes.keys())\n",
    "    # test_df = pd.read_feather(\"/home/sergey/mnt/4.5Tb/Downloads/riiidCVdata/cv1_valid_1e4.feather\", columns=dtypes.keys())\n",
    "    # train_df = pd.read_feather(\"/home/sergey/mnt/4.5Tb/Downloads/riiidCVdata/cv1_train.feather\", columns=dtypes.keys())\n",
    "    # test_df = pd.read_feather(\"/home/sergey/mnt/4.5Tb/Downloads/riiidCVdata/cv1_valid.feather\", columns=dtypes.keys())\n",
    "\n",
    "elif str(Path.home()) == \"/root\":   # DATASPHERE\n",
    "\n",
    "    path = Path.cwd()/\"riiidNew\"/\"data1\"\n",
    "    kaggle_path = Path.cwd()/\"riiidNew\"/\"kaggle\"\n",
    "    questions_df = pd.read_csv(path/'questions.csv', usecols = [0, 3], dtype = {'question_id': 'int16', 'part': 'int8'})\n",
    "    train_df = pd.read_feather(path/\"train.feather\", columns=config.dtypes.keys())\n",
    "    # train_df = pd.read_feather(path/\"train_5e6.feather\", columns=config.dtypes.keys())\n",
    "    # train_df = pd.read_feather(path/\"train_1e5.feather\", columns=config.dtypes.keys())\n",
    "    # train_df = pd.read_pickle(path/'cv2_train.pickle.zip').astype(config.dtypes, errors=\"ignore\")\n",
    "    # test_df = pd.read_pickle(path/\"cv2_valid.pickle.zip\").astype(config.dtypes, errors=\"ignore\")\n",
    "\n",
    "elif str(Path.home()) == \"/home/riiid\":   # Virtual machine ycloud\n",
    "\n",
    "    path = Path.cwd()/\"data\"\n",
    "    kaggle_path = Path.cwd()/\"kaggle\"\n",
    "    questions_df = pd.read_csv(path/'questions.csv', usecols = [0, 3], dtype = {'question_id': 'int16', 'part': 'int8'})\n",
    "    # train_df = pd.read_feather(path/\"train.feather\", columns=config.dtypes.keys())\n",
    "    # train_df = pd.read_feather(path/\"train_5e6.feather\", columns=config.dtypes.keys())\n",
    "    # test_df = pd.read_feather(path/\"cv2_test_1e4.feather\", columns=config.dtypes.keys())\n",
    "    # train_df = pd.read_feather(path/\"cv2_train_1e5.feather\", columns=config.dtypes.keys())\n",
    "    # train_df = pd.read_feather(path/\"train_1e5.feather\", columns=config.dtypes.keys())\n",
    "#     train_df = train_df.iloc[:100]\n",
    "\n",
    "#print(f\"train_df shape = {train_df.shape}\")"
   ]
  },
  {
   "cell_type": "code",
   "execution_count": 4,
   "metadata": {},
   "outputs": [
    {
     "name": "stdout",
     "output_type": "stream",
     "text": [
      "{'loss_function': 'Logloss', 'eval_metric': 'AUC', 'custom_metric': 'AUC:hints=skip_train~false', 'task_type': 'GPU', 'grow_policy': 'Lossguide', 'iterations': 5000, 'learning_rate': 0.1, 'random_seed': 0, 'bootstrap_type': 'Bayesian', 'l2_leaf_reg': 0.5, 'depth': 10, 'max_leaves': 10, 'border_count': 128, 'verbose': 250, 'od_type': 'Iter', 'od_wait': 50}\n"
     ]
    }
   ],
   "source": [
    "print(config.prior_params)"
   ]
  },
  {
   "cell_type": "code",
   "execution_count": 5,
   "metadata": {
    "pycharm": {
     "name": "#%%\n"
    }
   },
   "outputs": [],
   "source": [
    "# # Obtain new train_df and validation test_df\n",
    "# train_df = pd.read_feather(path/\"cv2_train.feather\", columns=config.dtypes.keys())\n",
    "# # train_df = pd.read_feather(path/\"train_1e5.feather\", columns=config.dtypes.keys())\n",
    "\n",
    "# # Preprocess for Bayesian CV\n",
    "# train_user_agg, train_content_agg, train_df = preprocess_train_data(train_df, questions_df, config.target, config.dtypes)\n",
    "# # test_user_agg, test_content_agg, test_df = preprocess_train_data(test_df, questions_df, config.target, config.dtypes)\n",
    "# print(\"Preprocess for CV ok\")\n",
    "\n",
    "\n",
    "# # Training and validating data\n",
    "# train_set = Pool(train_df[config.features], label = train_df[config.target], cat_features=config.cat_features)\n",
    "# val_set = Pool(test_df[config.features], label = test_df[config.target])\n",
    "\n",
    "# print(\"optimizer_maxCV ..\")\n",
    "# optimizer_max = bayesian_catboost_searchCV(\n",
    "#     train_set,\n",
    "#     prior_params=config.prior_params,\n",
    "#     pds=config.pds, pds_dtypes=config.pds_dtypes,\n",
    "#     init_points=5, n_iter=7, verbose=True,\n",
    "# )"
   ]
  },
  {
   "cell_type": "code",
   "execution_count": 6,
   "metadata": {},
   "outputs": [],
   "source": [
    "horizon = 6\n",
    "model_name = \"model18\""
   ]
  },
  {
   "cell_type": "code",
   "execution_count": 7,
   "metadata": {
    "pycharm": {
     "name": "#%%\n"
    }
   },
   "outputs": [
    {
     "name": "stdout",
     "output_type": "stream",
     "text": [
      "Preprocess for model fitting ok\n",
      "|   iter    |  target   | baggin... | border... |   depth   | l2_lea... | max_le... |\n",
      "-------------------------------------------------------------------------------------\n",
      "0:\tlearn: 0.7408607\ttest: 0.7186951\tbest: 0.7186951 (0)\ttotal: 40.8ms\tremaining: 3m 24s\n",
      "250:\tlearn: 0.7584259\ttest: 0.7351382\tbest: 0.7351534 (235)\ttotal: 9.45s\tremaining: 2m 58s\n",
      "bestTest = 0.7352619767\n",
      "bestIteration = 330\n",
      "Shrink model to first 331 iterations.\n",
      "0:\tlearn: 0.7396066\ttest: 0.7174248\tbest: 0.7174248 (0)\ttotal: 39ms\tremaining: 3m 14s\n",
      "250:\tlearn: 0.7570635\ttest: 0.7352776\tbest: 0.7352865 (246)\ttotal: 8.9s\tremaining: 2m 48s\n",
      "bestTest = 0.7353949249\n",
      "bestIteration = 327\n",
      "Shrink model to first 328 iterations.\n",
      "| \u001b[95m 2       \u001b[0m | \u001b[95m 0.7354  \u001b[0m | \u001b[95m 3.336   \u001b[0m | \u001b[95m 159.4   \u001b[0m | \u001b[95m 23.16   \u001b[0m | \u001b[95m 481.8   \u001b[0m | \u001b[95m 63.68   \u001b[0m |\n",
      "0:\tlearn: 0.7298889\ttest: 0.7077613\tbest: 0.7077613 (0)\ttotal: 21.6ms\tremaining: 1m 48s\n",
      "250:\tlearn: 0.7527809\ttest: 0.7334478\tbest: 0.7334478 (250)\ttotal: 5.02s\tremaining: 1m 35s\n",
      "500:\tlearn: 0.7541834\ttest: 0.7344172\tbest: 0.7344172 (500)\ttotal: 10s\tremaining: 1m 29s\n",
      "750:\tlearn: 0.7552077\ttest: 0.7350095\tbest: 0.7350095 (750)\ttotal: 15.1s\tremaining: 1m 25s\n",
      "1000:\tlearn: 0.7559750\ttest: 0.7352776\tbest: 0.7352776 (1000)\ttotal: 20.1s\tremaining: 1m 20s\n",
      "bestTest = 0.7353490889\n",
      "bestIteration = 1061\n",
      "Shrink model to first 1062 iterations.\n",
      "0:\tlearn: 0.7386057\ttest: 0.7168506\tbest: 0.7168506 (0)\ttotal: 61.1ms\tremaining: 5m 5s\n",
      "bestTest = 0.7350355685\n",
      "bestIteration = 61\n",
      "Shrink model to first 62 iterations.\n",
      "0:\tlearn: 0.7300480\ttest: 0.7072237\tbest: 0.7072237 (0)\ttotal: 25.9ms\tremaining: 2m 9s\n",
      "250:\tlearn: 0.7530344\ttest: 0.7336490\tbest: 0.7336501 (249)\ttotal: 5.71s\tremaining: 1m 48s\n",
      "500:\tlearn: 0.7548412\ttest: 0.7348478\tbest: 0.7348478 (500)\ttotal: 10.8s\tremaining: 1m 37s\n",
      "750:\tlearn: 0.7560461\ttest: 0.7352889\tbest: 0.7352972 (743)\ttotal: 16s\tremaining: 1m 30s\n",
      "1000:\tlearn: 0.7569730\ttest: 0.7354664\tbest: 0.7354695 (989)\ttotal: 21.2s\tremaining: 1m 24s\n",
      "1250:\tlearn: 0.7578089\ttest: 0.7355574\tbest: 0.7355845 (1208)\ttotal: 27s\tremaining: 1m 20s\n",
      "bestTest = 0.7355844975\n",
      "bestIteration = 1208\n",
      "Shrink model to first 1209 iterations.\n",
      "| \u001b[95m 5       \u001b[0m | \u001b[95m 0.7356  \u001b[0m | \u001b[95m 4.9     \u001b[0m | \u001b[95m 249.8   \u001b[0m | \u001b[95m 15.85   \u001b[0m | \u001b[95m 390.3   \u001b[0m | \u001b[95m 26.56   \u001b[0m |\n",
      "0:\tlearn: 0.7346089\ttest: 0.7137752\tbest: 0.7137752 (0)\ttotal: 25.4ms\tremaining: 2m 7s\n",
      "250:\tlearn: 0.7530971\ttest: 0.7338487\tbest: 0.7338487 (250)\ttotal: 4.95s\tremaining: 1m 33s\n",
      "500:\tlearn: 0.7544646\ttest: 0.7346071\tbest: 0.7346071 (500)\ttotal: 9.74s\tremaining: 1m 27s\n",
      "750:\tlearn: 0.7554839\ttest: 0.7350208\tbest: 0.7350208 (750)\ttotal: 14.6s\tremaining: 1m 22s\n",
      "1000:\tlearn: 0.7563361\ttest: 0.7352368\tbest: 0.7352403 (997)\ttotal: 19.6s\tremaining: 1m 18s\n",
      "bestTest = 0.7352517843\n",
      "bestIteration = 1052\n",
      "Shrink model to first 1053 iterations.\n",
      "0:\tlearn: 0.7467790\ttest: 0.7248009\tbest: 0.7248009 (0)\ttotal: 69.4ms\tremaining: 5m 46s\n",
      "bestTest = 0.735127002\n",
      "bestIteration = 103\n",
      "Shrink model to first 104 iterations.\n",
      "0:\tlearn: 0.7368331\ttest: 0.7149585\tbest: 0.7149585 (0)\ttotal: 20.1ms\tremaining: 1m 40s\n",
      "250:\tlearn: 0.7575899\ttest: 0.7353864\tbest: 0.7353915 (247)\ttotal: 4.53s\tremaining: 1m 25s\n",
      "bestTest = 0.7354730964\n",
      "bestIteration = 328\n",
      "Shrink model to first 329 iterations.\n",
      "0:\tlearn: 0.7417042\ttest: 0.7188979\tbest: 0.7188979 (0)\ttotal: 67.9ms\tremaining: 5m 39s\n",
      "bestTest = 0.7350128293\n",
      "bestIteration = 188\n",
      "Shrink model to first 189 iterations.\n",
      "0:\tlearn: 0.7421789\ttest: 0.7204285\tbest: 0.7204285 (0)\ttotal: 50.3ms\tremaining: 4m 11s\n",
      "bestTest = 0.7351064682\n",
      "bestIteration = 156\n",
      "Shrink model to first 157 iterations.\n",
      "0:\tlearn: 0.7251579\ttest: 0.7017326\tbest: 0.7017326 (0)\ttotal: 19.5ms\tremaining: 1m 37s\n",
      "250:\tlearn: 0.7502372\ttest: 0.7310376\tbest: 0.7310376 (250)\ttotal: 4.38s\tremaining: 1m 22s\n",
      "500:\tlearn: 0.7516851\ttest: 0.7326042\tbest: 0.7326042 (500)\ttotal: 8.73s\tremaining: 1m 18s\n",
      "750:\tlearn: 0.7525213\ttest: 0.7333725\tbest: 0.7333725 (749)\ttotal: 12.9s\tremaining: 1m 12s\n",
      "1000:\tlearn: 0.7531088\ttest: 0.7338097\tbest: 0.7338142 (997)\ttotal: 17.2s\tremaining: 1m 8s\n",
      "1250:\tlearn: 0.7535518\ttest: 0.7341148\tbest: 0.7341148 (1250)\ttotal: 21.7s\tremaining: 1m 5s\n",
      "1500:\tlearn: 0.7539515\ttest: 0.7343812\tbest: 0.7343812 (1500)\ttotal: 26s\tremaining: 1m\n",
      "1750:\tlearn: 0.7543278\ttest: 0.7345752\tbest: 0.7345752 (1750)\ttotal: 30.2s\tremaining: 56s\n",
      "2000:\tlearn: 0.7546667\ttest: 0.7347033\tbest: 0.7347033 (2000)\ttotal: 34.5s\tremaining: 51.7s\n",
      "2250:\tlearn: 0.7549501\ttest: 0.7348067\tbest: 0.7348067 (2250)\ttotal: 38.7s\tremaining: 47.2s\n",
      "bestTest = 0.7348177731\n",
      "bestIteration = 2259\n",
      "Shrink model to first 2260 iterations.\n",
      "0:\tlearn: 0.7312220\ttest: 0.7086259\tbest: 0.7086259 (0)\ttotal: 22ms\tremaining: 1m 49s\n",
      "250:\tlearn: 0.7533399\ttest: 0.7339830\tbest: 0.7339864 (248)\ttotal: 4.64s\tremaining: 1m 27s\n",
      "500:\tlearn: 0.7545420\ttest: 0.7346594\tbest: 0.7346599 (498)\ttotal: 8.93s\tremaining: 1m 20s\n",
      "750:\tlearn: 0.7554299\ttest: 0.7350006\tbest: 0.7350035 (743)\ttotal: 13.5s\tremaining: 1m 16s\n",
      "1000:\tlearn: 0.7561759\ttest: 0.7351620\tbest: 0.7351620 (1000)\ttotal: 18s\tremaining: 1m 11s\n",
      "bestTest = 0.7351747751\n",
      "bestIteration = 1005\n",
      "Shrink model to first 1006 iterations.\n",
      "0:\tlearn: 0.7405365\ttest: 0.7190248\tbest: 0.7190248 (0)\ttotal: 57.2ms\tremaining: 4m 45s\n",
      "bestTest = 0.7355401218\n",
      "bestIteration = 136\n",
      "Shrink model to first 137 iterations.\n",
      "0:\tlearn: 0.7297667\ttest: 0.7065552\tbest: 0.7065552 (0)\ttotal: 23.9ms\tremaining: 1m 59s\n",
      "250:\tlearn: 0.7523052\ttest: 0.7329504\tbest: 0.7329506 (249)\ttotal: 5.32s\tremaining: 1m 40s\n",
      "500:\tlearn: 0.7539090\ttest: 0.7342410\tbest: 0.7342410 (500)\ttotal: 10.6s\tremaining: 1m 35s\n",
      "750:\tlearn: 0.7549440\ttest: 0.7348729\tbest: 0.7348748 (749)\ttotal: 16s\tremaining: 1m 30s\n",
      "1000:\tlearn: 0.7557690\ttest: 0.7351764\tbest: 0.7351776 (999)\ttotal: 21.5s\tremaining: 1m 25s\n",
      "1250:\tlearn: 0.7564938\ttest: 0.7353932\tbest: 0.7353974 (1217)\ttotal: 26.8s\tremaining: 1m 20s\n",
      "bestTest = 0.7353973985\n",
      "bestIteration = 1217\n",
      "Shrink model to first 1218 iterations.\n",
      "0:\tlearn: 0.7261028\ttest: 0.7031326\tbest: 0.7031326 (0)\ttotal: 18.2ms\tremaining: 1m 31s\n",
      "250:\tlearn: 0.7512302\ttest: 0.7319031\tbest: 0.7319031 (250)\ttotal: 4.43s\tremaining: 1m 23s\n",
      "500:\tlearn: 0.7525800\ttest: 0.7331235\tbest: 0.7331256 (499)\ttotal: 8.71s\tremaining: 1m 18s\n",
      "750:\tlearn: 0.7533883\ttest: 0.7337458\tbest: 0.7337469 (749)\ttotal: 13.2s\tremaining: 1m 14s\n",
      "1000:\tlearn: 0.7540566\ttest: 0.7342689\tbest: 0.7342689 (1000)\ttotal: 17.7s\tremaining: 1m 10s\n",
      "1250:\tlearn: 0.7545726\ttest: 0.7345084\tbest: 0.7345089 (1247)\ttotal: 22.2s\tremaining: 1m 6s\n",
      "1500:\tlearn: 0.7550360\ttest: 0.7347791\tbest: 0.7347791 (1500)\ttotal: 26.7s\tremaining: 1m 2s\n",
      "1750:\tlearn: 0.7554845\ttest: 0.7349581\tbest: 0.7349581 (1750)\ttotal: 31.3s\tremaining: 58s\n",
      "2000:\tlearn: 0.7558669\ttest: 0.7350907\tbest: 0.7350908 (1994)\ttotal: 35.6s\tremaining: 53.3s\n",
      "2250:\tlearn: 0.7562155\ttest: 0.7351739\tbest: 0.7351755 (2245)\ttotal: 40s\tremaining: 48.8s\n",
      "2500:\tlearn: 0.7565725\ttest: 0.7352309\tbest: 0.7352401 (2489)\ttotal: 44.5s\tremaining: 44.5s\n",
      "bestTest = 0.7352489829\n",
      "bestIteration = 2555\n",
      "Shrink model to first 2556 iterations.\n",
      "0:\tlearn: 0.7388022\ttest: 0.7180652\tbest: 0.7180652 (0)\ttotal: 62.1ms\tremaining: 5m 10s\n",
      "250:\tlearn: 0.7626731\ttest: 0.7351632\tbest: 0.7351802 (215)\ttotal: 15.6s\tremaining: 4m 54s\n",
      "bestTest = 0.7352042794\n",
      "bestIteration = 281\n",
      "Shrink model to first 282 iterations.\n",
      "0:\tlearn: 0.7420778\ttest: 0.7198730\tbest: 0.7198730 (0)\ttotal: 61.5ms\tremaining: 5m 7s\n",
      "bestTest = 0.7350699902\n",
      "bestIteration = 181\n",
      "Shrink model to first 182 iterations.\n",
      "0:\tlearn: 0.7440565\ttest: 0.7234963\tbest: 0.7234963 (0)\ttotal: 61.7ms\tremaining: 5m 8s\n",
      "bestTest = 0.735278219\n",
      "bestIteration = 142\n",
      "Shrink model to first 143 iterations.\n",
      "0:\tlearn: 0.7269679\ttest: 0.7032095\tbest: 0.7032095 (0)\ttotal: 18.7ms\tremaining: 1m 33s\n",
      "250:\tlearn: 0.7513728\ttest: 0.7320416\tbest: 0.7320416 (250)\ttotal: 4.56s\tremaining: 1m 26s\n",
      "500:\tlearn: 0.7527720\ttest: 0.7334284\tbest: 0.7334284 (500)\ttotal: 9.12s\tremaining: 1m 21s\n",
      "750:\tlearn: 0.7536390\ttest: 0.7341000\tbest: 0.7341000 (750)\ttotal: 13.9s\tremaining: 1m 18s\n",
      "1000:\tlearn: 0.7542962\ttest: 0.7345016\tbest: 0.7345016 (1000)\ttotal: 18.9s\tremaining: 1m 15s\n",
      "1250:\tlearn: 0.7548048\ttest: 0.7346694\tbest: 0.7346762 (1234)\ttotal: 23.7s\tremaining: 1m 10s\n",
      "1500:\tlearn: 0.7552544\ttest: 0.7348407\tbest: 0.7348410 (1499)\ttotal: 28.4s\tremaining: 1m 6s\n",
      "1750:\tlearn: 0.7556925\ttest: 0.7349667\tbest: 0.7349728 (1744)\ttotal: 32.8s\tremaining: 1m\n",
      "2000:\tlearn: 0.7560908\ttest: 0.7350777\tbest: 0.7350860 (1960)\ttotal: 37.5s\tremaining: 56.2s\n",
      "bestTest = 0.7350860238\n",
      "bestIteration = 1960\n",
      "Shrink model to first 1961 iterations.\n",
      "0:\tlearn: 0.7261028\ttest: 0.7031326\tbest: 0.7031326 (0)\ttotal: 17.5ms\tremaining: 1m 27s\n",
      "250:\tlearn: 0.7512791\ttest: 0.7319147\tbest: 0.7319147 (250)\ttotal: 4.27s\tremaining: 1m 20s\n",
      "500:\tlearn: 0.7525558\ttest: 0.7331023\tbest: 0.7331040 (499)\ttotal: 8.78s\tremaining: 1m 18s\n",
      "750:\tlearn: 0.7533533\ttest: 0.7337335\tbest: 0.7337343 (749)\ttotal: 13.5s\tremaining: 1m 16s\n",
      "1000:\tlearn: 0.7540021\ttest: 0.7342522\tbest: 0.7342522 (1000)\ttotal: 17.7s\tremaining: 1m 10s\n",
      "1250:\tlearn: 0.7545099\ttest: 0.7345019\tbest: 0.7345019 (1250)\ttotal: 21.9s\tremaining: 1m 5s\n",
      "1500:\tlearn: 0.7549588\ttest: 0.7347787\tbest: 0.7347787 (1500)\ttotal: 26.7s\tremaining: 1m 2s\n",
      "1750:\tlearn: 0.7554020\ttest: 0.7349656\tbest: 0.7349687 (1739)\ttotal: 31.5s\tremaining: 58.4s\n",
      "2000:\tlearn: 0.7557666\ttest: 0.7350951\tbest: 0.7350951 (2000)\ttotal: 35.9s\tremaining: 53.8s\n",
      "2250:\tlearn: 0.7560994\ttest: 0.7351824\tbest: 0.7351844 (2234)\ttotal: 40.7s\tremaining: 49.7s\n",
      "2500:\tlearn: 0.7564520\ttest: 0.7352582\tbest: 0.7352654 (2489)\ttotal: 45s\tremaining: 44.9s\n",
      "bestTest = 0.73527053\n",
      "bestIteration = 2555\n",
      "Shrink model to first 2556 iterations.\n",
      "0:\tlearn: 0.7397221\ttest: 0.7180499\tbest: 0.7180499 (0)\ttotal: 55.5ms\tremaining: 4m 37s\n",
      "bestTest = 0.7353732884\n",
      "bestIteration = 129\n",
      "Shrink model to first 130 iterations.\n",
      "0:\tlearn: 0.7341550\ttest: 0.7118498\tbest: 0.7118498 (0)\ttotal: 21.9ms\tremaining: 1m 49s\n",
      "250:\tlearn: 0.7530690\ttest: 0.7340759\tbest: 0.7340759 (250)\ttotal: 4.95s\tremaining: 1m 33s\n",
      "500:\tlearn: 0.7541855\ttest: 0.7347967\tbest: 0.7347968 (495)\ttotal: 9.85s\tremaining: 1m 28s\n",
      "750:\tlearn: 0.7549711\ttest: 0.7351429\tbest: 0.7351438 (749)\ttotal: 14.5s\tremaining: 1m 21s\n",
      "1000:\tlearn: 0.7555653\ttest: 0.7352893\tbest: 0.7352954 (996)\ttotal: 19.3s\tremaining: 1m 16s\n",
      "bestTest = 0.7352954149\n",
      "bestIteration = 996\n",
      "Shrink model to first 997 iterations.\n",
      "0:\tlearn: 0.7471744\ttest: 0.7256311\tbest: 0.7256311 (0)\ttotal: 57.3ms\tremaining: 4m 46s\n",
      "bestTest = 0.7352638245\n",
      "bestIteration = 86\n",
      "Shrink model to first 87 iterations.\n",
      "0:\tlearn: 0.7365584\ttest: 0.7147114\tbest: 0.7147114 (0)\ttotal: 24.6ms\tremaining: 2m 2s\n",
      "250:\tlearn: 0.7545227\ttest: 0.7345328\tbest: 0.7345328 (250)\ttotal: 5.19s\tremaining: 1m 38s\n",
      "500:\tlearn: 0.7561659\ttest: 0.7350434\tbest: 0.7350439 (498)\ttotal: 10.7s\tremaining: 1m 36s\n",
      "750:\tlearn: 0.7575159\ttest: 0.7352680\tbest: 0.7352680 (750)\ttotal: 15.7s\tremaining: 1m 28s\n",
      "1000:\tlearn: 0.7586732\ttest: 0.7353711\tbest: 0.7353711 (1000)\ttotal: 21.3s\tremaining: 1m 24s\n",
      "bestTest = 0.7353711426\n",
      "bestIteration = 1000\n",
      "Shrink model to first 1001 iterations.\n",
      "0:\tlearn: 0.7332758\ttest: 0.7113310\tbest: 0.7113310 (0)\ttotal: 19.4ms\tremaining: 1m 36s\n",
      "250:\tlearn: 0.7538359\ttest: 0.7345060\tbest: 0.7345068 (245)\ttotal: 4.33s\tremaining: 1m 22s\n",
      "500:\tlearn: 0.7552024\ttest: 0.7349904\tbest: 0.7349914 (499)\ttotal: 8.82s\tremaining: 1m 19s\n",
      "750:\tlearn: 0.7561692\ttest: 0.7351616\tbest: 0.7351616 (750)\ttotal: 13.1s\tremaining: 1m 14s\n",
      "bestTest = 0.7351958752\n",
      "bestIteration = 813\n",
      "Shrink model to first 814 iterations.\n",
      "0:\tlearn: 0.7311288\ttest: 0.7095435\tbest: 0.7095435 (0)\ttotal: 19.4ms\tremaining: 1m 36s\n",
      "250:\tlearn: 0.7527971\ttest: 0.7339112\tbest: 0.7339124 (249)\ttotal: 4.36s\tremaining: 1m 22s\n",
      "500:\tlearn: 0.7537634\ttest: 0.7346275\tbest: 0.7346308 (491)\ttotal: 8.92s\tremaining: 1m 20s\n",
      "750:\tlearn: 0.7544335\ttest: 0.7349889\tbest: 0.7349903 (749)\ttotal: 13.3s\tremaining: 1m 15s\n",
      "1000:\tlearn: 0.7549039\ttest: 0.7351737\tbest: 0.7351743 (996)\ttotal: 17.6s\tremaining: 1m 10s\n",
      "bestTest = 0.7351851761\n",
      "bestIteration = 1004\n",
      "Shrink model to first 1005 iterations.\n",
      "0:\tlearn: 0.7392128\ttest: 0.7171872\tbest: 0.7171872 (0)\ttotal: 52.9ms\tremaining: 4m 24s\n",
      "250:\tlearn: 0.7590944\ttest: 0.7350209\tbest: 0.7350209 (250)\ttotal: 13.1s\tremaining: 4m 7s\n",
      "bestTest = 0.7350732982\n",
      "bestIteration = 316\n",
      "Shrink model to first 317 iterations.\n",
      "0:\tlearn: 0.7468195\ttest: 0.7254429\tbest: 0.7254429 (0)\ttotal: 59.5ms\tremaining: 4m 57s\n",
      "bestTest = 0.7354482114\n",
      "bestIteration = 102\n",
      "Shrink model to first 103 iterations.\n",
      "0:\tlearn: 0.7378816\ttest: 0.7167825\tbest: 0.7167825 (0)\ttotal: 55.7ms\tremaining: 4m 38s\n",
      "250:\tlearn: 0.7597313\ttest: 0.7353668\tbest: 0.7353803 (246)\ttotal: 14.6s\tremaining: 4m 37s\n",
      "bestTest = 0.7354214191\n",
      "bestIteration = 290\n",
      "Shrink model to first 291 iterations.\n",
      "0:\tlearn: 0.7494570\ttest: 0.7267753\tbest: 0.7267753 (0)\ttotal: 64.8ms\tremaining: 5m 24s\n",
      "bestTest = 0.7348792553\n",
      "bestIteration = 50\n",
      "Shrink model to first 51 iterations.\n",
      "0:\tlearn: 0.7332272\ttest: 0.7113498\tbest: 0.7113498 (0)\ttotal: 18ms\tremaining: 1m 29s\n",
      "250:\tlearn: 0.7554343\ttest: 0.7354692\tbest: 0.7354692 (250)\ttotal: 4.57s\tremaining: 1m 26s\n",
      "500:\tlearn: 0.7571624\ttest: 0.7357128\tbest: 0.7357140 (498)\ttotal: 9.08s\tremaining: 1m 21s\n",
      "bestTest = 0.7357215583\n",
      "bestIteration = 510\n",
      "Shrink model to first 511 iterations.\n",
      "| \u001b[95m 31      \u001b[0m | \u001b[95m 0.7357  \u001b[0m | \u001b[95m 0.6421  \u001b[0m | \u001b[95m 280.8   \u001b[0m | \u001b[95m 8.475   \u001b[0m | \u001b[95m 493.9   \u001b[0m | \u001b[95m 12.42   \u001b[0m |\n",
      "0:\tlearn: 0.7359395\ttest: 0.7146946\tbest: 0.7146946 (0)\ttotal: 22ms\tremaining: 1m 49s\n",
      "250:\tlearn: 0.7544878\ttest: 0.7349463\tbest: 0.7349463 (250)\ttotal: 5.25s\tremaining: 1m 39s\n",
      "500:\tlearn: 0.7557686\ttest: 0.7353956\tbest: 0.7354011 (495)\ttotal: 10s\tremaining: 1m 30s\n",
      "750:\tlearn: 0.7566916\ttest: 0.7355451\tbest: 0.7355514 (724)\ttotal: 14.7s\tremaining: 1m 23s\n",
      "bestTest = 0.7355704606\n",
      "bestIteration = 806\n",
      "Shrink model to first 807 iterations.\n",
      "0:\tlearn: 0.7314219\ttest: 0.7090701\tbest: 0.7090701 (0)\ttotal: 18.2ms\tremaining: 1m 31s\n",
      "250:\tlearn: 0.7540531\ttest: 0.7347099\tbest: 0.7347099 (250)\ttotal: 4.76s\tremaining: 1m 30s\n",
      "bestTest = 0.7352422774\n",
      "bestIteration = 441\n",
      "Shrink model to first 442 iterations.\n",
      "0:\tlearn: 0.7303106\ttest: 0.7078246\tbest: 0.7078246 (0)\ttotal: 20.8ms\tremaining: 1m 44s\n",
      "250:\tlearn: 0.7546669\ttest: 0.7352428\tbest: 0.7352428 (250)\ttotal: 4.38s\tremaining: 1m 22s\n",
      "500:\tlearn: 0.7561668\ttest: 0.7355723\tbest: 0.7355787 (465)\ttotal: 8.75s\tremaining: 1m 18s\n",
      "bestTest = 0.735578686\n",
      "bestIteration = 465\n",
      "Shrink model to first 466 iterations.\n",
      "0:\tlearn: 0.7266561\ttest: 0.7032786\tbest: 0.7032786 (0)\ttotal: 17.2ms\tremaining: 1m 25s\n",
      "250:\tlearn: 0.7519915\ttest: 0.7330344\tbest: 0.7330344 (250)\ttotal: 4.13s\tremaining: 1m 18s\n",
      "500:\tlearn: 0.7530433\ttest: 0.7340392\tbest: 0.7340392 (500)\ttotal: 8.47s\tremaining: 1m 16s\n",
      "750:\tlearn: 0.7536659\ttest: 0.7344378\tbest: 0.7344417 (748)\ttotal: 12.6s\tremaining: 1m 11s\n",
      "1000:\tlearn: 0.7541824\ttest: 0.7347317\tbest: 0.7347317 (1000)\ttotal: 16.9s\tremaining: 1m 7s\n",
      "1250:\tlearn: 0.7545672\ttest: 0.7348671\tbest: 0.7348678 (1227)\ttotal: 21.4s\tremaining: 1m 4s\n",
      "1500:\tlearn: 0.7549717\ttest: 0.7350511\tbest: 0.7350564 (1494)\ttotal: 25.7s\tremaining: 59.8s\n",
      "1750:\tlearn: 0.7553124\ttest: 0.7351536\tbest: 0.7351593 (1739)\ttotal: 30s\tremaining: 55.6s\n",
      "bestTest = 0.7351593375\n",
      "bestIteration = 1739\n",
      "Shrink model to first 1740 iterations.\n",
      "0:\tlearn: 0.7298651\ttest: 0.7081924\tbest: 0.7081924 (0)\ttotal: 19.5ms\tremaining: 1m 37s\n",
      "250:\tlearn: 0.7515443\ttest: 0.7322412\tbest: 0.7322412 (250)\ttotal: 4.38s\tremaining: 1m 22s\n",
      "500:\tlearn: 0.7529024\ttest: 0.7334843\tbest: 0.7334843 (500)\ttotal: 9.02s\tremaining: 1m 21s\n",
      "750:\tlearn: 0.7537875\ttest: 0.7341358\tbest: 0.7341358 (750)\ttotal: 13.5s\tremaining: 1m 16s\n",
      "1000:\tlearn: 0.7544600\ttest: 0.7345298\tbest: 0.7345299 (999)\ttotal: 18s\tremaining: 1m 11s\n",
      "1250:\tlearn: 0.7550422\ttest: 0.7347225\tbest: 0.7347259 (1248)\ttotal: 22.3s\tremaining: 1m 6s\n",
      "1500:\tlearn: 0.7555594\ttest: 0.7349261\tbest: 0.7349289 (1496)\ttotal: 26.6s\tremaining: 1m 1s\n",
      "1750:\tlearn: 0.7560363\ttest: 0.7350452\tbest: 0.7350518 (1743)\ttotal: 30.8s\tremaining: 57.2s\n",
      "bestTest = 0.7350518107\n",
      "bestIteration = 1743\n",
      "Shrink model to first 1744 iterations.\n",
      "0:\tlearn: 0.7395042\ttest: 0.7175288\tbest: 0.7175288 (0)\ttotal: 63.7ms\tremaining: 5m 18s\n",
      "bestTest = 0.7352088094\n",
      "bestIteration = 101\n",
      "Shrink model to first 102 iterations.\n",
      "0:\tlearn: 0.7408051\ttest: 0.7198401\tbest: 0.7198401 (0)\ttotal: 62.3ms\tremaining: 5m 11s\n",
      "bestTest = 0.7353333235\n",
      "bestIteration = 82\n",
      "Shrink model to first 83 iterations.\n",
      "0:\tlearn: 0.7280466\ttest: 0.7055788\tbest: 0.7055788 (0)\ttotal: 18ms\tremaining: 1m 29s\n",
      "250:\tlearn: 0.7517088\ttest: 0.7324665\tbest: 0.7324671 (249)\ttotal: 4.62s\tremaining: 1m 27s\n",
      "500:\tlearn: 0.7531701\ttest: 0.7338322\tbest: 0.7338322 (500)\ttotal: 9.35s\tremaining: 1m 23s\n",
      "750:\tlearn: 0.7540430\ttest: 0.7344227\tbest: 0.7344257 (749)\ttotal: 14.2s\tremaining: 1m 20s\n",
      "1000:\tlearn: 0.7547362\ttest: 0.7347964\tbest: 0.7347964 (1000)\ttotal: 19.1s\tremaining: 1m 16s\n",
      "1250:\tlearn: 0.7553166\ttest: 0.7350464\tbest: 0.7350464 (1250)\ttotal: 24.1s\tremaining: 1m 12s\n",
      "1500:\tlearn: 0.7558329\ttest: 0.7352588\tbest: 0.7352588 (1500)\ttotal: 28.8s\tremaining: 1m 7s\n",
      "1750:\tlearn: 0.7563120\ttest: 0.7353773\tbest: 0.7353956 (1706)\ttotal: 33.6s\tremaining: 1m 2s\n",
      "bestTest = 0.7353956103\n",
      "bestIteration = 1706\n",
      "Shrink model to first 1707 iterations.\n",
      "0:\tlearn: 0.7226690\ttest: 0.7011760\tbest: 0.7011760 (0)\ttotal: 16.3ms\tremaining: 1m 21s\n",
      "250:\tlearn: 0.7508448\ttest: 0.7316951\tbest: 0.7316951 (250)\ttotal: 4.16s\tremaining: 1m 18s\n",
      "500:\tlearn: 0.7521427\ttest: 0.7329440\tbest: 0.7329440 (500)\ttotal: 8.14s\tremaining: 1m 13s\n",
      "750:\tlearn: 0.7529024\ttest: 0.7336939\tbest: 0.7336939 (750)\ttotal: 12.2s\tremaining: 1m 9s\n",
      "1000:\tlearn: 0.7534857\ttest: 0.7341756\tbest: 0.7341756 (1000)\ttotal: 16.6s\tremaining: 1m 6s\n",
      "1250:\tlearn: 0.7539255\ttest: 0.7344588\tbest: 0.7344605 (1234)\ttotal: 21s\tremaining: 1m 3s\n",
      "1500:\tlearn: 0.7543038\ttest: 0.7346841\tbest: 0.7346841 (1499)\ttotal: 25.6s\tremaining: 59.7s\n",
      "1750:\tlearn: 0.7546369\ttest: 0.7348504\tbest: 0.7348513 (1743)\ttotal: 30s\tremaining: 55.6s\n",
      "bestTest = 0.7348594666\n",
      "bestIteration = 1759\n",
      "Shrink model to first 1760 iterations.\n",
      "0:\tlearn: 0.7489030\ttest: 0.7274145\tbest: 0.7274145 (0)\ttotal: 59.6ms\tremaining: 4m 58s\n",
      "bestTest = 0.7355116606\n",
      "bestIteration = 83\n",
      "Shrink model to first 84 iterations.\n",
      "0:\tlearn: 0.7328233\ttest: 0.7109811\tbest: 0.7109811 (0)\ttotal: 19ms\tremaining: 1m 35s\n",
      "250:\tlearn: 0.7526176\ttest: 0.7336626\tbest: 0.7336626 (250)\ttotal: 4.49s\tremaining: 1m 25s\n",
      "500:\tlearn: 0.7536916\ttest: 0.7345051\tbest: 0.7345102 (491)\ttotal: 9.07s\tremaining: 1m 21s\n",
      "750:\tlearn: 0.7544403\ttest: 0.7348854\tbest: 0.7348897 (748)\ttotal: 13.6s\tremaining: 1m 17s\n",
      "1000:\tlearn: 0.7550190\ttest: 0.7351252\tbest: 0.7351252 (1000)\ttotal: 18.2s\tremaining: 1m 12s\n",
      "1250:\tlearn: 0.7554702\ttest: 0.7352246\tbest: 0.7352246 (1250)\ttotal: 22.9s\tremaining: 1m 8s\n",
      "1500:\tlearn: 0.7559098\ttest: 0.7353281\tbest: 0.7353319 (1494)\ttotal: 27.7s\tremaining: 1m 4s\n",
      "bestTest = 0.7354038656\n",
      "bestIteration = 1650\n",
      "Shrink model to first 1651 iterations.\n",
      "=====================================================================================\n",
      "optimizer_max ..\n",
      "{'target': 0.7357215583324432, 'params': {'bagging_temperature': 0.6420623284751135, 'border_count': 280.7648575128367, 'depth': 8.47474833653586, 'l2_leaf_reg': 493.86311678448686, 'max_leaves': 12.424030223310169}}\n",
      "CPU times: user 22min 31s, sys: 8min 10s, total: 30min 41s\n",
      "Wall time: 14min 26s\n"
     ]
    }
   ],
   "source": [
    "%%time\n",
    "# Obtain new train_df and validation test_df\n",
    "# train_df = pd.read_feather(path/\"cv2_train.feather\", columns=config.dtypes.keys())\n",
    "train_df = pd.read_feather(path/\"train_5e6.feather\", columns=config.dtypes.keys())\n",
    "# train_df = train_df.iloc[:100]\n",
    "\n",
    "\n",
    "# Preprocess for model fitting\n",
    "train_user_agg, train_content_agg, train_df = preprocess_train_data(train_df, questions_df, config.target, config.dtypes)\n",
    "print(\"Preprocess for model fitting ok\")\n",
    "\n",
    "# Ratio is 6/24 = 25%\n",
    "test_df = train_df.groupby('user_id').tail(6)\n",
    "train_df.drop(test_df.index, inplace = True)\n",
    "\n",
    "# Training and validating data\n",
    "train_set = Pool(train_df[config.features], label = train_df[config.target], cat_features=config.cat_features)\n",
    "val_set = Pool(test_df[config.features], label = test_df[config.target], cat_features=config.cat_features)\n",
    "\n",
    "\n",
    "optimizer_max = bayesian_catboost_search(\n",
    "    train_set, val_set,\n",
    "    prior_params=config.prior_params,\n",
    "    pds=config.pds, pds_dtypes=config.pds_dtypes,\n",
    "    init_points=5, n_iter=37, verbose=True,\n",
    ")\n",
    "\n",
    "print(\"optimizer_max ..\")\n",
    "print(optimizer_max)"
   ]
  },
  {
   "cell_type": "code",
   "execution_count": 8,
   "metadata": {
    "collapsed": false,
    "jupyter": {
     "outputs_hidden": false
    },
    "pycharm": {
     "name": "#%%\n"
    }
   },
   "outputs": [
    {
     "data": {
      "text/plain": [
       "22"
      ]
     },
     "execution_count": 8,
     "metadata": {},
     "output_type": "execute_result"
    }
   ],
   "source": [
    "del train_df\n",
    "gc.collect()"
   ]
  },
  {
   "cell_type": "code",
   "execution_count": 9,
   "metadata": {
    "pycharm": {
     "name": "#%%\n"
    }
   },
   "outputs": [
    {
     "name": "stdout",
     "output_type": "stream",
     "text": [
      "Preprocess for model fitting ok\n",
      "params\n",
      "{'loss_function': 'Logloss', 'eval_metric': 'AUC', 'custom_metric': 'AUC:hints=skip_train~false', 'task_type': 'GPU', 'grow_policy': 'Lossguide', 'iterations': 25000, 'learning_rate': 0.004, 'random_seed': 0, 'bootstrap_type': 'Bayesian', 'l2_leaf_reg': 493.86311678448686, 'depth': 8, 'max_leaves': 12, 'border_count': 280, 'verbose': 250, 'od_type': 'Iter', 'od_wait': 50, 'bagging_temperature': 0.6420623284751135}\n",
      "0:\tlearn: 0.7328297\ttest: 0.7130116\tbest: 0.7130116 (0)\ttotal: 65.1ms\tremaining: 27m 7s\n",
      "250:\tlearn: 0.7431636\ttest: 0.7227285\tbest: 0.7227285 (250)\ttotal: 16s\tremaining: 26m 18s\n",
      "500:\tlearn: 0.7457674\ttest: 0.7256117\tbest: 0.7256117 (500)\ttotal: 32.3s\tremaining: 26m 18s\n",
      "750:\tlearn: 0.7478069\ttest: 0.7284585\tbest: 0.7284585 (750)\ttotal: 48.6s\tremaining: 26m 9s\n",
      "1000:\tlearn: 0.7491752\ttest: 0.7305188\tbest: 0.7305188 (1000)\ttotal: 1m 4s\tremaining: 25m 49s\n",
      "1250:\tlearn: 0.7499936\ttest: 0.7317368\tbest: 0.7317368 (1250)\ttotal: 1m 20s\tremaining: 25m 32s\n",
      "1500:\tlearn: 0.7505544\ttest: 0.7326441\tbest: 0.7326441 (1500)\ttotal: 1m 36s\tremaining: 25m 17s\n",
      "1750:\tlearn: 0.7509427\ttest: 0.7332378\tbest: 0.7332378 (1750)\ttotal: 1m 52s\tremaining: 24m 58s\n",
      "2000:\tlearn: 0.7512150\ttest: 0.7336547\tbest: 0.7336547 (2000)\ttotal: 2m 8s\tremaining: 24m 35s\n",
      "2250:\tlearn: 0.7514302\ttest: 0.7339601\tbest: 0.7339601 (2250)\ttotal: 2m 24s\tremaining: 24m 16s\n",
      "2500:\tlearn: 0.7515955\ttest: 0.7341770\tbest: 0.7341770 (2500)\ttotal: 2m 39s\tremaining: 23m 54s\n",
      "2750:\tlearn: 0.7517350\ttest: 0.7343625\tbest: 0.7343625 (2750)\ttotal: 2m 54s\tremaining: 23m 33s\n",
      "3000:\tlearn: 0.7518556\ttest: 0.7345044\tbest: 0.7345044 (3000)\ttotal: 3m 10s\tremaining: 23m 14s\n",
      "3250:\tlearn: 0.7519604\ttest: 0.7346248\tbest: 0.7346248 (3250)\ttotal: 3m 25s\tremaining: 22m 54s\n",
      "3500:\tlearn: 0.7520550\ttest: 0.7347343\tbest: 0.7347343 (3500)\ttotal: 3m 40s\tremaining: 22m 34s\n",
      "3750:\tlearn: 0.7521396\ttest: 0.7348352\tbest: 0.7348352 (3750)\ttotal: 3m 55s\tremaining: 22m 15s\n",
      "4000:\tlearn: 0.7522198\ttest: 0.7349277\tbest: 0.7349277 (4000)\ttotal: 4m 10s\tremaining: 21m 54s\n",
      "4250:\tlearn: 0.7522959\ttest: 0.7350182\tbest: 0.7350182 (4250)\ttotal: 4m 25s\tremaining: 21m 35s\n",
      "4500:\tlearn: 0.7523622\ttest: 0.7350951\tbest: 0.7350951 (4500)\ttotal: 4m 40s\tremaining: 21m 15s\n",
      "4750:\tlearn: 0.7524286\ttest: 0.7351687\tbest: 0.7351687 (4750)\ttotal: 4m 55s\tremaining: 20m 58s\n",
      "5000:\tlearn: 0.7524853\ttest: 0.7352258\tbest: 0.7352258 (5000)\ttotal: 5m 10s\tremaining: 20m 40s\n",
      "5250:\tlearn: 0.7525414\ttest: 0.7352860\tbest: 0.7352860 (5250)\ttotal: 5m 24s\tremaining: 20m 21s\n",
      "5500:\tlearn: 0.7525947\ttest: 0.7353436\tbest: 0.7353437 (5499)\ttotal: 5m 39s\tremaining: 20m 4s\n",
      "5750:\tlearn: 0.7526474\ttest: 0.7354018\tbest: 0.7354018 (5750)\ttotal: 5m 54s\tremaining: 19m 47s\n",
      "6000:\tlearn: 0.7526960\ttest: 0.7354533\tbest: 0.7354533 (6000)\ttotal: 6m 10s\tremaining: 19m 31s\n",
      "6250:\tlearn: 0.7527425\ttest: 0.7355063\tbest: 0.7355063 (6250)\ttotal: 6m 25s\tremaining: 19m 15s\n",
      "6500:\tlearn: 0.7527858\ttest: 0.7355542\tbest: 0.7355542 (6500)\ttotal: 6m 39s\tremaining: 18m 57s\n",
      "6750:\tlearn: 0.7528286\ttest: 0.7355992\tbest: 0.7355992 (6750)\ttotal: 6m 54s\tremaining: 18m 41s\n",
      "7000:\tlearn: 0.7528696\ttest: 0.7356455\tbest: 0.7356455 (7000)\ttotal: 7m 9s\tremaining: 18m 24s\n",
      "7250:\tlearn: 0.7529083\ttest: 0.7356889\tbest: 0.7356889 (7250)\ttotal: 7m 23s\tremaining: 18m 6s\n",
      "7500:\tlearn: 0.7529459\ttest: 0.7357302\tbest: 0.7357302 (7500)\ttotal: 7m 38s\tremaining: 17m 50s\n",
      "7750:\tlearn: 0.7529826\ttest: 0.7357677\tbest: 0.7357677 (7750)\ttotal: 7m 53s\tremaining: 17m 34s\n",
      "8000:\tlearn: 0.7530185\ttest: 0.7358059\tbest: 0.7358059 (8000)\ttotal: 8m 8s\tremaining: 17m 18s\n",
      "8250:\tlearn: 0.7530516\ttest: 0.7358405\tbest: 0.7358405 (8250)\ttotal: 8m 23s\tremaining: 17m 2s\n",
      "8500:\tlearn: 0.7530844\ttest: 0.7358732\tbest: 0.7358733 (8499)\ttotal: 8m 38s\tremaining: 16m 47s\n",
      "8750:\tlearn: 0.7531160\ttest: 0.7359045\tbest: 0.7359045 (8750)\ttotal: 8m 53s\tremaining: 16m 30s\n",
      "9000:\tlearn: 0.7531465\ttest: 0.7359330\tbest: 0.7359330 (9000)\ttotal: 9m 8s\tremaining: 16m 14s\n",
      "9250:\tlearn: 0.7531741\ttest: 0.7359609\tbest: 0.7359609 (9250)\ttotal: 9m 23s\tremaining: 15m 58s\n",
      "9500:\tlearn: 0.7532022\ttest: 0.7359893\tbest: 0.7359893 (9500)\ttotal: 9m 37s\tremaining: 15m 42s\n",
      "9750:\tlearn: 0.7532298\ttest: 0.7360172\tbest: 0.7360172 (9750)\ttotal: 9m 52s\tremaining: 15m 26s\n",
      "10000:\tlearn: 0.7532551\ttest: 0.7360424\tbest: 0.7360424 (10000)\ttotal: 10m 7s\tremaining: 15m 11s\n",
      "10250:\tlearn: 0.7532805\ttest: 0.7360665\tbest: 0.7360665 (10250)\ttotal: 10m 22s\tremaining: 14m 56s\n",
      "10500:\tlearn: 0.7533055\ttest: 0.7360901\tbest: 0.7360901 (10500)\ttotal: 10m 37s\tremaining: 14m 40s\n",
      "10750:\tlearn: 0.7533298\ttest: 0.7361113\tbest: 0.7361113 (10750)\ttotal: 10m 52s\tremaining: 14m 24s\n",
      "11000:\tlearn: 0.7533541\ttest: 0.7361322\tbest: 0.7361322 (10999)\ttotal: 11m 6s\tremaining: 14m 8s\n",
      "11250:\tlearn: 0.7533779\ttest: 0.7361527\tbest: 0.7361527 (11249)\ttotal: 11m 22s\tremaining: 13m 53s\n",
      "11500:\tlearn: 0.7533991\ttest: 0.7361717\tbest: 0.7361717 (11500)\ttotal: 11m 36s\tremaining: 13m 37s\n",
      "11750:\tlearn: 0.7534218\ttest: 0.7361925\tbest: 0.7361925 (11750)\ttotal: 11m 51s\tremaining: 13m 22s\n",
      "12000:\tlearn: 0.7534443\ttest: 0.7362126\tbest: 0.7362126 (12000)\ttotal: 12m 6s\tremaining: 13m 6s\n",
      "12250:\tlearn: 0.7534647\ttest: 0.7362289\tbest: 0.7362289 (12250)\ttotal: 12m 21s\tremaining: 12m 51s\n",
      "12500:\tlearn: 0.7534859\ttest: 0.7362467\tbest: 0.7362467 (12500)\ttotal: 12m 35s\tremaining: 12m 35s\n",
      "12750:\tlearn: 0.7535059\ttest: 0.7362639\tbest: 0.7362639 (12746)\ttotal: 12m 50s\tremaining: 12m 19s\n",
      "13000:\tlearn: 0.7535275\ttest: 0.7362811\tbest: 0.7362811 (12997)\ttotal: 13m 5s\tremaining: 12m 4s\n",
      "13250:\tlearn: 0.7535474\ttest: 0.7362979\tbest: 0.7362979 (13250)\ttotal: 13m 19s\tremaining: 11m 48s\n",
      "13500:\tlearn: 0.7535658\ttest: 0.7363135\tbest: 0.7363135 (13500)\ttotal: 13m 34s\tremaining: 11m 33s\n",
      "13750:\tlearn: 0.7535852\ttest: 0.7363295\tbest: 0.7363295 (13750)\ttotal: 13m 49s\tremaining: 11m 18s\n",
      "14000:\tlearn: 0.7536044\ttest: 0.7363453\tbest: 0.7363453 (14000)\ttotal: 14m 4s\tremaining: 11m 3s\n",
      "14250:\tlearn: 0.7536230\ttest: 0.7363613\tbest: 0.7363613 (14249)\ttotal: 14m 19s\tremaining: 10m 48s\n",
      "14500:\tlearn: 0.7536422\ttest: 0.7363771\tbest: 0.7363771 (14500)\ttotal: 14m 34s\tremaining: 10m 32s\n",
      "14750:\tlearn: 0.7536590\ttest: 0.7363908\tbest: 0.7363908 (14750)\ttotal: 14m 48s\tremaining: 10m 17s\n",
      "15000:\tlearn: 0.7536771\ttest: 0.7364056\tbest: 0.7364056 (15000)\ttotal: 15m 3s\tremaining: 10m 2s\n",
      "15250:\tlearn: 0.7536952\ttest: 0.7364196\tbest: 0.7364196 (15250)\ttotal: 15m 17s\tremaining: 9m 46s\n",
      "15500:\tlearn: 0.7537129\ttest: 0.7364329\tbest: 0.7364329 (15500)\ttotal: 15m 32s\tremaining: 9m 31s\n",
      "15750:\tlearn: 0.7537294\ttest: 0.7364452\tbest: 0.7364452 (15750)\ttotal: 15m 47s\tremaining: 9m 16s\n",
      "16000:\tlearn: 0.7537459\ttest: 0.7364569\tbest: 0.7364569 (15996)\ttotal: 16m 1s\tremaining: 9m\n",
      "16250:\tlearn: 0.7537634\ttest: 0.7364701\tbest: 0.7364701 (16249)\ttotal: 16m 16s\tremaining: 8m 45s\n",
      "16500:\tlearn: 0.7537796\ttest: 0.7364818\tbest: 0.7364818 (16500)\ttotal: 16m 31s\tremaining: 8m 30s\n",
      "16750:\tlearn: 0.7537962\ttest: 0.7364955\tbest: 0.7364955 (16750)\ttotal: 16m 46s\tremaining: 8m 15s\n",
      "17000:\tlearn: 0.7538117\ttest: 0.7365071\tbest: 0.7365071 (16999)\ttotal: 17m 1s\tremaining: 8m\n",
      "17250:\tlearn: 0.7538275\ttest: 0.7365189\tbest: 0.7365189 (17250)\ttotal: 17m 16s\tremaining: 7m 45s\n",
      "17500:\tlearn: 0.7538429\ttest: 0.7365304\tbest: 0.7365304 (17498)\ttotal: 17m 31s\tremaining: 7m 30s\n",
      "17750:\tlearn: 0.7538584\ttest: 0.7365423\tbest: 0.7365423 (17750)\ttotal: 17m 46s\tremaining: 7m 15s\n",
      "18000:\tlearn: 0.7538735\ttest: 0.7365541\tbest: 0.7365541 (17999)\ttotal: 18m 1s\tremaining: 7m\n",
      "18250:\tlearn: 0.7538873\ttest: 0.7365642\tbest: 0.7365643 (18248)\ttotal: 18m 16s\tremaining: 6m 45s\n",
      "18500:\tlearn: 0.7539025\ttest: 0.7365753\tbest: 0.7365753 (18499)\ttotal: 18m 30s\tremaining: 6m 30s\n",
      "18750:\tlearn: 0.7539161\ttest: 0.7365851\tbest: 0.7365851 (18750)\ttotal: 18m 45s\tremaining: 6m 15s\n",
      "19000:\tlearn: 0.7539300\ttest: 0.7365945\tbest: 0.7365945 (19000)\ttotal: 19m\tremaining: 6m\n",
      "19250:\tlearn: 0.7539448\ttest: 0.7366047\tbest: 0.7366047 (19250)\ttotal: 19m 15s\tremaining: 5m 45s\n",
      "19500:\tlearn: 0.7539583\ttest: 0.7366142\tbest: 0.7366142 (19500)\ttotal: 19m 30s\tremaining: 5m 29s\n",
      "19750:\tlearn: 0.7539714\ttest: 0.7366230\tbest: 0.7366230 (19747)\ttotal: 19m 44s\tremaining: 5m 14s\n",
      "20000:\tlearn: 0.7539847\ttest: 0.7366320\tbest: 0.7366320 (20000)\ttotal: 19m 59s\tremaining: 4m 59s\n",
      "20250:\tlearn: 0.7539969\ttest: 0.7366403\tbest: 0.7366403 (20250)\ttotal: 20m 14s\tremaining: 4m 44s\n",
      "20500:\tlearn: 0.7540109\ttest: 0.7366499\tbest: 0.7366499 (20500)\ttotal: 20m 29s\tremaining: 4m 29s\n",
      "20750:\tlearn: 0.7540238\ttest: 0.7366593\tbest: 0.7366593 (20749)\ttotal: 20m 44s\tremaining: 4m 14s\n",
      "21000:\tlearn: 0.7540366\ttest: 0.7366678\tbest: 0.7366679 (20998)\ttotal: 20m 59s\tremaining: 3m 59s\n",
      "21250:\tlearn: 0.7540498\ttest: 0.7366771\tbest: 0.7366771 (21250)\ttotal: 21m 14s\tremaining: 3m 44s\n",
      "21500:\tlearn: 0.7540623\ttest: 0.7366857\tbest: 0.7366857 (21500)\ttotal: 21m 28s\tremaining: 3m 29s\n",
      "21750:\tlearn: 0.7540751\ttest: 0.7366945\tbest: 0.7366945 (21750)\ttotal: 21m 42s\tremaining: 3m 14s\n",
      "22000:\tlearn: 0.7540878\ttest: 0.7367038\tbest: 0.7367038 (22000)\ttotal: 21m 57s\tremaining: 2m 59s\n",
      "22250:\tlearn: 0.7541003\ttest: 0.7367126\tbest: 0.7367126 (22250)\ttotal: 22m 12s\tremaining: 2m 44s\n",
      "22500:\tlearn: 0.7541122\ttest: 0.7367204\tbest: 0.7367204 (22499)\ttotal: 22m 27s\tremaining: 2m 29s\n",
      "22750:\tlearn: 0.7541237\ttest: 0.7367276\tbest: 0.7367276 (22749)\ttotal: 22m 42s\tremaining: 2m 14s\n",
      "23000:\tlearn: 0.7541356\ttest: 0.7367355\tbest: 0.7367355 (23000)\ttotal: 22m 57s\tremaining: 1m 59s\n",
      "23250:\tlearn: 0.7541482\ttest: 0.7367435\tbest: 0.7367436 (23249)\ttotal: 23m 11s\tremaining: 1m 44s\n",
      "23500:\tlearn: 0.7541586\ttest: 0.7367494\tbest: 0.7367494 (23498)\ttotal: 23m 26s\tremaining: 1m 29s\n",
      "23750:\tlearn: 0.7541711\ttest: 0.7367586\tbest: 0.7367586 (23750)\ttotal: 23m 41s\tremaining: 1m 14s\n",
      "24000:\tlearn: 0.7541827\ttest: 0.7367660\tbest: 0.7367660 (23997)\ttotal: 23m 55s\tremaining: 59.7s\n",
      "24250:\tlearn: 0.7541945\ttest: 0.7367743\tbest: 0.7367743 (24250)\ttotal: 24m 10s\tremaining: 44.8s\n",
      "24500:\tlearn: 0.7542065\ttest: 0.7367825\tbest: 0.7367825 (24499)\ttotal: 24m 25s\tremaining: 29.8s\n",
      "24750:\tlearn: 0.7542175\ttest: 0.7367890\tbest: 0.7367891 (24746)\ttotal: 24m 39s\tremaining: 14.9s\n",
      "24999:\tlearn: 0.7542276\ttest: 0.7367953\tbest: 0.7367953 (24999)\ttotal: 24m 54s\tremaining: 0us\n",
      "bestTest = 0.7367952764\n",
      "bestIteration = 24999\n",
      "kaggle_path /home/riiid/riiidNew/kaggle\n",
      "model.get_best_score()\n",
      "{'learn': {'Logloss': 0.5831425763098211, 'AUC': 0.7542276382446289}, 'validation': {'Logloss': 0.599964516913287, 'AUC': 0.7367952764034271}}\n"
     ]
    }
   ],
   "source": [
    "# Obtain new train_df and validation test_df\n",
    "# train_df = pd.read_feather(path/\"cv2_train.feather\", columns=config.dtypes.keys())\n",
    "train_df = pd.read_feather(path/\"train.feather\", columns=config.dtypes.keys())\n",
    "\n",
    "\n",
    "# Preprocess for model fitting\n",
    "train_user_agg, train_content_agg, train_df = preprocess_train_data(train_df, questions_df, config.target, config.dtypes)\n",
    "print(\"Preprocess for model fitting ok\")\n",
    "\n",
    "# Ratio is 6/24 = 25%\n",
    "test_df = train_df.groupby('user_id').tail(6)\n",
    "train_df.drop(test_df.index, inplace = True)\n",
    "\n",
    "# Training and validating data\n",
    "train_set = Pool(train_df[config.features], label = train_df[config.target], cat_features=config.cat_features)\n",
    "val_set = Pool(test_df[config.features], label = test_df[config.target], cat_features=config.cat_features)\n",
    "\n",
    "\n",
    "# val_set = Pool(valid_df[features], label = valid_df[target])\n",
    "params = param_adjust_dtypes(config.prior_params,\n",
    "                             config.pds_dtypes,\n",
    "                             optimizer_max[\"params\"])\n",
    "params[\"learning_rate\"] = 6e-3\n",
    "params['iterations'] = 25000\n",
    "\n",
    "print(\"params\")\n",
    "print(params)\n",
    "\n",
    "model = CatBoostClassifier(**params)\n",
    "\n",
    "# Fitting\n",
    "model.fit(train_set, eval_set = val_set, use_best_model = True)\n",
    "print(f\"kaggle_path {kaggle_path}\")\n",
    "\n",
    "model.save_model(f\"{kaggle_path/'catboost.{model_name}'}\")\n",
    "\n",
    "print(\"model.get_best_score()\")\n",
    "print(model.get_best_score())"
   ]
  },
  {
   "cell_type": "code",
   "execution_count": 10,
   "metadata": {},
   "outputs": [
    {
     "data": {
      "text/plain": [
       "{'learn': {'Logloss': 0.5845721639824528, 'AUC': 0.7526959180831909},\n",
       " 'validation': {'Logloss': 0.6011943007661212, 'AUC': 0.7355090975761414}}"
      ]
     },
     "execution_count": 10,
     "metadata": {},
     "output_type": "execute_result"
    }
   ],
   "source": [
    "# {'learn': {'Logloss': 0.5831425763098211, 'AUC': 0.7542276382446289}, 'validation': {'Logloss': 0.599964516913287, 'AUC': 0.7367952764034271}}"
   ]
  },
  {
   "cell_type": "code",
   "execution_count": 11,
   "metadata": {},
   "outputs": [
    {
     "data": {
      "text/plain": [
       "PosixPath('/home/riiid')"
      ]
     },
     "execution_count": 11,
     "metadata": {},
     "output_type": "execute_result"
    }
   ],
   "source": [
    "from pathlib import Path\n",
    "Path.home()"
   ]
  },
  {
   "cell_type": "markdown",
   "metadata": {
    "pycharm": {
     "name": "#%% md\n"
    }
   },
   "source": [
    "# Inference"
   ]
  },
  {
   "cell_type": "code",
   "execution_count": 12,
   "metadata": {
    "collapsed": false,
    "jupyter": {
     "outputs_hidden": false
    },
    "pycharm": {
     "name": "#%%\n"
    }
   },
   "outputs": [],
   "source": [
    "#!M\n",
    "import pickle\n",
    "\n",
    "user_sum_dict = train_user_agg['sum'].astype('int32').to_dict(defaultdict(int))\n",
    "user_count_dict = train_user_agg['count'].astype('int32').to_dict(defaultdict(int))\n",
    "content_sum_dict = train_content_agg['sum'].astype('int32').to_dict(defaultdict(int))\n",
    "content_count_dict = train_content_agg['count'].astype('int32').to_dict(defaultdict(int))\n",
    "\n",
    "for filename, dic in zip([\"user_sum_dict\", \"user_count_dict\", \"content_sum_dict\", \"content_count_dict\"],\n",
    "                         [user_sum_dict, user_count_dict, content_sum_dict, content_count_dict]):\n",
    "    with open(f'{kaggle_path}/{filename}.{model_name}.pickle', 'wb') as handle:\n",
    "        pickle.dump(dic, handle)"
   ]
  },
  {
   "cell_type": "code",
   "execution_count": 13,
   "metadata": {
    "collapsed": false,
    "jupyter": {
     "outputs_hidden": false
    },
    "pycharm": {
     "name": "#%%\n"
    }
   },
   "outputs": [
    {
     "data": {
      "text/plain": [
       "88"
      ]
     },
     "execution_count": 13,
     "metadata": {},
     "output_type": "execute_result"
    }
   ],
   "source": [
    "train_df.head()\n",
    "del train_df\n",
    "gc.collect()"
   ]
  },
  {
   "cell_type": "code",
   "execution_count": 14,
   "metadata": {
    "collapsed": false,
    "jupyter": {
     "outputs_hidden": false
    },
    "pycharm": {
     "name": "#%%\n"
    }
   },
   "outputs": [
    {
     "name": "stdout",
     "output_type": "stream",
     "text": [
      "CPU times: user 3.73 s, sys: 328 ms, total: 4.06 s\n",
      "Wall time: 3.84 s\n"
     ]
    }
   ],
   "source": [
    "%%time\n",
    "validaten_flg = True\n",
    "if validaten_flg:\n",
    "    from emulator import Iter_Valid\n",
    "    iter_test = Iter_Valid(test_df,max_user=1000)\n",
    "    predicted = []\n",
    "    def set_predict(df):\n",
    "        predicted.append(df)\n",
    "else:\n",
    "    import riiideducation\n",
    "    env = riiideducation.make_env()\n",
    "    iter_test = env.iter_test()\n",
    "    set_predict = env.predict"
   ]
  },
  {
   "cell_type": "code",
   "execution_count": 15,
   "metadata": {
    "pycharm": {
     "name": "#%%\n"
    }
   },
   "outputs": [
    {
     "ename": "KeyboardInterrupt",
     "evalue": "",
     "output_type": "error",
     "traceback": [
      "\u001b[0;31m---------------------------------------------------------------------------\u001b[0m",
      "\u001b[0;31mKeyboardInterrupt\u001b[0m                         Traceback (most recent call last)",
      "\u001b[0;32m<timed exec>\u001b[0m in \u001b[0;36m<module>\u001b[0;34m\u001b[0m\n",
      "\u001b[0;32m~/anaconda3/lib/python3.7/site-packages/pandas/core/frame.py\u001b[0m in \u001b[0;36m__getitem__\u001b[0;34m(self, key)\u001b[0m\n\u001b[1;32m   2810\u001b[0m             \u001b[0mindexer\u001b[0m \u001b[0;34m=\u001b[0m \u001b[0mnp\u001b[0m\u001b[0;34m.\u001b[0m\u001b[0mwhere\u001b[0m\u001b[0;34m(\u001b[0m\u001b[0mindexer\u001b[0m\u001b[0;34m)\u001b[0m\u001b[0;34m[\u001b[0m\u001b[0;36m0\u001b[0m\u001b[0;34m]\u001b[0m\u001b[0;34m\u001b[0m\u001b[0;34m\u001b[0m\u001b[0m\n\u001b[1;32m   2811\u001b[0m \u001b[0;34m\u001b[0m\u001b[0m\n\u001b[0;32m-> 2812\u001b[0;31m         \u001b[0mdata\u001b[0m \u001b[0;34m=\u001b[0m \u001b[0mself\u001b[0m\u001b[0;34m.\u001b[0m\u001b[0m_take_with_is_copy\u001b[0m\u001b[0;34m(\u001b[0m\u001b[0mindexer\u001b[0m\u001b[0;34m,\u001b[0m \u001b[0maxis\u001b[0m\u001b[0;34m=\u001b[0m\u001b[0;36m1\u001b[0m\u001b[0;34m)\u001b[0m\u001b[0;34m\u001b[0m\u001b[0;34m\u001b[0m\u001b[0m\n\u001b[0m\u001b[1;32m   2813\u001b[0m \u001b[0;34m\u001b[0m\u001b[0m\n\u001b[1;32m   2814\u001b[0m         \u001b[0;32mif\u001b[0m \u001b[0mis_single_key\u001b[0m\u001b[0;34m:\u001b[0m\u001b[0;34m\u001b[0m\u001b[0;34m\u001b[0m\u001b[0m\n",
      "\u001b[0;32m~/anaconda3/lib/python3.7/site-packages/pandas/core/generic.py\u001b[0m in \u001b[0;36m_take_with_is_copy\u001b[0;34m(self, indices, axis, **kwargs)\u001b[0m\n\u001b[1;32m   3407\u001b[0m         \u001b[0mSee\u001b[0m \u001b[0mthe\u001b[0m \u001b[0mdocstring\u001b[0m \u001b[0mof\u001b[0m\u001b[0;31m \u001b[0m\u001b[0;31m`\u001b[0m\u001b[0mtake\u001b[0m\u001b[0;31m`\u001b[0m \u001b[0;32mfor\u001b[0m \u001b[0mfull\u001b[0m \u001b[0mexplanation\u001b[0m \u001b[0mof\u001b[0m \u001b[0mthe\u001b[0m \u001b[0mparameters\u001b[0m\u001b[0;34m.\u001b[0m\u001b[0;34m\u001b[0m\u001b[0;34m\u001b[0m\u001b[0m\n\u001b[1;32m   3408\u001b[0m         \"\"\"\n\u001b[0;32m-> 3409\u001b[0;31m         \u001b[0mresult\u001b[0m \u001b[0;34m=\u001b[0m \u001b[0mself\u001b[0m\u001b[0;34m.\u001b[0m\u001b[0mtake\u001b[0m\u001b[0;34m(\u001b[0m\u001b[0mindices\u001b[0m\u001b[0;34m=\u001b[0m\u001b[0mindices\u001b[0m\u001b[0;34m,\u001b[0m \u001b[0maxis\u001b[0m\u001b[0;34m=\u001b[0m\u001b[0maxis\u001b[0m\u001b[0;34m,\u001b[0m \u001b[0;34m**\u001b[0m\u001b[0mkwargs\u001b[0m\u001b[0;34m)\u001b[0m\u001b[0;34m\u001b[0m\u001b[0;34m\u001b[0m\u001b[0m\n\u001b[0m\u001b[1;32m   3410\u001b[0m         \u001b[0;31m# Maybe set copy if we didn't actually change the index.\u001b[0m\u001b[0;34m\u001b[0m\u001b[0;34m\u001b[0m\u001b[0;34m\u001b[0m\u001b[0m\n\u001b[1;32m   3411\u001b[0m         \u001b[0;32mif\u001b[0m \u001b[0;32mnot\u001b[0m \u001b[0mresult\u001b[0m\u001b[0;34m.\u001b[0m\u001b[0m_get_axis\u001b[0m\u001b[0;34m(\u001b[0m\u001b[0maxis\u001b[0m\u001b[0;34m)\u001b[0m\u001b[0;34m.\u001b[0m\u001b[0mequals\u001b[0m\u001b[0;34m(\u001b[0m\u001b[0mself\u001b[0m\u001b[0;34m.\u001b[0m\u001b[0m_get_axis\u001b[0m\u001b[0;34m(\u001b[0m\u001b[0maxis\u001b[0m\u001b[0;34m)\u001b[0m\u001b[0;34m)\u001b[0m\u001b[0;34m:\u001b[0m\u001b[0;34m\u001b[0m\u001b[0;34m\u001b[0m\u001b[0m\n",
      "\u001b[0;32m~/anaconda3/lib/python3.7/site-packages/pandas/core/generic.py\u001b[0m in \u001b[0;36mtake\u001b[0;34m(self, indices, axis, is_copy, **kwargs)\u001b[0m\n\u001b[1;32m   3393\u001b[0m \u001b[0;34m\u001b[0m\u001b[0m\n\u001b[1;32m   3394\u001b[0m         new_data = self._data.take(\n\u001b[0;32m-> 3395\u001b[0;31m             \u001b[0mindices\u001b[0m\u001b[0;34m,\u001b[0m \u001b[0maxis\u001b[0m\u001b[0;34m=\u001b[0m\u001b[0mself\u001b[0m\u001b[0;34m.\u001b[0m\u001b[0m_get_block_manager_axis\u001b[0m\u001b[0;34m(\u001b[0m\u001b[0maxis\u001b[0m\u001b[0;34m)\u001b[0m\u001b[0;34m,\u001b[0m \u001b[0mverify\u001b[0m\u001b[0;34m=\u001b[0m\u001b[0;32mTrue\u001b[0m\u001b[0;34m\u001b[0m\u001b[0;34m\u001b[0m\u001b[0m\n\u001b[0m\u001b[1;32m   3396\u001b[0m         )\n\u001b[1;32m   3397\u001b[0m         \u001b[0;32mreturn\u001b[0m \u001b[0mself\u001b[0m\u001b[0;34m.\u001b[0m\u001b[0m_constructor\u001b[0m\u001b[0;34m(\u001b[0m\u001b[0mnew_data\u001b[0m\u001b[0;34m)\u001b[0m\u001b[0;34m.\u001b[0m\u001b[0m__finalize__\u001b[0m\u001b[0;34m(\u001b[0m\u001b[0mself\u001b[0m\u001b[0;34m)\u001b[0m\u001b[0;34m\u001b[0m\u001b[0;34m\u001b[0m\u001b[0m\n",
      "\u001b[0;32m~/anaconda3/lib/python3.7/site-packages/pandas/core/internals/managers.py\u001b[0m in \u001b[0;36mtake\u001b[0;34m(self, indexer, axis, verify, convert)\u001b[0m\n\u001b[1;32m   1392\u001b[0m         \u001b[0mnew_labels\u001b[0m \u001b[0;34m=\u001b[0m \u001b[0mself\u001b[0m\u001b[0;34m.\u001b[0m\u001b[0maxes\u001b[0m\u001b[0;34m[\u001b[0m\u001b[0maxis\u001b[0m\u001b[0;34m]\u001b[0m\u001b[0;34m.\u001b[0m\u001b[0mtake\u001b[0m\u001b[0;34m(\u001b[0m\u001b[0mindexer\u001b[0m\u001b[0;34m)\u001b[0m\u001b[0;34m\u001b[0m\u001b[0;34m\u001b[0m\u001b[0m\n\u001b[1;32m   1393\u001b[0m         return self.reindex_indexer(\n\u001b[0;32m-> 1394\u001b[0;31m             \u001b[0mnew_axis\u001b[0m\u001b[0;34m=\u001b[0m\u001b[0mnew_labels\u001b[0m\u001b[0;34m,\u001b[0m \u001b[0mindexer\u001b[0m\u001b[0;34m=\u001b[0m\u001b[0mindexer\u001b[0m\u001b[0;34m,\u001b[0m \u001b[0maxis\u001b[0m\u001b[0;34m=\u001b[0m\u001b[0maxis\u001b[0m\u001b[0;34m,\u001b[0m \u001b[0mallow_dups\u001b[0m\u001b[0;34m=\u001b[0m\u001b[0;32mTrue\u001b[0m\u001b[0;34m\u001b[0m\u001b[0;34m\u001b[0m\u001b[0m\n\u001b[0m\u001b[1;32m   1395\u001b[0m         )\n\u001b[1;32m   1396\u001b[0m \u001b[0;34m\u001b[0m\u001b[0m\n",
      "\u001b[0;32m~/anaconda3/lib/python3.7/site-packages/pandas/core/internals/managers.py\u001b[0m in \u001b[0;36mreindex_indexer\u001b[0;34m(self, new_axis, indexer, axis, fill_value, allow_dups, copy)\u001b[0m\n\u001b[1;32m   1255\u001b[0m \u001b[0;34m\u001b[0m\u001b[0m\n\u001b[1;32m   1256\u001b[0m         \u001b[0;32mif\u001b[0m \u001b[0maxis\u001b[0m \u001b[0;34m==\u001b[0m \u001b[0;36m0\u001b[0m\u001b[0;34m:\u001b[0m\u001b[0;34m\u001b[0m\u001b[0;34m\u001b[0m\u001b[0m\n\u001b[0;32m-> 1257\u001b[0;31m             \u001b[0mnew_blocks\u001b[0m \u001b[0;34m=\u001b[0m \u001b[0mself\u001b[0m\u001b[0;34m.\u001b[0m\u001b[0m_slice_take_blocks_ax0\u001b[0m\u001b[0;34m(\u001b[0m\u001b[0mindexer\u001b[0m\u001b[0;34m,\u001b[0m \u001b[0mfill_tuple\u001b[0m\u001b[0;34m=\u001b[0m\u001b[0;34m(\u001b[0m\u001b[0mfill_value\u001b[0m\u001b[0;34m,\u001b[0m\u001b[0;34m)\u001b[0m\u001b[0;34m)\u001b[0m\u001b[0;34m\u001b[0m\u001b[0;34m\u001b[0m\u001b[0m\n\u001b[0m\u001b[1;32m   1258\u001b[0m         \u001b[0;32melse\u001b[0m\u001b[0;34m:\u001b[0m\u001b[0;34m\u001b[0m\u001b[0;34m\u001b[0m\u001b[0m\n\u001b[1;32m   1259\u001b[0m             new_blocks = [\n",
      "\u001b[0;32m~/anaconda3/lib/python3.7/site-packages/pandas/core/internals/managers.py\u001b[0m in \u001b[0;36m_slice_take_blocks_ax0\u001b[0;34m(self, slice_or_indexer, fill_tuple)\u001b[0m\n\u001b[1;32m   1352\u001b[0m                             \u001b[0maxis\u001b[0m\u001b[0;34m=\u001b[0m\u001b[0;36m0\u001b[0m\u001b[0;34m,\u001b[0m\u001b[0;34m\u001b[0m\u001b[0;34m\u001b[0m\u001b[0m\n\u001b[1;32m   1353\u001b[0m                             \u001b[0mnew_mgr_locs\u001b[0m\u001b[0;34m=\u001b[0m\u001b[0mmgr_locs\u001b[0m\u001b[0;34m,\u001b[0m\u001b[0;34m\u001b[0m\u001b[0;34m\u001b[0m\u001b[0m\n\u001b[0;32m-> 1354\u001b[0;31m                             \u001b[0mfill_tuple\u001b[0m\u001b[0;34m=\u001b[0m\u001b[0;32mNone\u001b[0m\u001b[0;34m,\u001b[0m\u001b[0;34m\u001b[0m\u001b[0;34m\u001b[0m\u001b[0m\n\u001b[0m\u001b[1;32m   1355\u001b[0m                         )\n\u001b[1;32m   1356\u001b[0m                     )\n",
      "\u001b[0;32m~/anaconda3/lib/python3.7/site-packages/pandas/core/internals/blocks.py\u001b[0m in \u001b[0;36mtake_nd\u001b[0;34m(self, indexer, axis, new_mgr_locs, fill_tuple)\u001b[0m\n\u001b[1;32m   1301\u001b[0m             \u001b[0;32mreturn\u001b[0m \u001b[0mself\u001b[0m\u001b[0;34m.\u001b[0m\u001b[0mmake_block\u001b[0m\u001b[0;34m(\u001b[0m\u001b[0mnew_values\u001b[0m\u001b[0;34m,\u001b[0m \u001b[0mnew_mgr_locs\u001b[0m\u001b[0;34m)\u001b[0m\u001b[0;34m\u001b[0m\u001b[0;34m\u001b[0m\u001b[0m\n\u001b[1;32m   1302\u001b[0m         \u001b[0;32melse\u001b[0m\u001b[0;34m:\u001b[0m\u001b[0;34m\u001b[0m\u001b[0;34m\u001b[0m\u001b[0m\n\u001b[0;32m-> 1303\u001b[0;31m             \u001b[0;32mreturn\u001b[0m \u001b[0mself\u001b[0m\u001b[0;34m.\u001b[0m\u001b[0mmake_block_same_class\u001b[0m\u001b[0;34m(\u001b[0m\u001b[0mnew_values\u001b[0m\u001b[0;34m,\u001b[0m \u001b[0mnew_mgr_locs\u001b[0m\u001b[0;34m)\u001b[0m\u001b[0;34m\u001b[0m\u001b[0;34m\u001b[0m\u001b[0m\n\u001b[0m\u001b[1;32m   1304\u001b[0m \u001b[0;34m\u001b[0m\u001b[0m\n\u001b[1;32m   1305\u001b[0m     \u001b[0;32mdef\u001b[0m \u001b[0mdiff\u001b[0m\u001b[0;34m(\u001b[0m\u001b[0mself\u001b[0m\u001b[0;34m,\u001b[0m \u001b[0mn\u001b[0m\u001b[0;34m:\u001b[0m \u001b[0mint\u001b[0m\u001b[0;34m,\u001b[0m \u001b[0maxis\u001b[0m\u001b[0;34m:\u001b[0m \u001b[0mint\u001b[0m \u001b[0;34m=\u001b[0m \u001b[0;36m1\u001b[0m\u001b[0;34m)\u001b[0m \u001b[0;34m->\u001b[0m \u001b[0mList\u001b[0m\u001b[0;34m[\u001b[0m\u001b[0;34m\"Block\"\u001b[0m\u001b[0;34m]\u001b[0m\u001b[0;34m:\u001b[0m\u001b[0;34m\u001b[0m\u001b[0;34m\u001b[0m\u001b[0m\n",
      "\u001b[0;32m~/anaconda3/lib/python3.7/site-packages/pandas/core/internals/blocks.py\u001b[0m in \u001b[0;36mmake_block_same_class\u001b[0;34m(self, values, placement, ndim)\u001b[0m\n\u001b[1;32m    279\u001b[0m         \u001b[0;32mif\u001b[0m \u001b[0mndim\u001b[0m \u001b[0;32mis\u001b[0m \u001b[0;32mNone\u001b[0m\u001b[0;34m:\u001b[0m\u001b[0;34m\u001b[0m\u001b[0;34m\u001b[0m\u001b[0m\n\u001b[1;32m    280\u001b[0m             \u001b[0mndim\u001b[0m \u001b[0;34m=\u001b[0m \u001b[0mself\u001b[0m\u001b[0;34m.\u001b[0m\u001b[0mndim\u001b[0m\u001b[0;34m\u001b[0m\u001b[0;34m\u001b[0m\u001b[0m\n\u001b[0;32m--> 281\u001b[0;31m         \u001b[0;32mreturn\u001b[0m \u001b[0mmake_block\u001b[0m\u001b[0;34m(\u001b[0m\u001b[0mvalues\u001b[0m\u001b[0;34m,\u001b[0m \u001b[0mplacement\u001b[0m\u001b[0;34m=\u001b[0m\u001b[0mplacement\u001b[0m\u001b[0;34m,\u001b[0m \u001b[0mndim\u001b[0m\u001b[0;34m=\u001b[0m\u001b[0mndim\u001b[0m\u001b[0;34m,\u001b[0m \u001b[0mklass\u001b[0m\u001b[0;34m=\u001b[0m\u001b[0mtype\u001b[0m\u001b[0;34m(\u001b[0m\u001b[0mself\u001b[0m\u001b[0;34m)\u001b[0m\u001b[0;34m)\u001b[0m\u001b[0;34m\u001b[0m\u001b[0;34m\u001b[0m\u001b[0m\n\u001b[0m\u001b[1;32m    282\u001b[0m \u001b[0;34m\u001b[0m\u001b[0m\n\u001b[1;32m    283\u001b[0m     \u001b[0;32mdef\u001b[0m \u001b[0m__repr__\u001b[0m\u001b[0;34m(\u001b[0m\u001b[0mself\u001b[0m\u001b[0;34m)\u001b[0m \u001b[0;34m->\u001b[0m \u001b[0mstr\u001b[0m\u001b[0;34m:\u001b[0m\u001b[0;34m\u001b[0m\u001b[0;34m\u001b[0m\u001b[0m\n",
      "\u001b[0;32m~/anaconda3/lib/python3.7/site-packages/pandas/core/internals/blocks.py\u001b[0m in \u001b[0;36mmake_block\u001b[0;34m(values, placement, klass, ndim, dtype)\u001b[0m\n\u001b[1;32m   3039\u001b[0m         \u001b[0mvalues\u001b[0m \u001b[0;34m=\u001b[0m \u001b[0mDatetimeArray\u001b[0m\u001b[0;34m.\u001b[0m\u001b[0m_simple_new\u001b[0m\u001b[0;34m(\u001b[0m\u001b[0mvalues\u001b[0m\u001b[0;34m,\u001b[0m \u001b[0mdtype\u001b[0m\u001b[0;34m=\u001b[0m\u001b[0mdtype\u001b[0m\u001b[0;34m)\u001b[0m\u001b[0;34m\u001b[0m\u001b[0;34m\u001b[0m\u001b[0m\n\u001b[1;32m   3040\u001b[0m \u001b[0;34m\u001b[0m\u001b[0m\n\u001b[0;32m-> 3041\u001b[0;31m     \u001b[0;32mreturn\u001b[0m \u001b[0mklass\u001b[0m\u001b[0;34m(\u001b[0m\u001b[0mvalues\u001b[0m\u001b[0;34m,\u001b[0m \u001b[0mndim\u001b[0m\u001b[0;34m=\u001b[0m\u001b[0mndim\u001b[0m\u001b[0;34m,\u001b[0m \u001b[0mplacement\u001b[0m\u001b[0;34m=\u001b[0m\u001b[0mplacement\u001b[0m\u001b[0;34m)\u001b[0m\u001b[0;34m\u001b[0m\u001b[0;34m\u001b[0m\u001b[0m\n\u001b[0m\u001b[1;32m   3042\u001b[0m \u001b[0;34m\u001b[0m\u001b[0m\n\u001b[1;32m   3043\u001b[0m \u001b[0;34m\u001b[0m\u001b[0m\n",
      "\u001b[0;32m~/anaconda3/lib/python3.7/site-packages/pandas/core/internals/blocks.py\u001b[0m in \u001b[0;36m__init__\u001b[0;34m(self, values, placement, ndim)\u001b[0m\n\u001b[1;32m    121\u001b[0m         \u001b[0mself\u001b[0m\u001b[0;34m.\u001b[0m\u001b[0mvalues\u001b[0m \u001b[0;34m=\u001b[0m \u001b[0mvalues\u001b[0m\u001b[0;34m\u001b[0m\u001b[0;34m\u001b[0m\u001b[0m\n\u001b[1;32m    122\u001b[0m \u001b[0;34m\u001b[0m\u001b[0m\n\u001b[0;32m--> 123\u001b[0;31m         \u001b[0;32mif\u001b[0m \u001b[0mself\u001b[0m\u001b[0;34m.\u001b[0m\u001b[0m_validate_ndim\u001b[0m \u001b[0;32mand\u001b[0m \u001b[0mself\u001b[0m\u001b[0;34m.\u001b[0m\u001b[0mndim\u001b[0m \u001b[0;32mand\u001b[0m \u001b[0mlen\u001b[0m\u001b[0;34m(\u001b[0m\u001b[0mself\u001b[0m\u001b[0;34m.\u001b[0m\u001b[0mmgr_locs\u001b[0m\u001b[0;34m)\u001b[0m \u001b[0;34m!=\u001b[0m \u001b[0mlen\u001b[0m\u001b[0;34m(\u001b[0m\u001b[0mself\u001b[0m\u001b[0;34m.\u001b[0m\u001b[0mvalues\u001b[0m\u001b[0;34m)\u001b[0m\u001b[0;34m:\u001b[0m\u001b[0;34m\u001b[0m\u001b[0;34m\u001b[0m\u001b[0m\n\u001b[0m\u001b[1;32m    124\u001b[0m             raise ValueError(\n\u001b[1;32m    125\u001b[0m                 \u001b[0;34mf\"Wrong number of items passed {len(self.values)}, \"\u001b[0m\u001b[0;34m\u001b[0m\u001b[0;34m\u001b[0m\u001b[0m\n",
      "\u001b[0;32m~/anaconda3/lib/python3.7/site-packages/pandas/core/internals/blocks.py\u001b[0m in \u001b[0;36mmgr_locs\u001b[0;34m(self)\u001b[0m\n\u001b[1;32m    245\u001b[0m         \u001b[0;32mreturn\u001b[0m \u001b[0mnp\u001b[0m\u001b[0;34m.\u001b[0m\u001b[0mnan\u001b[0m\u001b[0;34m\u001b[0m\u001b[0;34m\u001b[0m\u001b[0m\n\u001b[1;32m    246\u001b[0m \u001b[0;34m\u001b[0m\u001b[0m\n\u001b[0;32m--> 247\u001b[0;31m     \u001b[0;34m@\u001b[0m\u001b[0mproperty\u001b[0m\u001b[0;34m\u001b[0m\u001b[0;34m\u001b[0m\u001b[0m\n\u001b[0m\u001b[1;32m    248\u001b[0m     \u001b[0;32mdef\u001b[0m \u001b[0mmgr_locs\u001b[0m\u001b[0;34m(\u001b[0m\u001b[0mself\u001b[0m\u001b[0;34m)\u001b[0m\u001b[0;34m:\u001b[0m\u001b[0;34m\u001b[0m\u001b[0;34m\u001b[0m\u001b[0m\n\u001b[1;32m    249\u001b[0m         \u001b[0;32mreturn\u001b[0m \u001b[0mself\u001b[0m\u001b[0;34m.\u001b[0m\u001b[0m_mgr_locs\u001b[0m\u001b[0;34m\u001b[0m\u001b[0;34m\u001b[0m\u001b[0m\n",
      "\u001b[0;31mKeyboardInterrupt\u001b[0m: "
     ]
    }
   ],
   "source": [
    "%%time\n",
    "\n",
    "prior_test_df = None\n",
    "for (test_df, sample_prediction_df) in iter_test:\n",
    "    if prior_test_df is not None:\n",
    "        prior_test_df[config.target] = eval(test_df['prior_group_answers_correct'].iloc[0])\n",
    "        prior_test_df = prior_test_df[prior_test_df[config.target] != -1].reset_index(drop = True)\n",
    "\n",
    "        user_ids = prior_test_df['user_id'].values\n",
    "        content_ids = prior_test_df['content_id'].values\n",
    "        targets = prior_test_df[config.target].values\n",
    "\n",
    "        # for user_id, content_id, answered_correctly in prior_test_df[[\"user_id\", \"content_id\", target]].values:\n",
    "        for user_id, content_id, answered_correctly in zip(user_ids, content_ids, targets):\n",
    "            user_sum_dict[user_id] += answered_correctly\n",
    "            user_count_dict[user_id] += 1\n",
    "            content_sum_dict[content_id] += answered_correctly\n",
    "            content_count_dict[content_id] += 1\n",
    "\n",
    "    prior_test_df = test_df.copy()\n",
    "\n",
    "    test_df = test_df[test_df['content_type_id'] == 0].reset_index(drop = True)\n",
    "    test_df.drop(labels=\"part\", axis=1, inplace=True)\n",
    "    test_df.content_id = test_df.content_id.astype(int)\n",
    "\n",
    "    test_df = pd.merge(test_df, questions_df, left_on = 'content_id', right_on = 'question_id', how = 'left')\n",
    "    test_df['prior_question_had_explanation'] = test_df['prior_question_had_explanation'].fillna(False).astype('bool')\n",
    "    user_sum = np.zeros(len(test_df), dtype = np.int32)\n",
    "    user_count = np.zeros(len(test_df), dtype = np.int32)\n",
    "    content_sum = np.zeros(len(test_df), dtype = np.int32)\n",
    "    content_count = np.zeros(len(test_df), dtype = np.int32)\n",
    "\n",
    "    for i, (user_id, content_id) in enumerate(zip(test_df['user_id'].values, test_df['content_id'].values)):\n",
    "        user_sum[i] = user_sum_dict[user_id]\n",
    "        user_count[i] = user_count_dict[user_id]\n",
    "        content_sum[i] = content_sum_dict[content_id]\n",
    "        content_count[i] = content_count_dict[content_id]\n",
    "\n",
    "    test_df['user_correctness'] = user_sum / user_count\n",
    "    test_df['content_count'] = content_count\n",
    "    test_df['content_id'] = content_sum / content_count\n",
    "    test_df[config.target] = model.predict_proba(test_df[config.features])[:,1]\n",
    "    set_predict(test_df[['row_id', config.target]])"
   ]
  }
 ],
 "metadata": {
  "kernelspec": {
   "display_name": "Python 3",
   "language": "python",
   "name": "python3"
  },
  "language_info": {
   "codemirror_mode": {
    "name": "ipython",
    "version": 3
   },
   "file_extension": ".py",
   "mimetype": "text/x-python",
   "name": "python",
   "nbconvert_exporter": "python",
   "pygments_lexer": "ipython3",
   "version": "3.7.6"
  }
 },
 "nbformat": 4,
 "nbformat_minor": 4
}
